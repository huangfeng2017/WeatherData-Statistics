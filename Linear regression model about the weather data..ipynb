{
 "cells": [
  {
   "cell_type": "markdown",
   "metadata": {},
   "source": [
    "### Load modules"
   ]
  },
  {
   "cell_type": "code",
   "execution_count": 17,
   "metadata": {
    "collapsed": true
   },
   "outputs": [],
   "source": [
    "import pandas as pd\n",
    "import matplotlib.pyplot as plt\n",
    "import seaborn as sns  \n",
    "import numpy as np\n",
    "from scipy import stats\n",
    "import pylab\n",
    "from sklearn import linear_model\n",
    "from sklearn.linear_model import LinearRegression\n",
    "%matplotlib inline"
   ]
  },
  {
   "cell_type": "markdown",
   "metadata": {},
   "source": [
    "### General description"
   ]
  },
  {
   "cell_type": "markdown",
   "metadata": {},
   "source": [
    "The following dataset is the rain and temperature data from January to December for the period of 1961-2000, which is from four county meteorological stations representing Mengla, Menglun, Menghai, Jinghong:"
   ]
  },
  {
   "cell_type": "markdown",
   "metadata": {},
   "source": [
    "#### Variable tag description:\n",
    "- Mla=Mengla;  Mlun=Menglun;  Mhai=Menghai;  Jhong=Jinghong.\n",
    "- R=monthly rainfall; AT=monthly temperature; 01,02,...,12 means 12 months from January to December."
   ]
  },
  {
   "cell_type": "code",
   "execution_count": 18,
   "metadata": {},
   "outputs": [
    {
     "data": {
      "text/html": [
       "<div>\n",
       "<table border=\"1\" class=\"dataframe\">\n",
       "  <thead>\n",
       "    <tr style=\"text-align: right;\">\n",
       "      <th></th>\n",
       "      <th>MlaR01</th>\n",
       "      <th>MlaR02</th>\n",
       "      <th>MlaR03</th>\n",
       "      <th>MlaR04</th>\n",
       "      <th>MlaR05</th>\n",
       "      <th>MlaR06</th>\n",
       "      <th>MlaR07</th>\n",
       "      <th>MlaR08</th>\n",
       "      <th>MlaR09</th>\n",
       "      <th>MlaR10</th>\n",
       "      <th>...</th>\n",
       "      <th>JhongAT3</th>\n",
       "      <th>JhongAT4</th>\n",
       "      <th>JhongAT5</th>\n",
       "      <th>JhongAT6</th>\n",
       "      <th>JhongAT7</th>\n",
       "      <th>JhongAT8</th>\n",
       "      <th>JhongAT9</th>\n",
       "      <th>JhongAT10</th>\n",
       "      <th>JhongAT11</th>\n",
       "      <th>JhongAT12</th>\n",
       "    </tr>\n",
       "  </thead>\n",
       "  <tbody>\n",
       "    <tr>\n",
       "      <th>0</th>\n",
       "      <td>4.8</td>\n",
       "      <td>46.8</td>\n",
       "      <td>41.4</td>\n",
       "      <td>97.7</td>\n",
       "      <td>262.8</td>\n",
       "      <td>205.4</td>\n",
       "      <td>215.5</td>\n",
       "      <td>415.2</td>\n",
       "      <td>245.1</td>\n",
       "      <td>21.5</td>\n",
       "      <td>...</td>\n",
       "      <td>21.3</td>\n",
       "      <td>24.2</td>\n",
       "      <td>25.8</td>\n",
       "      <td>26.0</td>\n",
       "      <td>25.6</td>\n",
       "      <td>24.8</td>\n",
       "      <td>24.1</td>\n",
       "      <td>22.9</td>\n",
       "      <td>19.0</td>\n",
       "      <td>16.7</td>\n",
       "    </tr>\n",
       "    <tr>\n",
       "      <th>1</th>\n",
       "      <td>12.9</td>\n",
       "      <td>45.0</td>\n",
       "      <td>16.8</td>\n",
       "      <td>105.3</td>\n",
       "      <td>166.0</td>\n",
       "      <td>258.6</td>\n",
       "      <td>91.0</td>\n",
       "      <td>330.9</td>\n",
       "      <td>93.0</td>\n",
       "      <td>115.8</td>\n",
       "      <td>...</td>\n",
       "      <td>19.4</td>\n",
       "      <td>24.4</td>\n",
       "      <td>26.1</td>\n",
       "      <td>25.1</td>\n",
       "      <td>25.6</td>\n",
       "      <td>24.5</td>\n",
       "      <td>23.9</td>\n",
       "      <td>22.1</td>\n",
       "      <td>18.8</td>\n",
       "      <td>15.4</td>\n",
       "    </tr>\n",
       "    <tr>\n",
       "      <th>2</th>\n",
       "      <td>3.3</td>\n",
       "      <td>5.2</td>\n",
       "      <td>42.0</td>\n",
       "      <td>114.7</td>\n",
       "      <td>90.0</td>\n",
       "      <td>314.1</td>\n",
       "      <td>363.8</td>\n",
       "      <td>350.6</td>\n",
       "      <td>72.9</td>\n",
       "      <td>228.1</td>\n",
       "      <td>...</td>\n",
       "      <td>20.4</td>\n",
       "      <td>24.0</td>\n",
       "      <td>26.3</td>\n",
       "      <td>25.9</td>\n",
       "      <td>25.3</td>\n",
       "      <td>24.6</td>\n",
       "      <td>25.0</td>\n",
       "      <td>22.0</td>\n",
       "      <td>19.4</td>\n",
       "      <td>15.4</td>\n",
       "    </tr>\n",
       "    <tr>\n",
       "      <th>3</th>\n",
       "      <td>6.1</td>\n",
       "      <td>9.7</td>\n",
       "      <td>46.5</td>\n",
       "      <td>88.7</td>\n",
       "      <td>125.4</td>\n",
       "      <td>335.7</td>\n",
       "      <td>448.6</td>\n",
       "      <td>241.5</td>\n",
       "      <td>104.6</td>\n",
       "      <td>155.6</td>\n",
       "      <td>...</td>\n",
       "      <td>20.5</td>\n",
       "      <td>23.7</td>\n",
       "      <td>24.8</td>\n",
       "      <td>25.1</td>\n",
       "      <td>24.2</td>\n",
       "      <td>24.9</td>\n",
       "      <td>24.7</td>\n",
       "      <td>23.3</td>\n",
       "      <td>18.8</td>\n",
       "      <td>15.1</td>\n",
       "    </tr>\n",
       "    <tr>\n",
       "      <th>4</th>\n",
       "      <td>19.2</td>\n",
       "      <td>28.3</td>\n",
       "      <td>19.8</td>\n",
       "      <td>44.1</td>\n",
       "      <td>176.2</td>\n",
       "      <td>228.2</td>\n",
       "      <td>340.3</td>\n",
       "      <td>235.8</td>\n",
       "      <td>194.2</td>\n",
       "      <td>128.6</td>\n",
       "      <td>...</td>\n",
       "      <td>20.2</td>\n",
       "      <td>24.3</td>\n",
       "      <td>25.9</td>\n",
       "      <td>25.3</td>\n",
       "      <td>25.4</td>\n",
       "      <td>24.3</td>\n",
       "      <td>24.1</td>\n",
       "      <td>22.2</td>\n",
       "      <td>18.5</td>\n",
       "      <td>17.4</td>\n",
       "    </tr>\n",
       "  </tbody>\n",
       "</table>\n",
       "<p>5 rows × 96 columns</p>\n",
       "</div>"
      ],
      "text/plain": [
       "   MlaR01  MlaR02  MlaR03  MlaR04  MlaR05  MlaR06  MlaR07  MlaR08  MlaR09  \\\n",
       "0     4.8    46.8    41.4    97.7   262.8   205.4   215.5   415.2   245.1   \n",
       "1    12.9    45.0    16.8   105.3   166.0   258.6    91.0   330.9    93.0   \n",
       "2     3.3     5.2    42.0   114.7    90.0   314.1   363.8   350.6    72.9   \n",
       "3     6.1     9.7    46.5    88.7   125.4   335.7   448.6   241.5   104.6   \n",
       "4    19.2    28.3    19.8    44.1   176.2   228.2   340.3   235.8   194.2   \n",
       "\n",
       "   MlaR10    ...      JhongAT3  JhongAT4  JhongAT5  JhongAT6  JhongAT7  \\\n",
       "0    21.5    ...          21.3      24.2      25.8      26.0      25.6   \n",
       "1   115.8    ...          19.4      24.4      26.1      25.1      25.6   \n",
       "2   228.1    ...          20.4      24.0      26.3      25.9      25.3   \n",
       "3   155.6    ...          20.5      23.7      24.8      25.1      24.2   \n",
       "4   128.6    ...          20.2      24.3      25.9      25.3      25.4   \n",
       "\n",
       "   JhongAT8  JhongAT9  JhongAT10  JhongAT11  JhongAT12  \n",
       "0      24.8      24.1       22.9       19.0       16.7  \n",
       "1      24.5      23.9       22.1       18.8       15.4  \n",
       "2      24.6      25.0       22.0       19.4       15.4  \n",
       "3      24.9      24.7       23.3       18.8       15.1  \n",
       "4      24.3      24.1       22.2       18.5       17.4  \n",
       "\n",
       "[5 rows x 96 columns]"
      ]
     },
     "execution_count": 18,
     "metadata": {},
     "output_type": "execute_result"
    }
   ],
   "source": [
    "# load the dataset\n",
    "df=pd.read_csv('C:/Users/Administrator/Desktop/Python/exercise/WeatherData(1961-2000)/Rain and Temperature Data.csv',header=0)\n",
    "df.head()"
   ]
  },
  {
   "cell_type": "markdown",
   "metadata": {},
   "source": [
    "### Example:  The Mla weather dataset"
   ]
  },
  {
   "cell_type": "markdown",
   "metadata": {},
   "source": [
    "The following shows all the monthly rain and air temperature data for the period of 1961-2000 in Mla:"
   ]
  },
  {
   "cell_type": "code",
   "execution_count": 19,
   "metadata": {},
   "outputs": [
    {
     "data": {
      "text/html": [
       "<div>\n",
       "<table border=\"1\" class=\"dataframe\">\n",
       "  <thead>\n",
       "    <tr style=\"text-align: right;\">\n",
       "      <th></th>\n",
       "      <th>MlaR01</th>\n",
       "      <th>MlaR02</th>\n",
       "      <th>MlaR03</th>\n",
       "      <th>MlaR04</th>\n",
       "      <th>MlaR05</th>\n",
       "      <th>MlaR06</th>\n",
       "      <th>MlaR07</th>\n",
       "      <th>MlaR08</th>\n",
       "      <th>MlaR09</th>\n",
       "      <th>MlaR10</th>\n",
       "      <th>...</th>\n",
       "      <th>MlaAT03</th>\n",
       "      <th>MlaAT04</th>\n",
       "      <th>MlaAT05</th>\n",
       "      <th>MlaAT06</th>\n",
       "      <th>MlaAT07</th>\n",
       "      <th>MlaAT08</th>\n",
       "      <th>MlaAT09</th>\n",
       "      <th>MlaAT10</th>\n",
       "      <th>MlaAT11</th>\n",
       "      <th>MlaAT12</th>\n",
       "    </tr>\n",
       "  </thead>\n",
       "  <tbody>\n",
       "    <tr>\n",
       "      <th>0</th>\n",
       "      <td>4.8</td>\n",
       "      <td>46.8</td>\n",
       "      <td>41.4</td>\n",
       "      <td>97.7</td>\n",
       "      <td>262.8</td>\n",
       "      <td>205.4</td>\n",
       "      <td>215.5</td>\n",
       "      <td>415.2</td>\n",
       "      <td>245.1</td>\n",
       "      <td>21.5</td>\n",
       "      <td>...</td>\n",
       "      <td>20.5</td>\n",
       "      <td>22.9</td>\n",
       "      <td>24.5</td>\n",
       "      <td>24.4</td>\n",
       "      <td>24.8</td>\n",
       "      <td>24.2</td>\n",
       "      <td>23.6</td>\n",
       "      <td>22.2</td>\n",
       "      <td>18.7</td>\n",
       "      <td>16.2</td>\n",
       "    </tr>\n",
       "    <tr>\n",
       "      <th>1</th>\n",
       "      <td>12.9</td>\n",
       "      <td>45.0</td>\n",
       "      <td>16.8</td>\n",
       "      <td>105.3</td>\n",
       "      <td>166.0</td>\n",
       "      <td>258.6</td>\n",
       "      <td>91.0</td>\n",
       "      <td>330.9</td>\n",
       "      <td>93.0</td>\n",
       "      <td>115.8</td>\n",
       "      <td>...</td>\n",
       "      <td>18.0</td>\n",
       "      <td>22.5</td>\n",
       "      <td>24.4</td>\n",
       "      <td>24.5</td>\n",
       "      <td>25.1</td>\n",
       "      <td>24.4</td>\n",
       "      <td>23.4</td>\n",
       "      <td>21.4</td>\n",
       "      <td>18.6</td>\n",
       "      <td>14.7</td>\n",
       "    </tr>\n",
       "    <tr>\n",
       "      <th>2</th>\n",
       "      <td>3.3</td>\n",
       "      <td>5.2</td>\n",
       "      <td>42.0</td>\n",
       "      <td>114.7</td>\n",
       "      <td>90.0</td>\n",
       "      <td>314.1</td>\n",
       "      <td>363.8</td>\n",
       "      <td>350.6</td>\n",
       "      <td>72.9</td>\n",
       "      <td>228.1</td>\n",
       "      <td>...</td>\n",
       "      <td>18.8</td>\n",
       "      <td>21.9</td>\n",
       "      <td>24.3</td>\n",
       "      <td>24.6</td>\n",
       "      <td>24.7</td>\n",
       "      <td>24.0</td>\n",
       "      <td>24.4</td>\n",
       "      <td>21.4</td>\n",
       "      <td>19.2</td>\n",
       "      <td>15.3</td>\n",
       "    </tr>\n",
       "    <tr>\n",
       "      <th>3</th>\n",
       "      <td>6.1</td>\n",
       "      <td>9.7</td>\n",
       "      <td>46.5</td>\n",
       "      <td>88.7</td>\n",
       "      <td>125.4</td>\n",
       "      <td>335.7</td>\n",
       "      <td>448.6</td>\n",
       "      <td>241.5</td>\n",
       "      <td>104.6</td>\n",
       "      <td>155.6</td>\n",
       "      <td>...</td>\n",
       "      <td>19.7</td>\n",
       "      <td>22.4</td>\n",
       "      <td>24.0</td>\n",
       "      <td>24.4</td>\n",
       "      <td>23.8</td>\n",
       "      <td>24.2</td>\n",
       "      <td>23.6</td>\n",
       "      <td>22.7</td>\n",
       "      <td>17.8</td>\n",
       "      <td>14.7</td>\n",
       "    </tr>\n",
       "    <tr>\n",
       "      <th>4</th>\n",
       "      <td>19.2</td>\n",
       "      <td>28.3</td>\n",
       "      <td>19.8</td>\n",
       "      <td>44.1</td>\n",
       "      <td>176.2</td>\n",
       "      <td>228.2</td>\n",
       "      <td>340.3</td>\n",
       "      <td>235.8</td>\n",
       "      <td>194.2</td>\n",
       "      <td>128.6</td>\n",
       "      <td>...</td>\n",
       "      <td>18.8</td>\n",
       "      <td>22.6</td>\n",
       "      <td>24.3</td>\n",
       "      <td>24.3</td>\n",
       "      <td>24.4</td>\n",
       "      <td>23.6</td>\n",
       "      <td>23.2</td>\n",
       "      <td>21.6</td>\n",
       "      <td>18.1</td>\n",
       "      <td>16.9</td>\n",
       "    </tr>\n",
       "  </tbody>\n",
       "</table>\n",
       "<p>5 rows × 24 columns</p>\n",
       "</div>"
      ],
      "text/plain": [
       "   MlaR01  MlaR02  MlaR03  MlaR04  MlaR05  MlaR06  MlaR07  MlaR08  MlaR09  \\\n",
       "0     4.8    46.8    41.4    97.7   262.8   205.4   215.5   415.2   245.1   \n",
       "1    12.9    45.0    16.8   105.3   166.0   258.6    91.0   330.9    93.0   \n",
       "2     3.3     5.2    42.0   114.7    90.0   314.1   363.8   350.6    72.9   \n",
       "3     6.1     9.7    46.5    88.7   125.4   335.7   448.6   241.5   104.6   \n",
       "4    19.2    28.3    19.8    44.1   176.2   228.2   340.3   235.8   194.2   \n",
       "\n",
       "   MlaR10   ...     MlaAT03  MlaAT04  MlaAT05  MlaAT06  MlaAT07  MlaAT08  \\\n",
       "0    21.5   ...        20.5     22.9     24.5     24.4     24.8     24.2   \n",
       "1   115.8   ...        18.0     22.5     24.4     24.5     25.1     24.4   \n",
       "2   228.1   ...        18.8     21.9     24.3     24.6     24.7     24.0   \n",
       "3   155.6   ...        19.7     22.4     24.0     24.4     23.8     24.2   \n",
       "4   128.6   ...        18.8     22.6     24.3     24.3     24.4     23.6   \n",
       "\n",
       "   MlaAT09  MlaAT10  MlaAT11  MlaAT12  \n",
       "0     23.6     22.2     18.7     16.2  \n",
       "1     23.4     21.4     18.6     14.7  \n",
       "2     24.4     21.4     19.2     15.3  \n",
       "3     23.6     22.7     17.8     14.7  \n",
       "4     23.2     21.6     18.1     16.9  \n",
       "\n",
       "[5 rows x 24 columns]"
      ]
     },
     "execution_count": 19,
     "metadata": {},
     "output_type": "execute_result"
    }
   ],
   "source": [
    "# rows and columns can be retrieved by location using .iloc[]\n",
    "# get rows from 0 to 40, and columns from 0 to 24\n",
    "Mla=df.iloc[:40,0:24]\n",
    "Mla.head() # show the first 5 years' data"
   ]
  },
  {
   "cell_type": "code",
   "execution_count": 20,
   "metadata": {},
   "outputs": [
    {
     "data": {
      "text/html": [
       "<div>\n",
       "<table border=\"1\" class=\"dataframe\">\n",
       "  <thead>\n",
       "    <tr style=\"text-align: right;\">\n",
       "      <th></th>\n",
       "      <th>MlaR01</th>\n",
       "      <th>MlaR02</th>\n",
       "      <th>MlaR03</th>\n",
       "      <th>MlaR04</th>\n",
       "      <th>MlaR05</th>\n",
       "      <th>MlaR06</th>\n",
       "      <th>MlaR07</th>\n",
       "      <th>MlaR08</th>\n",
       "      <th>MlaR09</th>\n",
       "      <th>MlaR10</th>\n",
       "      <th>MlaR11</th>\n",
       "      <th>MlaR12</th>\n",
       "    </tr>\n",
       "  </thead>\n",
       "  <tbody>\n",
       "    <tr>\n",
       "      <th>0</th>\n",
       "      <td>4.8</td>\n",
       "      <td>46.8</td>\n",
       "      <td>41.4</td>\n",
       "      <td>97.7</td>\n",
       "      <td>262.8</td>\n",
       "      <td>205.4</td>\n",
       "      <td>215.5</td>\n",
       "      <td>415.2</td>\n",
       "      <td>245.1</td>\n",
       "      <td>21.5</td>\n",
       "      <td>47.9</td>\n",
       "      <td>53.6</td>\n",
       "    </tr>\n",
       "    <tr>\n",
       "      <th>1</th>\n",
       "      <td>12.9</td>\n",
       "      <td>45.0</td>\n",
       "      <td>16.8</td>\n",
       "      <td>105.3</td>\n",
       "      <td>166.0</td>\n",
       "      <td>258.6</td>\n",
       "      <td>91.0</td>\n",
       "      <td>330.9</td>\n",
       "      <td>93.0</td>\n",
       "      <td>115.8</td>\n",
       "      <td>12.3</td>\n",
       "      <td>5.4</td>\n",
       "    </tr>\n",
       "    <tr>\n",
       "      <th>2</th>\n",
       "      <td>3.3</td>\n",
       "      <td>5.2</td>\n",
       "      <td>42.0</td>\n",
       "      <td>114.7</td>\n",
       "      <td>90.0</td>\n",
       "      <td>314.1</td>\n",
       "      <td>363.8</td>\n",
       "      <td>350.6</td>\n",
       "      <td>72.9</td>\n",
       "      <td>228.1</td>\n",
       "      <td>101.9</td>\n",
       "      <td>11.3</td>\n",
       "    </tr>\n",
       "    <tr>\n",
       "      <th>3</th>\n",
       "      <td>6.1</td>\n",
       "      <td>9.7</td>\n",
       "      <td>46.5</td>\n",
       "      <td>88.7</td>\n",
       "      <td>125.4</td>\n",
       "      <td>335.7</td>\n",
       "      <td>448.6</td>\n",
       "      <td>241.5</td>\n",
       "      <td>104.6</td>\n",
       "      <td>155.6</td>\n",
       "      <td>33.4</td>\n",
       "      <td>47.1</td>\n",
       "    </tr>\n",
       "    <tr>\n",
       "      <th>4</th>\n",
       "      <td>19.2</td>\n",
       "      <td>28.3</td>\n",
       "      <td>19.8</td>\n",
       "      <td>44.1</td>\n",
       "      <td>176.2</td>\n",
       "      <td>228.2</td>\n",
       "      <td>340.3</td>\n",
       "      <td>235.8</td>\n",
       "      <td>194.2</td>\n",
       "      <td>128.6</td>\n",
       "      <td>140.2</td>\n",
       "      <td>68.7</td>\n",
       "    </tr>\n",
       "  </tbody>\n",
       "</table>\n",
       "</div>"
      ],
      "text/plain": [
       "   MlaR01  MlaR02  MlaR03  MlaR04  MlaR05  MlaR06  MlaR07  MlaR08  MlaR09  \\\n",
       "0     4.8    46.8    41.4    97.7   262.8   205.4   215.5   415.2   245.1   \n",
       "1    12.9    45.0    16.8   105.3   166.0   258.6    91.0   330.9    93.0   \n",
       "2     3.3     5.2    42.0   114.7    90.0   314.1   363.8   350.6    72.9   \n",
       "3     6.1     9.7    46.5    88.7   125.4   335.7   448.6   241.5   104.6   \n",
       "4    19.2    28.3    19.8    44.1   176.2   228.2   340.3   235.8   194.2   \n",
       "\n",
       "   MlaR10  MlaR11  MlaR12  \n",
       "0    21.5    47.9    53.6  \n",
       "1   115.8    12.3     5.4  \n",
       "2   228.1   101.9    11.3  \n",
       "3   155.6    33.4    47.1  \n",
       "4   128.6   140.2    68.7  "
      ]
     },
     "execution_count": 20,
     "metadata": {},
     "output_type": "execute_result"
    }
   ],
   "source": [
    "# Mla Rainfall data:\n",
    "MlaR=df.iloc[:40,0:12]\n",
    "MlaR.head()"
   ]
  },
  {
   "cell_type": "code",
   "execution_count": 21,
   "metadata": {},
   "outputs": [
    {
     "data": {
      "text/html": [
       "<div>\n",
       "<table border=\"1\" class=\"dataframe\">\n",
       "  <thead>\n",
       "    <tr style=\"text-align: right;\">\n",
       "      <th></th>\n",
       "      <th>MlaAT01</th>\n",
       "      <th>MlaAT02</th>\n",
       "      <th>MlaAT03</th>\n",
       "      <th>MlaAT04</th>\n",
       "      <th>MlaAT05</th>\n",
       "      <th>MlaAT06</th>\n",
       "      <th>MlaAT07</th>\n",
       "      <th>MlaAT08</th>\n",
       "      <th>MlaAT09</th>\n",
       "      <th>MlaAT10</th>\n",
       "      <th>MlaAT11</th>\n",
       "      <th>MlaAT12</th>\n",
       "    </tr>\n",
       "  </thead>\n",
       "  <tbody>\n",
       "    <tr>\n",
       "      <th>0</th>\n",
       "      <td>15.8</td>\n",
       "      <td>18.7</td>\n",
       "      <td>20.5</td>\n",
       "      <td>22.9</td>\n",
       "      <td>24.5</td>\n",
       "      <td>24.4</td>\n",
       "      <td>24.8</td>\n",
       "      <td>24.2</td>\n",
       "      <td>23.6</td>\n",
       "      <td>22.2</td>\n",
       "      <td>18.7</td>\n",
       "      <td>16.2</td>\n",
       "    </tr>\n",
       "    <tr>\n",
       "      <th>1</th>\n",
       "      <td>14.8</td>\n",
       "      <td>16.4</td>\n",
       "      <td>18.0</td>\n",
       "      <td>22.5</td>\n",
       "      <td>24.4</td>\n",
       "      <td>24.5</td>\n",
       "      <td>25.1</td>\n",
       "      <td>24.4</td>\n",
       "      <td>23.4</td>\n",
       "      <td>21.4</td>\n",
       "      <td>18.6</td>\n",
       "      <td>14.7</td>\n",
       "    </tr>\n",
       "    <tr>\n",
       "      <th>2</th>\n",
       "      <td>13.2</td>\n",
       "      <td>16.0</td>\n",
       "      <td>18.8</td>\n",
       "      <td>21.9</td>\n",
       "      <td>24.3</td>\n",
       "      <td>24.6</td>\n",
       "      <td>24.7</td>\n",
       "      <td>24.0</td>\n",
       "      <td>24.4</td>\n",
       "      <td>21.4</td>\n",
       "      <td>19.2</td>\n",
       "      <td>15.3</td>\n",
       "    </tr>\n",
       "    <tr>\n",
       "      <th>3</th>\n",
       "      <td>15.7</td>\n",
       "      <td>16.7</td>\n",
       "      <td>19.7</td>\n",
       "      <td>22.4</td>\n",
       "      <td>24.0</td>\n",
       "      <td>24.4</td>\n",
       "      <td>23.8</td>\n",
       "      <td>24.2</td>\n",
       "      <td>23.6</td>\n",
       "      <td>22.7</td>\n",
       "      <td>17.8</td>\n",
       "      <td>14.7</td>\n",
       "    </tr>\n",
       "    <tr>\n",
       "      <th>4</th>\n",
       "      <td>14.3</td>\n",
       "      <td>16.7</td>\n",
       "      <td>18.8</td>\n",
       "      <td>22.6</td>\n",
       "      <td>24.3</td>\n",
       "      <td>24.3</td>\n",
       "      <td>24.4</td>\n",
       "      <td>23.6</td>\n",
       "      <td>23.2</td>\n",
       "      <td>21.6</td>\n",
       "      <td>18.1</td>\n",
       "      <td>16.9</td>\n",
       "    </tr>\n",
       "  </tbody>\n",
       "</table>\n",
       "</div>"
      ],
      "text/plain": [
       "   MlaAT01  MlaAT02  MlaAT03  MlaAT04  MlaAT05  MlaAT06  MlaAT07  MlaAT08  \\\n",
       "0     15.8     18.7     20.5     22.9     24.5     24.4     24.8     24.2   \n",
       "1     14.8     16.4     18.0     22.5     24.4     24.5     25.1     24.4   \n",
       "2     13.2     16.0     18.8     21.9     24.3     24.6     24.7     24.0   \n",
       "3     15.7     16.7     19.7     22.4     24.0     24.4     23.8     24.2   \n",
       "4     14.3     16.7     18.8     22.6     24.3     24.3     24.4     23.6   \n",
       "\n",
       "   MlaAT09  MlaAT10  MlaAT11  MlaAT12  \n",
       "0     23.6     22.2     18.7     16.2  \n",
       "1     23.4     21.4     18.6     14.7  \n",
       "2     24.4     21.4     19.2     15.3  \n",
       "3     23.6     22.7     17.8     14.7  \n",
       "4     23.2     21.6     18.1     16.9  "
      ]
     },
     "execution_count": 21,
     "metadata": {},
     "output_type": "execute_result"
    }
   ],
   "source": [
    "# Mla Temperature data:\n",
    "MlaAT=df.iloc[:40,12:24]\n",
    "MlaAT.head()"
   ]
  },
  {
   "cell_type": "code",
   "execution_count": 55,
   "metadata": {},
   "outputs": [],
   "source": [
    "X=df['MlaAT01']"
   ]
  },
  {
   "cell_type": "code",
   "execution_count": 56,
   "metadata": {},
   "outputs": [],
   "source": [
    "Y=df['MlaR01']"
   ]
  },
  {
   "cell_type": "code",
   "execution_count": 57,
   "metadata": {},
   "outputs": [
    {
     "data": {
      "image/png": "[encoded data removed]",
      "text/plain": [
       "<matplotlib.figure.Figure at 0xafc3770>"
      ]
     },
     "metadata": {},
     "output_type": "display_data"
    }
   ],
   "source": [
    "plt.scatter(X,Y)\n",
    "plt.xlabel('Temperature')\n",
    "plt.ylabel('Rainfall')\n",
    "plt.title('Mla Temperature and Rainfall(January)')\n",
    "plt.show()"
   ]
  },
  {
   "cell_type": "code",
   "execution_count": 81,
   "metadata": {},
   "outputs": [
    {
     "data": {
      "text/html": [
       "<table class=\"simpletable\">\n",
       "<caption>OLS Regression Results</caption>\n",
       "<tr>\n",
       "  <th>Dep. Variable:</th>            <td>Y</td>        <th>  R-squared:         </th> <td>   0.013</td>\n",
       "</tr>\n",
       "<tr>\n",
       "  <th>Model:</th>                   <td>OLS</td>       <th>  Adj. R-squared:    </th> <td>  -0.013</td>\n",
       "</tr>\n",
       "<tr>\n",
       "  <th>Method:</th>             <td>Least Squares</td>  <th>  F-statistic:       </th> <td>  0.4916</td>\n",
       "</tr>\n",
       "<tr>\n",
       "  <th>Date:</th>             <td>Wed, 18 Oct 2017</td> <th>  Prob (F-statistic):</th>  <td> 0.487</td> \n",
       "</tr>\n",
       "<tr>\n",
       "  <th>Time:</th>                 <td>16:20:35</td>     <th>  Log-Likelihood:    </th> <td> -183.16</td>\n",
       "</tr>\n",
       "<tr>\n",
       "  <th>No. Observations:</th>      <td>    40</td>      <th>  AIC:               </th> <td>   370.3</td>\n",
       "</tr>\n",
       "<tr>\n",
       "  <th>Df Residuals:</th>          <td>    38</td>      <th>  BIC:               </th> <td>   373.7</td>\n",
       "</tr>\n",
       "<tr>\n",
       "  <th>Df Model:</th>              <td>     1</td>      <th>                     </th>     <td> </td>   \n",
       "</tr>\n",
       "<tr>\n",
       "  <th>Covariance Type:</th>      <td>nonrobust</td>    <th>                     </th>     <td> </td>   \n",
       "</tr>\n",
       "</table>\n",
       "<table class=\"simpletable\">\n",
       "<tr>\n",
       "      <td></td>         <th>coef</th>     <th>std err</th>      <th>t</th>      <th>P>|t|</th>  <th>[0.025</th>    <th>0.975]</th>  \n",
       "</tr>\n",
       "<tr>\n",
       "  <th>Intercept</th> <td>  -20.4015</td> <td>   57.126</td> <td>   -0.357</td> <td> 0.723</td> <td> -136.047</td> <td>   95.244</td>\n",
       "</tr>\n",
       "<tr>\n",
       "  <th>X</th>         <td>    2.5334</td> <td>    3.613</td> <td>    0.701</td> <td> 0.487</td> <td>   -4.781</td> <td>    9.848</td>\n",
       "</tr>\n",
       "</table>\n",
       "<table class=\"simpletable\">\n",
       "<tr>\n",
       "  <th>Omnibus:</th>       <td>27.486</td> <th>  Durbin-Watson:     </th> <td>   1.963</td>\n",
       "</tr>\n",
       "<tr>\n",
       "  <th>Prob(Omnibus):</th> <td> 0.000</td> <th>  Jarque-Bera (JB):  </th> <td>  49.760</td>\n",
       "</tr>\n",
       "<tr>\n",
       "  <th>Skew:</th>          <td> 1.911</td> <th>  Prob(JB):          </th> <td>1.57e-11</td>\n",
       "</tr>\n",
       "<tr>\n",
       "  <th>Kurtosis:</th>      <td> 6.904</td> <th>  Cond. No.          </th> <td>    237.</td>\n",
       "</tr>\n",
       "</table>"
      ],
      "text/plain": [
       "<class 'statsmodels.iolib.summary.Summary'>\n",
       "\"\"\"\n",
       "                            OLS Regression Results                            \n",
       "==============================================================================\n",
       "Dep. Variable:                      Y   R-squared:                       0.013\n",
       "Model:                            OLS   Adj. R-squared:                 -0.013\n",
       "Method:                 Least Squares   F-statistic:                    0.4916\n",
       "Date:                Wed, 18 Oct 2017   Prob (F-statistic):              0.487\n",
       "Time:                        16:20:35   Log-Likelihood:                -183.16\n",
       "No. Observations:                  40   AIC:                             370.3\n",
       "Df Residuals:                      38   BIC:                             373.7\n",
       "Df Model:                           1                                         \n",
       "Covariance Type:            nonrobust                                         \n",
       "==============================================================================\n",
       "                 coef    std err          t      P>|t|      [0.025      0.975]\n",
       "------------------------------------------------------------------------------\n",
       "Intercept    -20.4015     57.126     -0.357      0.723    -136.047      95.244\n",
       "X              2.5334      3.613      0.701      0.487      -4.781       9.848\n",
       "==============================================================================\n",
       "Omnibus:                       27.486   Durbin-Watson:                   1.963\n",
       "Prob(Omnibus):                  0.000   Jarque-Bera (JB):               49.760\n",
       "Skew:                           1.911   Prob(JB):                     1.57e-11\n",
       "Kurtosis:                       6.904   Cond. No.                         237.\n",
       "==============================================================================\n",
       "\n",
       "Warnings:\n",
       "[1] Standard Errors assume that the covariance matrix of the errors is correctly specified.\n",
       "\"\"\""
      ]
     },
     "execution_count": 81,
     "metadata": {},
     "output_type": "execute_result"
    }
   ],
   "source": [
    "model= smf.ols('Y~X',data=Mla).fit()\n",
    "model.summary()"
   ]
  },
  {
   "cell_type": "markdown",
   "metadata": {},
   "source": [
    "### Scatter plot about the weather data of four places:"
   ]
  },
  {
   "cell_type": "markdown",
   "metadata": {},
   "source": [
    "The scatter plot shows that there is a correlation between the rainfall and temperature. "
   ]
  },
  {
   "cell_type": "code",
   "execution_count": 58,
   "metadata": {},
   "outputs": [
    {
     "data": {
      "image/png": "[encoded data removed]",
      "text/plain": [
       "<matplotlib.figure.Figure at 0xafcf8d0>"
      ]
     },
     "metadata": {},
     "output_type": "display_data"
    }
   ],
   "source": [
    "plt.scatter(MlaAT, MlaR)\n",
    "plt.xlabel('Temperature')\n",
    "plt.ylabel('Rainfall')\n",
    "plt.title('Mla Temperature and Rainfall(40 years)')\n",
    "plt.show()"
   ]
  },
  {
   "cell_type": "code",
   "execution_count": 60,
   "metadata": {},
   "outputs": [
    {
     "data": {
      "image/png": "[encoded data removed]",
      "text/plain": [
       "<matplotlib.figure.Figure at 0xb02b590>"
      ]
     },
     "metadata": {},
     "output_type": "display_data"
    }
   ],
   "source": [
    "MlunR=df.iloc[:,24:36]\n",
    "MlunAT=df.iloc[:,36:48]\n",
    "plt.scatter(MlunAT, MlunR)\n",
    "plt.xlabel('Temperature')\n",
    "plt.ylabel('Rainfall')\n",
    "plt.title('Mlun Temperature and Rainfall(40 years)')\n",
    "plt.show()"
   ]
  },
  {
   "cell_type": "code",
   "execution_count": 61,
   "metadata": {},
   "outputs": [
    {
     "data": {
      "image/png": "[encoded data removed]",
      "text/plain": [
       "<matplotlib.figure.Figure at 0xb0a2430>"
      ]
     },
     "metadata": {},
     "output_type": "display_data"
    }
   ],
   "source": [
    "MhaiR=df.iloc[:,48:60]\n",
    "MhaiAT=df.iloc[:,60:72]\n",
    "plt.scatter(MhaiAT, MhaiR)\n",
    "plt.xlabel('Temperature')\n",
    "plt.ylabel('Rainfall')\n",
    "plt.title('Mhai Temperature and Rainfall(40 years)')\n",
    "plt.show()"
   ]
  },
  {
   "cell_type": "code",
   "execution_count": 62,
   "metadata": {},
   "outputs": [
    {
     "data": {
      "image/png": "[encoded data removed]",
      "text/plain": [
       "<matplotlib.figure.Figure at 0xb0df970>"
      ]
     },
     "metadata": {},
     "output_type": "display_data"
    }
   ],
   "source": [
    "JhongR=df.iloc[:,72:84]\n",
    "JhongAT=df.iloc[:,84:96]\n",
    "plt.scatter(JhongAT, JhongR)\n",
    "plt.xlabel('Temperature')\n",
    "plt.ylabel('Rainfall')\n",
    "plt.title('Jhong Temperature and Rainfall(40 years)')\n",
    "plt.show()"
   ]
  },
  {
   "cell_type": "code",
   "execution_count": 63,
   "metadata": {},
   "outputs": [],
   "source": [
    "X1=MlaAT.mean()"
   ]
  },
  {
   "cell_type": "code",
   "execution_count": 64,
   "metadata": {},
   "outputs": [],
   "source": [
    "Y1=MlaR.mean()"
   ]
  },
  {
   "cell_type": "code",
   "execution_count": 65,
   "metadata": {},
   "outputs": [
    {
     "data": {
      "image/png": "[encoded data removed]",
      "text/plain": [
       "<matplotlib.figure.Figure at 0xb144790>"
      ]
     },
     "metadata": {},
     "output_type": "display_data"
    }
   ],
   "source": [
    "plt.scatter(X1, Y1)\n",
    "plt.xlabel('X1')\n",
    "plt.ylabel('Y1')\n",
    "plt.title('Mla monthly temperature and rainfall(40 years)')\n",
    "plt.show()"
   ]
  },
  {
   "cell_type": "code",
   "execution_count": 66,
   "metadata": {},
   "outputs": [
    {
     "data": {
      "image/png": "[encoded data removed]",
      "text/plain": [
       "<matplotlib.figure.Figure at 0xb0b1b70>"
      ]
     },
     "metadata": {},
     "output_type": "display_data"
    }
   ],
   "source": [
    "slope, intercept, r_value, p_value, slope_std_error = stats.linregress(X1, Y1)\n",
    "\n",
    "predict_Y= intercept + slope * X1\n",
    "pred_error = Y1 - predict_Y\n",
    "degrees_of_freedom = len(X1) - 2\n",
    "residual_std_error = np.sqrt(np.sum(pred_error**2) / degrees_of_freedom)\n",
    "\n",
    "pylab.plot(X1, Y1, 'o')\n",
    "pylab.plot(X1, predict_Y, 'k-')\n",
    "pylab.show()"
   ]
  },
  {
   "cell_type": "markdown",
   "metadata": {},
   "source": [
    "### OLS regression:"
   ]
  },
  {
   "cell_type": "code",
   "execution_count": 67,
   "metadata": {},
   "outputs": [],
   "source": [
    "import random\n",
    "import scipy as sp\n",
    "import seaborn as sns\n",
    "import statsmodels.api as sm\n",
    "import statsmodels.formula.api as smf"
   ]
  },
  {
   "cell_type": "code",
   "execution_count": 68,
   "metadata": {},
   "outputs": [
    {
     "data": {
      "text/html": [
       "<div>\n",
       "<table border=\"1\" class=\"dataframe\">\n",
       "  <thead>\n",
       "    <tr style=\"text-align: right;\">\n",
       "      <th></th>\n",
       "      <th>MlaR01</th>\n",
       "      <th>MlunR1</th>\n",
       "      <th>MhaiR1</th>\n",
       "      <th>JhongR1</th>\n",
       "    </tr>\n",
       "  </thead>\n",
       "  <tbody>\n",
       "    <tr>\n",
       "      <th>0</th>\n",
       "      <td>4.8</td>\n",
       "      <td>4.2</td>\n",
       "      <td>4.2</td>\n",
       "      <td>5.6</td>\n",
       "    </tr>\n",
       "    <tr>\n",
       "      <th>1</th>\n",
       "      <td>12.9</td>\n",
       "      <td>11.9</td>\n",
       "      <td>8.0</td>\n",
       "      <td>6.0</td>\n",
       "    </tr>\n",
       "    <tr>\n",
       "      <th>2</th>\n",
       "      <td>3.3</td>\n",
       "      <td>4.1</td>\n",
       "      <td>2.3</td>\n",
       "      <td>2.0</td>\n",
       "    </tr>\n",
       "    <tr>\n",
       "      <th>3</th>\n",
       "      <td>6.1</td>\n",
       "      <td>4.3</td>\n",
       "      <td>3.7</td>\n",
       "      <td>5.0</td>\n",
       "    </tr>\n",
       "    <tr>\n",
       "      <th>4</th>\n",
       "      <td>19.2</td>\n",
       "      <td>31.8</td>\n",
       "      <td>10.9</td>\n",
       "      <td>9.6</td>\n",
       "    </tr>\n",
       "  </tbody>\n",
       "</table>\n",
       "</div>"
      ],
      "text/plain": [
       "   MlaR01  MlunR1  MhaiR1  JhongR1\n",
       "0     4.8     4.2     4.2      5.6\n",
       "1    12.9    11.9     8.0      6.0\n",
       "2     3.3     4.1     2.3      2.0\n",
       "3     6.1     4.3     3.7      5.0\n",
       "4    19.2    31.8    10.9      9.6"
      ]
     },
     "execution_count": 68,
     "metadata": {},
     "output_type": "execute_result"
    }
   ],
   "source": [
    "df1= df[[0,24,48,72]]\n",
    "df1.head()"
   ]
  },
  {
   "cell_type": "code",
   "execution_count": 69,
   "metadata": {},
   "outputs": [
    {
     "data": {
      "text/html": [
       "<div>\n",
       "<table border=\"1\" class=\"dataframe\">\n",
       "  <thead>\n",
       "    <tr style=\"text-align: right;\">\n",
       "      <th></th>\n",
       "      <th>MlaAT01</th>\n",
       "      <th>MlunAT1</th>\n",
       "      <th>MhaiAT1</th>\n",
       "      <th>JhongAT1</th>\n",
       "    </tr>\n",
       "  </thead>\n",
       "  <tbody>\n",
       "    <tr>\n",
       "      <th>0</th>\n",
       "      <td>15.8</td>\n",
       "      <td>16.4</td>\n",
       "      <td>12.8</td>\n",
       "      <td>16.3</td>\n",
       "    </tr>\n",
       "    <tr>\n",
       "      <th>1</th>\n",
       "      <td>14.8</td>\n",
       "      <td>15.3</td>\n",
       "      <td>12.4</td>\n",
       "      <td>15.7</td>\n",
       "    </tr>\n",
       "    <tr>\n",
       "      <th>2</th>\n",
       "      <td>13.2</td>\n",
       "      <td>14.0</td>\n",
       "      <td>11.3</td>\n",
       "      <td>14.3</td>\n",
       "    </tr>\n",
       "    <tr>\n",
       "      <th>3</th>\n",
       "      <td>15.7</td>\n",
       "      <td>15.7</td>\n",
       "      <td>11.8</td>\n",
       "      <td>15.4</td>\n",
       "    </tr>\n",
       "    <tr>\n",
       "      <th>4</th>\n",
       "      <td>14.3</td>\n",
       "      <td>14.3</td>\n",
       "      <td>11.5</td>\n",
       "      <td>14.6</td>\n",
       "    </tr>\n",
       "  </tbody>\n",
       "</table>\n",
       "</div>"
      ],
      "text/plain": [
       "   MlaAT01  MlunAT1  MhaiAT1  JhongAT1\n",
       "0     15.8     16.4     12.8      16.3\n",
       "1     14.8     15.3     12.4      15.7\n",
       "2     13.2     14.0     11.3      14.3\n",
       "3     15.7     15.7     11.8      15.4\n",
       "4     14.3     14.3     11.5      14.6"
      ]
     },
     "execution_count": 69,
     "metadata": {},
     "output_type": "execute_result"
    }
   ],
   "source": [
    "df2= df[[12,36,60,84]]\n",
    "df2.head()"
   ]
  },
  {
   "cell_type": "markdown",
   "metadata": {},
   "source": [
    "#### Expanding the model"
   ]
  },
  {
   "cell_type": "code",
   "execution_count": 70,
   "metadata": {},
   "outputs": [],
   "source": [
    "n = len(df)\n",
    "df_train = np.random.rand(n) < 0.7\n",
    "train = df[df_train].reset_index(drop=True)\n",
    "test = df[df_train].reset_index(drop=True)"
   ]
  },
  {
   "cell_type": "markdown",
   "metadata": {},
   "source": [
    "#### Modeling with the January rainfall data of four places:"
   ]
  },
  {
   "cell_type": "code",
   "execution_count": 72,
   "metadata": {},
   "outputs": [
    {
     "data": {
      "text/html": [
       "<table class=\"simpletable\">\n",
       "<caption>OLS Regression Results</caption>\n",
       "<tr>\n",
       "  <th>Dep. Variable:</th>         <td>MlaR01</td>      <th>  R-squared:         </th> <td>   0.810</td>\n",
       "</tr>\n",
       "<tr>\n",
       "  <th>Model:</th>                   <td>OLS</td>       <th>  Adj. R-squared:    </th> <td>   0.780</td>\n",
       "</tr>\n",
       "<tr>\n",
       "  <th>Method:</th>             <td>Least Squares</td>  <th>  F-statistic:       </th> <td>   26.99</td>\n",
       "</tr>\n",
       "<tr>\n",
       "  <th>Date:</th>             <td>Wed, 18 Oct 2017</td> <th>  Prob (F-statistic):</th> <td>4.63e-07</td>\n",
       "</tr>\n",
       "<tr>\n",
       "  <th>Time:</th>                 <td>16:19:02</td>     <th>  Log-Likelihood:    </th> <td> -90.163</td>\n",
       "</tr>\n",
       "<tr>\n",
       "  <th>No. Observations:</th>      <td>    23</td>      <th>  AIC:               </th> <td>   188.3</td>\n",
       "</tr>\n",
       "<tr>\n",
       "  <th>Df Residuals:</th>          <td>    19</td>      <th>  BIC:               </th> <td>   192.9</td>\n",
       "</tr>\n",
       "<tr>\n",
       "  <th>Df Model:</th>              <td>     3</td>      <th>                     </th>     <td> </td>   \n",
       "</tr>\n",
       "<tr>\n",
       "  <th>Covariance Type:</th>      <td>nonrobust</td>    <th>                     </th>     <td> </td>   \n",
       "</tr>\n",
       "</table>\n",
       "<table class=\"simpletable\">\n",
       "<tr>\n",
       "      <td></td>         <th>coef</th>     <th>std err</th>      <th>t</th>      <th>P>|t|</th>  <th>[0.025</th>    <th>0.975]</th>  \n",
       "</tr>\n",
       "<tr>\n",
       "  <th>Intercept</th> <td>    1.3148</td> <td>    3.922</td> <td>    0.335</td> <td> 0.741</td> <td>   -6.894</td> <td>    9.523</td>\n",
       "</tr>\n",
       "<tr>\n",
       "  <th>MlunR1</th>    <td>    1.0535</td> <td>    0.304</td> <td>    3.466</td> <td> 0.003</td> <td>    0.417</td> <td>    1.690</td>\n",
       "</tr>\n",
       "<tr>\n",
       "  <th>MhaiR1</th>    <td>    0.3423</td> <td>    0.362</td> <td>    0.944</td> <td> 0.357</td> <td>   -0.416</td> <td>    1.101</td>\n",
       "</tr>\n",
       "<tr>\n",
       "  <th>JhongR1</th>   <td>   -0.0857</td> <td>    0.457</td> <td>   -0.187</td> <td> 0.853</td> <td>   -1.042</td> <td>    0.871</td>\n",
       "</tr>\n",
       "</table>\n",
       "<table class=\"simpletable\">\n",
       "<tr>\n",
       "  <th>Omnibus:</th>       <td> 4.613</td> <th>  Durbin-Watson:     </th> <td>   2.270</td>\n",
       "</tr>\n",
       "<tr>\n",
       "  <th>Prob(Omnibus):</th> <td> 0.100</td> <th>  Jarque-Bera (JB):  </th> <td>   2.952</td>\n",
       "</tr>\n",
       "<tr>\n",
       "  <th>Skew:</th>          <td>-0.416</td> <th>  Prob(JB):          </th> <td>   0.229</td>\n",
       "</tr>\n",
       "<tr>\n",
       "  <th>Kurtosis:</th>      <td> 4.546</td> <th>  Cond. No.          </th> <td>    54.7</td>\n",
       "</tr>\n",
       "</table>"
      ],
      "text/plain": [
       "<class 'statsmodels.iolib.summary.Summary'>\n",
       "\"\"\"\n",
       "                            OLS Regression Results                            \n",
       "==============================================================================\n",
       "Dep. Variable:                 MlaR01   R-squared:                       0.810\n",
       "Model:                            OLS   Adj. R-squared:                  0.780\n",
       "Method:                 Least Squares   F-statistic:                     26.99\n",
       "Date:                Wed, 18 Oct 2017   Prob (F-statistic):           4.63e-07\n",
       "Time:                        16:19:02   Log-Likelihood:                -90.163\n",
       "No. Observations:                  23   AIC:                             188.3\n",
       "Df Residuals:                      19   BIC:                             192.9\n",
       "Df Model:                           3                                         \n",
       "Covariance Type:            nonrobust                                         \n",
       "==============================================================================\n",
       "                 coef    std err          t      P>|t|      [0.025      0.975]\n",
       "------------------------------------------------------------------------------\n",
       "Intercept      1.3148      3.922      0.335      0.741      -6.894       9.523\n",
       "MlunR1         1.0535      0.304      3.466      0.003       0.417       1.690\n",
       "MhaiR1         0.3423      0.362      0.944      0.357      -0.416       1.101\n",
       "JhongR1       -0.0857      0.457     -0.187      0.853      -1.042       0.871\n",
       "==============================================================================\n",
       "Omnibus:                        4.613   Durbin-Watson:                   2.270\n",
       "Prob(Omnibus):                  0.100   Jarque-Bera (JB):                2.952\n",
       "Skew:                          -0.416   Prob(JB):                        0.229\n",
       "Kurtosis:                       4.546   Cond. No.                         54.7\n",
       "==============================================================================\n",
       "\n",
       "Warnings:\n",
       "[1] Standard Errors assume that the covariance matrix of the errors is correctly specified.\n",
       "\"\"\""
      ]
     },
     "execution_count": 72,
     "metadata": {},
     "output_type": "execute_result"
    }
   ],
   "source": [
    "model_1=smf.ols(formula='MlaR01~MlunR1+MhaiR1+JhongR1',data=train)\n",
    "fitted=model_1.fit()\n",
    "fitted.summary()"
   ]
  },
  {
   "cell_type": "code",
   "execution_count": 73,
   "metadata": {},
   "outputs": [
    {
     "data": {
      "image/png": "[encoded data removed]",
      "text/plain": [
       "<matplotlib.figure.Figure at 0xaf212b0>"
      ]
     },
     "metadata": {},
     "output_type": "display_data"
    }
   ],
   "source": [
    "# visualize the relationship between the independent variable and the response variable\n",
    "sns.pairplot(df, x_vars=['MlunR1','MhaiR1','JhongR1'], y_vars='MlaR01', size=4, aspect=0.8)  \n",
    "plt.show()"
   ]
  },
  {
   "cell_type": "code",
   "execution_count": 74,
   "metadata": {},
   "outputs": [
    {
     "data": {
      "image/png": "[encoded data removed]",
      "text/plain": [
       "<matplotlib.figure.Figure at 0xae8cb30>"
      ]
     },
     "metadata": {},
     "output_type": "display_data"
    }
   ],
   "source": [
    "# seaborn通过kind='reg'添加一条最佳拟合直线和95%的置信带\n",
    "sns.pairplot(df, x_vars=['MlunR1','MhaiR1','JhongR1'], y_vars='MlaR01', size=4, aspect=0.8,kind='reg')  \n",
    "plt.show()"
   ]
  },
  {
   "cell_type": "markdown",
   "metadata": {},
   "source": [
    "#### Modeling with the January temperature data of four places:"
   ]
  },
  {
   "cell_type": "code",
   "execution_count": 78,
   "metadata": {},
   "outputs": [
    {
     "data": {
      "text/html": [
       "<table class=\"simpletable\">\n",
       "<caption>OLS Regression Results</caption>\n",
       "<tr>\n",
       "  <th>Dep. Variable:</th>         <td>MlaAT01</td>     <th>  R-squared:         </th> <td>   0.909</td>\n",
       "</tr>\n",
       "<tr>\n",
       "  <th>Model:</th>                   <td>OLS</td>       <th>  Adj. R-squared:    </th> <td>   0.895</td>\n",
       "</tr>\n",
       "<tr>\n",
       "  <th>Method:</th>             <td>Least Squares</td>  <th>  F-statistic:       </th> <td>   63.52</td>\n",
       "</tr>\n",
       "<tr>\n",
       "  <th>Date:</th>             <td>Wed, 18 Oct 2017</td> <th>  Prob (F-statistic):</th> <td>4.32e-10</td>\n",
       "</tr>\n",
       "<tr>\n",
       "  <th>Time:</th>                 <td>16:20:27</td>     <th>  Log-Likelihood:    </th> <td> -6.1092</td>\n",
       "</tr>\n",
       "<tr>\n",
       "  <th>No. Observations:</th>      <td>    23</td>      <th>  AIC:               </th> <td>   20.22</td>\n",
       "</tr>\n",
       "<tr>\n",
       "  <th>Df Residuals:</th>          <td>    19</td>      <th>  BIC:               </th> <td>   24.76</td>\n",
       "</tr>\n",
       "<tr>\n",
       "  <th>Df Model:</th>              <td>     3</td>      <th>                     </th>     <td> </td>   \n",
       "</tr>\n",
       "<tr>\n",
       "  <th>Covariance Type:</th>      <td>nonrobust</td>    <th>                     </th>     <td> </td>   \n",
       "</tr>\n",
       "</table>\n",
       "<table class=\"simpletable\">\n",
       "<tr>\n",
       "      <td></td>         <th>coef</th>     <th>std err</th>      <th>t</th>      <th>P>|t|</th>  <th>[0.025</th>    <th>0.975]</th>  \n",
       "</tr>\n",
       "<tr>\n",
       "  <th>Intercept</th> <td>   -0.8238</td> <td>    1.268</td> <td>   -0.650</td> <td> 0.524</td> <td>   -3.477</td> <td>    1.829</td>\n",
       "</tr>\n",
       "<tr>\n",
       "  <th>MlunAT1</th>   <td>    0.4209</td> <td>    0.168</td> <td>    2.507</td> <td> 0.021</td> <td>    0.069</td> <td>    0.772</td>\n",
       "</tr>\n",
       "<tr>\n",
       "  <th>MhaiAT1</th>   <td>   -0.0204</td> <td>    0.157</td> <td>   -0.131</td> <td> 0.898</td> <td>   -0.348</td> <td>    0.307</td>\n",
       "</tr>\n",
       "<tr>\n",
       "  <th>JhongAT1</th>  <td>    0.6198</td> <td>    0.194</td> <td>    3.191</td> <td> 0.005</td> <td>    0.213</td> <td>    1.026</td>\n",
       "</tr>\n",
       "</table>\n",
       "<table class=\"simpletable\">\n",
       "<tr>\n",
       "  <th>Omnibus:</th>       <td> 0.775</td> <th>  Durbin-Watson:     </th> <td>   1.746</td>\n",
       "</tr>\n",
       "<tr>\n",
       "  <th>Prob(Omnibus):</th> <td> 0.679</td> <th>  Jarque-Bera (JB):  </th> <td>   0.582</td>\n",
       "</tr>\n",
       "<tr>\n",
       "  <th>Skew:</th>          <td>-0.366</td> <th>  Prob(JB):          </th> <td>   0.748</td>\n",
       "</tr>\n",
       "<tr>\n",
       "  <th>Kurtosis:</th>      <td> 2.735</td> <th>  Cond. No.          </th> <td>    455.</td>\n",
       "</tr>\n",
       "</table>"
      ],
      "text/plain": [
       "<class 'statsmodels.iolib.summary.Summary'>\n",
       "\"\"\"\n",
       "                            OLS Regression Results                            \n",
       "==============================================================================\n",
       "Dep. Variable:                MlaAT01   R-squared:                       0.909\n",
       "Model:                            OLS   Adj. R-squared:                  0.895\n",
       "Method:                 Least Squares   F-statistic:                     63.52\n",
       "Date:                Wed, 18 Oct 2017   Prob (F-statistic):           4.32e-10\n",
       "Time:                        16:20:27   Log-Likelihood:                -6.1092\n",
       "No. Observations:                  23   AIC:                             20.22\n",
       "Df Residuals:                      19   BIC:                             24.76\n",
       "Df Model:                           3                                         \n",
       "Covariance Type:            nonrobust                                         \n",
       "==============================================================================\n",
       "                 coef    std err          t      P>|t|      [0.025      0.975]\n",
       "------------------------------------------------------------------------------\n",
       "Intercept     -0.8238      1.268     -0.650      0.524      -3.477       1.829\n",
       "MlunAT1        0.4209      0.168      2.507      0.021       0.069       0.772\n",
       "MhaiAT1       -0.0204      0.157     -0.131      0.898      -0.348       0.307\n",
       "JhongAT1       0.6198      0.194      3.191      0.005       0.213       1.026\n",
       "==============================================================================\n",
       "Omnibus:                        0.775   Durbin-Watson:                   1.746\n",
       "Prob(Omnibus):                  0.679   Jarque-Bera (JB):                0.582\n",
       "Skew:                          -0.366   Prob(JB):                        0.748\n",
       "Kurtosis:                       2.735   Cond. No.                         455.\n",
       "==============================================================================\n",
       "\n",
       "Warnings:\n",
       "[1] Standard Errors assume that the covariance matrix of the errors is correctly specified.\n",
       "\"\"\""
      ]
     },
     "execution_count": 78,
     "metadata": {},
     "output_type": "execute_result"
    }
   ],
   "source": [
    "model_2= smf.ols('MlaAT01~MlunAT1+MhaiAT1+JhongAT1',data=train).fit()\n",
    "model_2.summary()"
   ]
  },
  {
   "cell_type": "code",
   "execution_count": 79,
   "metadata": {},
   "outputs": [
    {
     "data": {
      "image/png": "[encoded data removed]",
      "text/plain": [
       "<matplotlib.figure.Figure at 0xb008390>"
      ]
     },
     "metadata": {},
     "output_type": "display_data"
    }
   ],
   "source": [
    "# visualize the relationship between the independent variable and the response variable\n",
    "sns.pairplot(df, x_vars=['MlunAT1','MhaiAT1','JhongAT1'], y_vars='MlaAT01', size=4, aspect=0.8)  \n",
    "plt.show()"
   ]
  },
  {
   "cell_type": "code",
   "execution_count": 80,
   "metadata": {},
   "outputs": [
    {
     "data": {
      "image/png": "[encoded data removed]",
      "text/plain": [
       "<matplotlib.figure.Figure at 0xb008b90>"
      ]
     },
     "metadata": {},
     "output_type": "display_data"
    }
   ],
   "source": [
    "sns.pairplot(df, x_vars=['MlunAT1','MhaiAT1','JhongAT1'], y_vars='MlaAT01', size=4, aspect=0.8,kind='reg')  \n",
    "plt.show()"
   ]
  },
  {
   "cell_type": "markdown",
   "metadata": {
    "collapsed": true
   },
   "source": []
  },
  {
   "cell_type": "code",
   "execution_count": null,
   "metadata": {},
   "outputs": [],
   "source": []
  },
  {
   "cell_type": "code",
   "execution_count": null,
   "metadata": {},
   "outputs": [],
   "source": []
  },
  {
   "cell_type": "code",
   "execution_count": null,
   "metadata": {},
   "outputs": [],
   "source": []
  },
  {
   "cell_type": "code",
   "execution_count": null,
   "metadata": {
    "collapsed": true
   },
   "outputs": [],
   "source": []
  },
  {
   "cell_type": "code",
   "execution_count": null,
   "metadata": {
    "collapsed": true
   },
   "outputs": [],
   "source": [
    " "
   ]
  },
  {
   "cell_type": "code",
   "execution_count": null,
   "metadata": {},
   "outputs": [],
   "source": []
  },
  {
   "cell_type": "code",
   "execution_count": null,
   "metadata": {
    "collapsed": true
   },
   "outputs": [],
   "source": [
    " "
   ]
  },
  {
   "cell_type": "code",
   "execution_count": null,
   "metadata": {
    "collapsed": true
   },
   "outputs": [],
   "source": [
    " "
   ]
  },
  {
   "cell_type": "code",
   "execution_count": null,
   "metadata": {},
   "outputs": [],
   "source": []
  },
  {
   "cell_type": "code",
   "execution_count": null,
   "metadata": {
    "collapsed": true
   },
   "outputs": [],
   "source": []
  },
  {
   "cell_type": "code",
   "execution_count": null,
   "metadata": {
    "collapsed": true
   },
   "outputs": [],
   "source": []
  },
  {
   "cell_type": "code",
   "execution_count": null,
   "metadata": {},
   "outputs": [],
   "source": []
  },
  {
   "cell_type": "code",
   "execution_count": null,
   "metadata": {},
   "outputs": [],
   "source": []
  },
  {
   "cell_type": "code",
   "execution_count": null,
   "metadata": {},
   "outputs": [],
   "source": []
  },
  {
   "cell_type": "code",
   "execution_count": null,
   "metadata": {},
   "outputs": [],
   "source": []
  },
  {
   "cell_type": "code",
   "execution_count": null,
   "metadata": {
    "collapsed": true
   },
   "outputs": [],
   "source": []
  },
  {
   "cell_type": "code",
   "execution_count": null,
   "metadata": {
    "collapsed": true
   },
   "outputs": [],
   "source": []
  },
  {
   "cell_type": "code",
   "execution_count": null,
   "metadata": {},
   "outputs": [],
   "source": []
  }
 ],
 "metadata": {
  "kernelspec": {
   "display_name": "Python 3",
   "language": "python",
   "name": "python3"
  },
  "language_info": {
   "codemirror_mode": {
    "name": "ipython",
    "version": 3
   },
   "file_extension": ".py",
   "mimetype": "text/x-python",
   "name": "python",
   "nbconvert_exporter": "python",
   "pygments_lexer": "ipython3",
   "version": "3.6.5"
  }
 },
 "nbformat": 4,
 "nbformat_minor": 2
}
