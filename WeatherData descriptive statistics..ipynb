{
 "cells": [
  {
   "cell_type": "markdown",
   "metadata": {},
   "source": [
    " "
   ]
  },
  {
   "cell_type": "markdown",
   "metadata": {},
   "source": [
    " "
   ]
  },
  {
   "cell_type": "markdown",
   "metadata": {},
   "source": [
    "## Import "
   ]
  },
  {
   "cell_type": "code",
   "execution_count": 3,
   "metadata": {
    "collapsed": true
   },
   "outputs": [],
   "source": [
    "# necessary imports for the descriptive statistics\n",
    "import pandas as pd\n",
    "import matplotlib.pyplot as plt\n",
    "%matplotlib inline"
   ]
  },
  {
   "cell_type": "markdown",
   "metadata": {},
   "source": [
    "## General description"
   ]
  },
  {
   "cell_type": "markdown",
   "metadata": {},
   "source": [
    "The following dataset is the rain and temperature data from January to December for the period of 1961-2000, which is from four county meteorological stations representing Mengla, Menglun, Menghai, Jinghong."
   ]
  },
  {
   "cell_type": "markdown",
   "metadata": {},
   "source": [
    "#### Variable tag description:\n",
    "- Mla=Mengla;  Mlun=Menglun;  Mhai=Menghai;  Jhong=Jinghong.\n",
    "- R=monthly rainfall; AT=monthly temperature; 01,02,...,12 means 12 months from January to December."
   ]
  },
  {
   "cell_type": "code",
   "execution_count": 2,
   "metadata": {
    "scrolled": true
   },
   "outputs": [
    {
     "data": {
      "text/html": [
       "<div>\n",
       "<table border=\"1\" class=\"dataframe\">\n",
       "  <thead>\n",
       "    <tr style=\"text-align: right;\">\n",
       "      <th></th>\n",
       "      <th>MlaR01</th>\n",
       "      <th>MlaR02</th>\n",
       "      <th>MlaR03</th>\n",
       "      <th>MlaR04</th>\n",
       "      <th>MlaR05</th>\n",
       "      <th>MlaR06</th>\n",
       "      <th>MlaR07</th>\n",
       "      <th>MlaR08</th>\n",
       "      <th>MlaR09</th>\n",
       "      <th>MlaR10</th>\n",
       "      <th>...</th>\n",
       "      <th>JhongAT3</th>\n",
       "      <th>JhongAT4</th>\n",
       "      <th>JhongAT5</th>\n",
       "      <th>JhongAT6</th>\n",
       "      <th>JhongAT7</th>\n",
       "      <th>JhongAT8</th>\n",
       "      <th>JhongAT9</th>\n",
       "      <th>JhongAT10</th>\n",
       "      <th>JhongAT11</th>\n",
       "      <th>JhongAT12</th>\n",
       "    </tr>\n",
       "  </thead>\n",
       "  <tbody>\n",
       "    <tr>\n",
       "      <th>0</th>\n",
       "      <td>4.8</td>\n",
       "      <td>46.8</td>\n",
       "      <td>41.4</td>\n",
       "      <td>97.7</td>\n",
       "      <td>262.8</td>\n",
       "      <td>205.4</td>\n",
       "      <td>215.5</td>\n",
       "      <td>415.2</td>\n",
       "      <td>245.1</td>\n",
       "      <td>21.5</td>\n",
       "      <td>...</td>\n",
       "      <td>21.3</td>\n",
       "      <td>24.2</td>\n",
       "      <td>25.8</td>\n",
       "      <td>26.0</td>\n",
       "      <td>25.6</td>\n",
       "      <td>24.8</td>\n",
       "      <td>24.1</td>\n",
       "      <td>22.9</td>\n",
       "      <td>19.0</td>\n",
       "      <td>16.7</td>\n",
       "    </tr>\n",
       "    <tr>\n",
       "      <th>1</th>\n",
       "      <td>12.9</td>\n",
       "      <td>45.0</td>\n",
       "      <td>16.8</td>\n",
       "      <td>105.3</td>\n",
       "      <td>166.0</td>\n",
       "      <td>258.6</td>\n",
       "      <td>91.0</td>\n",
       "      <td>330.9</td>\n",
       "      <td>93.0</td>\n",
       "      <td>115.8</td>\n",
       "      <td>...</td>\n",
       "      <td>19.4</td>\n",
       "      <td>24.4</td>\n",
       "      <td>26.1</td>\n",
       "      <td>25.1</td>\n",
       "      <td>25.6</td>\n",
       "      <td>24.5</td>\n",
       "      <td>23.9</td>\n",
       "      <td>22.1</td>\n",
       "      <td>18.8</td>\n",
       "      <td>15.4</td>\n",
       "    </tr>\n",
       "    <tr>\n",
       "      <th>2</th>\n",
       "      <td>3.3</td>\n",
       "      <td>5.2</td>\n",
       "      <td>42.0</td>\n",
       "      <td>114.7</td>\n",
       "      <td>90.0</td>\n",
       "      <td>314.1</td>\n",
       "      <td>363.8</td>\n",
       "      <td>350.6</td>\n",
       "      <td>72.9</td>\n",
       "      <td>228.1</td>\n",
       "      <td>...</td>\n",
       "      <td>20.4</td>\n",
       "      <td>24.0</td>\n",
       "      <td>26.3</td>\n",
       "      <td>25.9</td>\n",
       "      <td>25.3</td>\n",
       "      <td>24.6</td>\n",
       "      <td>25.0</td>\n",
       "      <td>22.0</td>\n",
       "      <td>19.4</td>\n",
       "      <td>15.4</td>\n",
       "    </tr>\n",
       "    <tr>\n",
       "      <th>3</th>\n",
       "      <td>6.1</td>\n",
       "      <td>9.7</td>\n",
       "      <td>46.5</td>\n",
       "      <td>88.7</td>\n",
       "      <td>125.4</td>\n",
       "      <td>335.7</td>\n",
       "      <td>448.6</td>\n",
       "      <td>241.5</td>\n",
       "      <td>104.6</td>\n",
       "      <td>155.6</td>\n",
       "      <td>...</td>\n",
       "      <td>20.5</td>\n",
       "      <td>23.7</td>\n",
       "      <td>24.8</td>\n",
       "      <td>25.1</td>\n",
       "      <td>24.2</td>\n",
       "      <td>24.9</td>\n",
       "      <td>24.7</td>\n",
       "      <td>23.3</td>\n",
       "      <td>18.8</td>\n",
       "      <td>15.1</td>\n",
       "    </tr>\n",
       "    <tr>\n",
       "      <th>4</th>\n",
       "      <td>19.2</td>\n",
       "      <td>28.3</td>\n",
       "      <td>19.8</td>\n",
       "      <td>44.1</td>\n",
       "      <td>176.2</td>\n",
       "      <td>228.2</td>\n",
       "      <td>340.3</td>\n",
       "      <td>235.8</td>\n",
       "      <td>194.2</td>\n",
       "      <td>128.6</td>\n",
       "      <td>...</td>\n",
       "      <td>20.2</td>\n",
       "      <td>24.3</td>\n",
       "      <td>25.9</td>\n",
       "      <td>25.3</td>\n",
       "      <td>25.4</td>\n",
       "      <td>24.3</td>\n",
       "      <td>24.1</td>\n",
       "      <td>22.2</td>\n",
       "      <td>18.5</td>\n",
       "      <td>17.4</td>\n",
       "    </tr>\n",
       "  </tbody>\n",
       "</table>\n",
       "<p>5 rows × 96 columns</p>\n",
       "</div>"
      ],
      "text/plain": [
       "   MlaR01  MlaR02  MlaR03  MlaR04  MlaR05  MlaR06  MlaR07  MlaR08  MlaR09  \\\n",
       "0     4.8    46.8    41.4    97.7   262.8   205.4   215.5   415.2   245.1   \n",
       "1    12.9    45.0    16.8   105.3   166.0   258.6    91.0   330.9    93.0   \n",
       "2     3.3     5.2    42.0   114.7    90.0   314.1   363.8   350.6    72.9   \n",
       "3     6.1     9.7    46.5    88.7   125.4   335.7   448.6   241.5   104.6   \n",
       "4    19.2    28.3    19.8    44.1   176.2   228.2   340.3   235.8   194.2   \n",
       "\n",
       "   MlaR10    ...      JhongAT3  JhongAT4  JhongAT5  JhongAT6  JhongAT7  \\\n",
       "0    21.5    ...          21.3      24.2      25.8      26.0      25.6   \n",
       "1   115.8    ...          19.4      24.4      26.1      25.1      25.6   \n",
       "2   228.1    ...          20.4      24.0      26.3      25.9      25.3   \n",
       "3   155.6    ...          20.5      23.7      24.8      25.1      24.2   \n",
       "4   128.6    ...          20.2      24.3      25.9      25.3      25.4   \n",
       "\n",
       "   JhongAT8  JhongAT9  JhongAT10  JhongAT11  JhongAT12  \n",
       "0      24.8      24.1       22.9       19.0       16.7  \n",
       "1      24.5      23.9       22.1       18.8       15.4  \n",
       "2      24.6      25.0       22.0       19.4       15.4  \n",
       "3      24.9      24.7       23.3       18.8       15.1  \n",
       "4      24.3      24.1       22.2       18.5       17.4  \n",
       "\n",
       "[5 rows x 96 columns]"
      ]
     },
     "execution_count": 2,
     "metadata": {},
     "output_type": "execute_result"
    }
   ],
   "source": [
    "import pandas as pd\n",
    "df=pd.read_csv('Python/exercise/WeatherData(1961-2000)/Rain and Temperature Data(40 years).csv',header=0)\n",
    "df.head()"
   ]
  },
  {
   "cell_type": "code",
   "execution_count": 6,
   "metadata": {},
   "outputs": [
    {
     "data": {
      "text/plain": [
       "(40, 96)"
      ]
     },
     "execution_count": 6,
     "metadata": {},
     "output_type": "execute_result"
    }
   ],
   "source": [
    "df.shape"
   ]
  },
  {
   "cell_type": "markdown",
   "metadata": {},
   "source": [
    "We can see that the index of the DataFrame consists of 40 rows representing 40 years(1961-2000), and there are 96 columns in the DataFrame, which consist of the rain and temperature data from January to December."
   ]
  },
  {
   "cell_type": "code",
   "execution_count": 7,
   "metadata": {},
   "outputs": [
    {
     "data": {
      "text/plain": [
       "RangeIndex(start=0, stop=40, step=1)"
      ]
     },
     "execution_count": 7,
     "metadata": {},
     "output_type": "execute_result"
    }
   ],
   "source": [
    "df.index #examine the index"
   ]
  },
  {
   "cell_type": "code",
   "execution_count": 8,
   "metadata": {},
   "outputs": [
    {
     "data": {
      "text/plain": [
       "Index(['MlaR01', 'MlaR02', 'MlaR03', 'MlaR04', 'MlaR05', 'MlaR06', 'MlaR07',\n",
       "       'MlaR08', 'MlaR09', 'MlaR10', 'MlaR11', 'MlaR12', 'MlaAT01', 'MlaAT02',\n",
       "       'MlaAT03', 'MlaAT04', 'MlaAT05', 'MlaAT06', 'MlaAT07', 'MlaAT08',\n",
       "       'MlaAT09', 'MlaAT10', 'MlaAT11', 'MlaAT12', 'MlunR1', 'MlunR2',\n",
       "       'MlunR3', 'MlunR4', 'MlunR5', 'MlunR6', 'MlunR7', 'MlunR8', 'MlunR9',\n",
       "       'MlunR10', 'MlunR11', 'MlunR12', 'MlunAT1', 'MlunAT2', 'MlunAT3',\n",
       "       'MlunAT4', 'MlunAT5', 'MlunAT6', 'MlunAT7', 'MlunAT8', 'MlunAT9',\n",
       "       'MlunAT10', 'MlunAT11', 'MlunAT12', 'MhaiR1', 'MhaiR2', 'MhaiR3',\n",
       "       'MhaiR4', 'MhaiR5', 'MhaiR6', 'MhaiR7', 'MhaiR8', 'MhaiR9', 'MhaiR10',\n",
       "       'MhaiR11', 'MhaiR12', 'MhaiAT1', 'MhaiAT2', 'MhaiAT3', 'MhaiAT4',\n",
       "       'MhaiAT5', 'MhaiAT6', 'MhaiAT7', 'MhaiAT8', 'MhaiAT9', 'MhaiAT10',\n",
       "       'MhaiAT11', 'MhaiAT12', 'JhongR1', 'JhongR2', 'JhongR3', 'JhongR4',\n",
       "       'JhongR5', 'JhongR6', 'JhongR7', 'JhongR8', 'JhongR9', 'JhongR10',\n",
       "       'JhongR11', 'JhongR12', 'JhongAT1', 'JhongAT2', 'JhongAT3', 'JhongAT4',\n",
       "       'JhongAT5', 'JhongAT6', 'JhongAT7', 'JhongAT8', 'JhongAT9', 'JhongAT10',\n",
       "       'JhongAT11', 'JhongAT12'],\n",
       "      dtype='object')"
      ]
     },
     "execution_count": 8,
     "metadata": {},
     "output_type": "execute_result"
    }
   ],
   "source": [
    "df.columns #get the columns"
   ]
  },
  {
   "cell_type": "markdown",
   "metadata": {},
   "source": [
    "    "
   ]
  },
  {
   "cell_type": "code",
   "execution_count": 9,
   "metadata": {
    "scrolled": true
   },
   "outputs": [
    {
     "data": {
      "text/html": [
       "<div>\n",
       "<table border=\"1\" class=\"dataframe\">\n",
       "  <thead>\n",
       "    <tr style=\"text-align: right;\">\n",
       "      <th></th>\n",
       "      <th>MlaR01</th>\n",
       "      <th>MlaR02</th>\n",
       "      <th>MlaR03</th>\n",
       "      <th>MlaR04</th>\n",
       "      <th>MlaR05</th>\n",
       "      <th>MlaR06</th>\n",
       "      <th>MlaR07</th>\n",
       "      <th>MlaR08</th>\n",
       "      <th>MlaR09</th>\n",
       "      <th>MlaR10</th>\n",
       "      <th>...</th>\n",
       "      <th>JhongAT3</th>\n",
       "      <th>JhongAT4</th>\n",
       "      <th>JhongAT5</th>\n",
       "      <th>JhongAT6</th>\n",
       "      <th>JhongAT7</th>\n",
       "      <th>JhongAT8</th>\n",
       "      <th>JhongAT9</th>\n",
       "      <th>JhongAT10</th>\n",
       "      <th>JhongAT11</th>\n",
       "      <th>JhongAT12</th>\n",
       "    </tr>\n",
       "  </thead>\n",
       "  <tbody>\n",
       "    <tr>\n",
       "      <th>0</th>\n",
       "      <td>4.8</td>\n",
       "      <td>46.8</td>\n",
       "      <td>41.4</td>\n",
       "      <td>97.7</td>\n",
       "      <td>262.8</td>\n",
       "      <td>205.4</td>\n",
       "      <td>215.5</td>\n",
       "      <td>415.2</td>\n",
       "      <td>245.1</td>\n",
       "      <td>21.5</td>\n",
       "      <td>...</td>\n",
       "      <td>21.3</td>\n",
       "      <td>24.2</td>\n",
       "      <td>25.8</td>\n",
       "      <td>26.0</td>\n",
       "      <td>25.6</td>\n",
       "      <td>24.8</td>\n",
       "      <td>24.1</td>\n",
       "      <td>22.9</td>\n",
       "      <td>19.0</td>\n",
       "      <td>16.7</td>\n",
       "    </tr>\n",
       "    <tr>\n",
       "      <th>1</th>\n",
       "      <td>12.9</td>\n",
       "      <td>45.0</td>\n",
       "      <td>16.8</td>\n",
       "      <td>105.3</td>\n",
       "      <td>166.0</td>\n",
       "      <td>258.6</td>\n",
       "      <td>91.0</td>\n",
       "      <td>330.9</td>\n",
       "      <td>93.0</td>\n",
       "      <td>115.8</td>\n",
       "      <td>...</td>\n",
       "      <td>19.4</td>\n",
       "      <td>24.4</td>\n",
       "      <td>26.1</td>\n",
       "      <td>25.1</td>\n",
       "      <td>25.6</td>\n",
       "      <td>24.5</td>\n",
       "      <td>23.9</td>\n",
       "      <td>22.1</td>\n",
       "      <td>18.8</td>\n",
       "      <td>15.4</td>\n",
       "    </tr>\n",
       "    <tr>\n",
       "      <th>2</th>\n",
       "      <td>3.3</td>\n",
       "      <td>5.2</td>\n",
       "      <td>42.0</td>\n",
       "      <td>114.7</td>\n",
       "      <td>90.0</td>\n",
       "      <td>314.1</td>\n",
       "      <td>363.8</td>\n",
       "      <td>350.6</td>\n",
       "      <td>72.9</td>\n",
       "      <td>228.1</td>\n",
       "      <td>...</td>\n",
       "      <td>20.4</td>\n",
       "      <td>24.0</td>\n",
       "      <td>26.3</td>\n",
       "      <td>25.9</td>\n",
       "      <td>25.3</td>\n",
       "      <td>24.6</td>\n",
       "      <td>25.0</td>\n",
       "      <td>22.0</td>\n",
       "      <td>19.4</td>\n",
       "      <td>15.4</td>\n",
       "    </tr>\n",
       "    <tr>\n",
       "      <th>3</th>\n",
       "      <td>6.1</td>\n",
       "      <td>9.7</td>\n",
       "      <td>46.5</td>\n",
       "      <td>88.7</td>\n",
       "      <td>125.4</td>\n",
       "      <td>335.7</td>\n",
       "      <td>448.6</td>\n",
       "      <td>241.5</td>\n",
       "      <td>104.6</td>\n",
       "      <td>155.6</td>\n",
       "      <td>...</td>\n",
       "      <td>20.5</td>\n",
       "      <td>23.7</td>\n",
       "      <td>24.8</td>\n",
       "      <td>25.1</td>\n",
       "      <td>24.2</td>\n",
       "      <td>24.9</td>\n",
       "      <td>24.7</td>\n",
       "      <td>23.3</td>\n",
       "      <td>18.8</td>\n",
       "      <td>15.1</td>\n",
       "    </tr>\n",
       "    <tr>\n",
       "      <th>4</th>\n",
       "      <td>19.2</td>\n",
       "      <td>28.3</td>\n",
       "      <td>19.8</td>\n",
       "      <td>44.1</td>\n",
       "      <td>176.2</td>\n",
       "      <td>228.2</td>\n",
       "      <td>340.3</td>\n",
       "      <td>235.8</td>\n",
       "      <td>194.2</td>\n",
       "      <td>128.6</td>\n",
       "      <td>...</td>\n",
       "      <td>20.2</td>\n",
       "      <td>24.3</td>\n",
       "      <td>25.9</td>\n",
       "      <td>25.3</td>\n",
       "      <td>25.4</td>\n",
       "      <td>24.3</td>\n",
       "      <td>24.1</td>\n",
       "      <td>22.2</td>\n",
       "      <td>18.5</td>\n",
       "      <td>17.4</td>\n",
       "    </tr>\n",
       "  </tbody>\n",
       "</table>\n",
       "<p>5 rows × 96 columns</p>\n",
       "</div>"
      ],
      "text/plain": [
       "   MlaR01  MlaR02  MlaR03  MlaR04  MlaR05  MlaR06  MlaR07  MlaR08  MlaR09  \\\n",
       "0     4.8    46.8    41.4    97.7   262.8   205.4   215.5   415.2   245.1   \n",
       "1    12.9    45.0    16.8   105.3   166.0   258.6    91.0   330.9    93.0   \n",
       "2     3.3     5.2    42.0   114.7    90.0   314.1   363.8   350.6    72.9   \n",
       "3     6.1     9.7    46.5    88.7   125.4   335.7   448.6   241.5   104.6   \n",
       "4    19.2    28.3    19.8    44.1   176.2   228.2   340.3   235.8   194.2   \n",
       "\n",
       "   MlaR10    ...      JhongAT3  JhongAT4  JhongAT5  JhongAT6  JhongAT7  \\\n",
       "0    21.5    ...          21.3      24.2      25.8      26.0      25.6   \n",
       "1   115.8    ...          19.4      24.4      26.1      25.1      25.6   \n",
       "2   228.1    ...          20.4      24.0      26.3      25.9      25.3   \n",
       "3   155.6    ...          20.5      23.7      24.8      25.1      24.2   \n",
       "4   128.6    ...          20.2      24.3      25.9      25.3      25.4   \n",
       "\n",
       "   JhongAT8  JhongAT9  JhongAT10  JhongAT11  JhongAT12  \n",
       "0      24.8      24.1       22.9       19.0       16.7  \n",
       "1      24.5      23.9       22.1       18.8       15.4  \n",
       "2      24.6      25.0       22.0       19.4       15.4  \n",
       "3      24.9      24.7       23.3       18.8       15.1  \n",
       "4      24.3      24.1       22.2       18.5       17.4  \n",
       "\n",
       "[5 rows x 96 columns]"
      ]
     },
     "execution_count": 9,
     "metadata": {},
     "output_type": "execute_result"
    }
   ],
   "source": [
    "df.head() #peek at the first 5 rows of the data using the .head() method"
   ]
  },
  {
   "cell_type": "markdown",
   "metadata": {},
   "source": [
    "The first 5 rows representing the rain and air temperature monthly data from the 4 count meteorological stations for the period of 1961-1965.\n",
    "Likewise, the last 5 rows representing the data for the period of 1996-2000."
   ]
  },
  {
   "cell_type": "code",
   "execution_count": 10,
   "metadata": {},
   "outputs": [
    {
     "data": {
      "text/html": [
       "<div>\n",
       "<table border=\"1\" class=\"dataframe\">\n",
       "  <thead>\n",
       "    <tr style=\"text-align: right;\">\n",
       "      <th></th>\n",
       "      <th>MlaR01</th>\n",
       "      <th>MlaR02</th>\n",
       "      <th>MlaR03</th>\n",
       "      <th>MlaR04</th>\n",
       "      <th>MlaR05</th>\n",
       "      <th>MlaR06</th>\n",
       "      <th>MlaR07</th>\n",
       "      <th>MlaR08</th>\n",
       "      <th>MlaR09</th>\n",
       "      <th>MlaR10</th>\n",
       "      <th>...</th>\n",
       "      <th>JhongAT3</th>\n",
       "      <th>JhongAT4</th>\n",
       "      <th>JhongAT5</th>\n",
       "      <th>JhongAT6</th>\n",
       "      <th>JhongAT7</th>\n",
       "      <th>JhongAT8</th>\n",
       "      <th>JhongAT9</th>\n",
       "      <th>JhongAT10</th>\n",
       "      <th>JhongAT11</th>\n",
       "      <th>JhongAT12</th>\n",
       "    </tr>\n",
       "  </thead>\n",
       "  <tbody>\n",
       "    <tr>\n",
       "      <th>35</th>\n",
       "      <td>0.0</td>\n",
       "      <td>41.5</td>\n",
       "      <td>72.7</td>\n",
       "      <td>67.0</td>\n",
       "      <td>153.0</td>\n",
       "      <td>137.8</td>\n",
       "      <td>354.4</td>\n",
       "      <td>316.5</td>\n",
       "      <td>134.5</td>\n",
       "      <td>74.3</td>\n",
       "      <td>...</td>\n",
       "      <td>22.6</td>\n",
       "      <td>24.5</td>\n",
       "      <td>26.0</td>\n",
       "      <td>26.0</td>\n",
       "      <td>25.3</td>\n",
       "      <td>25.4</td>\n",
       "      <td>25.2</td>\n",
       "      <td>23.0</td>\n",
       "      <td>21.2</td>\n",
       "      <td>18.3</td>\n",
       "    </tr>\n",
       "    <tr>\n",
       "      <th>36</th>\n",
       "      <td>0.5</td>\n",
       "      <td>0.0</td>\n",
       "      <td>63.8</td>\n",
       "      <td>122.5</td>\n",
       "      <td>29.6</td>\n",
       "      <td>107.9</td>\n",
       "      <td>547.8</td>\n",
       "      <td>186.1</td>\n",
       "      <td>273.2</td>\n",
       "      <td>56.3</td>\n",
       "      <td>...</td>\n",
       "      <td>22.4</td>\n",
       "      <td>23.0</td>\n",
       "      <td>26.9</td>\n",
       "      <td>26.6</td>\n",
       "      <td>25.7</td>\n",
       "      <td>26.0</td>\n",
       "      <td>24.0</td>\n",
       "      <td>23.4</td>\n",
       "      <td>20.5</td>\n",
       "      <td>19.4</td>\n",
       "    </tr>\n",
       "    <tr>\n",
       "      <th>37</th>\n",
       "      <td>0.0</td>\n",
       "      <td>4.5</td>\n",
       "      <td>30.2</td>\n",
       "      <td>183.2</td>\n",
       "      <td>176.7</td>\n",
       "      <td>103.0</td>\n",
       "      <td>351.3</td>\n",
       "      <td>184.3</td>\n",
       "      <td>127.2</td>\n",
       "      <td>61.3</td>\n",
       "      <td>...</td>\n",
       "      <td>22.7</td>\n",
       "      <td>24.2</td>\n",
       "      <td>26.3</td>\n",
       "      <td>26.8</td>\n",
       "      <td>25.4</td>\n",
       "      <td>25.6</td>\n",
       "      <td>24.9</td>\n",
       "      <td>23.6</td>\n",
       "      <td>20.2</td>\n",
       "      <td>18.2</td>\n",
       "    </tr>\n",
       "    <tr>\n",
       "      <th>38</th>\n",
       "      <td>46.1</td>\n",
       "      <td>0.1</td>\n",
       "      <td>61.1</td>\n",
       "      <td>79.4</td>\n",
       "      <td>182.9</td>\n",
       "      <td>305.3</td>\n",
       "      <td>179.2</td>\n",
       "      <td>281.0</td>\n",
       "      <td>211.3</td>\n",
       "      <td>74.0</td>\n",
       "      <td>...</td>\n",
       "      <td>22.0</td>\n",
       "      <td>25.8</td>\n",
       "      <td>24.4</td>\n",
       "      <td>26.5</td>\n",
       "      <td>25.7</td>\n",
       "      <td>25.3</td>\n",
       "      <td>24.8</td>\n",
       "      <td>23.4</td>\n",
       "      <td>19.7</td>\n",
       "      <td>14.6</td>\n",
       "    </tr>\n",
       "    <tr>\n",
       "      <th>39</th>\n",
       "      <td>11.8</td>\n",
       "      <td>42.5</td>\n",
       "      <td>79.9</td>\n",
       "      <td>85.4</td>\n",
       "      <td>241.3</td>\n",
       "      <td>242.9</td>\n",
       "      <td>390.7</td>\n",
       "      <td>388.4</td>\n",
       "      <td>221.3</td>\n",
       "      <td>213.5</td>\n",
       "      <td>...</td>\n",
       "      <td>20.6</td>\n",
       "      <td>24.6</td>\n",
       "      <td>24.2</td>\n",
       "      <td>25.7</td>\n",
       "      <td>25.7</td>\n",
       "      <td>25.8</td>\n",
       "      <td>24.4</td>\n",
       "      <td>23.6</td>\n",
       "      <td>19.3</td>\n",
       "      <td>18.6</td>\n",
       "    </tr>\n",
       "  </tbody>\n",
       "</table>\n",
       "<p>5 rows × 96 columns</p>\n",
       "</div>"
      ],
      "text/plain": [
       "    MlaR01  MlaR02  MlaR03  MlaR04  MlaR05  MlaR06  MlaR07  MlaR08  MlaR09  \\\n",
       "35     0.0    41.5    72.7    67.0   153.0   137.8   354.4   316.5   134.5   \n",
       "36     0.5     0.0    63.8   122.5    29.6   107.9   547.8   186.1   273.2   \n",
       "37     0.0     4.5    30.2   183.2   176.7   103.0   351.3   184.3   127.2   \n",
       "38    46.1     0.1    61.1    79.4   182.9   305.3   179.2   281.0   211.3   \n",
       "39    11.8    42.5    79.9    85.4   241.3   242.9   390.7   388.4   221.3   \n",
       "\n",
       "    MlaR10    ...      JhongAT3  JhongAT4  JhongAT5  JhongAT6  JhongAT7  \\\n",
       "35    74.3    ...          22.6      24.5      26.0      26.0      25.3   \n",
       "36    56.3    ...          22.4      23.0      26.9      26.6      25.7   \n",
       "37    61.3    ...          22.7      24.2      26.3      26.8      25.4   \n",
       "38    74.0    ...          22.0      25.8      24.4      26.5      25.7   \n",
       "39   213.5    ...          20.6      24.6      24.2      25.7      25.7   \n",
       "\n",
       "    JhongAT8  JhongAT9  JhongAT10  JhongAT11  JhongAT12  \n",
       "35      25.4      25.2       23.0       21.2       18.3  \n",
       "36      26.0      24.0       23.4       20.5       19.4  \n",
       "37      25.6      24.9       23.6       20.2       18.2  \n",
       "38      25.3      24.8       23.4       19.7       14.6  \n",
       "39      25.8      24.4       23.6       19.3       18.6  \n",
       "\n",
       "[5 rows x 96 columns]"
      ]
     },
     "execution_count": 10,
     "metadata": {},
     "output_type": "execute_result"
    }
   ],
   "source": [
    "df.tail() #peek at the last 5 rows of the data using the .tail() method"
   ]
  },
  {
   "cell_type": "markdown",
   "metadata": {},
   "source": [
    "## Summary statistics"
   ]
  },
  {
   "cell_type": "markdown",
   "metadata": {},
   "source": [
    "The following code returns summary statistics on the rain and temperature data, including the count of items that are not part of NaN; the mean and standard deviation; minimum and maximum values; and the values of the 25,50,and 75 percentiles:"
   ]
  },
  {
   "cell_type": "code",
   "execution_count": 11,
   "metadata": {},
   "outputs": [
    {
     "data": {
      "text/html": [
       "<div>\n",
       "<table border=\"1\" class=\"dataframe\">\n",
       "  <thead>\n",
       "    <tr style=\"text-align: right;\">\n",
       "      <th></th>\n",
       "      <th>MlaR01</th>\n",
       "      <th>MlaR02</th>\n",
       "      <th>MlaR03</th>\n",
       "      <th>MlaR04</th>\n",
       "      <th>MlaR05</th>\n",
       "      <th>MlaR06</th>\n",
       "      <th>MlaR07</th>\n",
       "      <th>MlaR08</th>\n",
       "      <th>MlaR09</th>\n",
       "      <th>MlaR10</th>\n",
       "      <th>...</th>\n",
       "      <th>JhongAT3</th>\n",
       "      <th>JhongAT4</th>\n",
       "      <th>JhongAT5</th>\n",
       "      <th>JhongAT6</th>\n",
       "      <th>JhongAT7</th>\n",
       "      <th>JhongAT8</th>\n",
       "      <th>JhongAT9</th>\n",
       "      <th>JhongAT10</th>\n",
       "      <th>JhongAT11</th>\n",
       "      <th>JhongAT12</th>\n",
       "    </tr>\n",
       "  </thead>\n",
       "  <tbody>\n",
       "    <tr>\n",
       "      <th>count</th>\n",
       "      <td>40.000000</td>\n",
       "      <td>40.000000</td>\n",
       "      <td>40.000000</td>\n",
       "      <td>40.000000</td>\n",
       "      <td>40.000000</td>\n",
       "      <td>40.000000</td>\n",
       "      <td>40.00000</td>\n",
       "      <td>40.000000</td>\n",
       "      <td>40.000000</td>\n",
       "      <td>40.000000</td>\n",
       "      <td>...</td>\n",
       "      <td>40.000000</td>\n",
       "      <td>40.000000</td>\n",
       "      <td>40.0000</td>\n",
       "      <td>40.00000</td>\n",
       "      <td>40.000000</td>\n",
       "      <td>40.00000</td>\n",
       "      <td>40.000000</td>\n",
       "      <td>40.00000</td>\n",
       "      <td>40.000000</td>\n",
       "      <td>40.000000</td>\n",
       "    </tr>\n",
       "    <tr>\n",
       "      <th>mean</th>\n",
       "      <td>19.562500</td>\n",
       "      <td>22.697500</td>\n",
       "      <td>37.550000</td>\n",
       "      <td>96.352500</td>\n",
       "      <td>167.657500</td>\n",
       "      <td>225.680000</td>\n",
       "      <td>303.86000</td>\n",
       "      <td>308.070000</td>\n",
       "      <td>158.290000</td>\n",
       "      <td>93.927500</td>\n",
       "      <td>...</td>\n",
       "      <td>21.477500</td>\n",
       "      <td>24.377500</td>\n",
       "      <td>25.7775</td>\n",
       "      <td>25.91500</td>\n",
       "      <td>25.507500</td>\n",
       "      <td>25.22000</td>\n",
       "      <td>24.600000</td>\n",
       "      <td>22.79750</td>\n",
       "      <td>19.622500</td>\n",
       "      <td>16.472500</td>\n",
       "    </tr>\n",
       "    <tr>\n",
       "      <th>std</th>\n",
       "      <td>24.024557</td>\n",
       "      <td>24.924578</td>\n",
       "      <td>28.946662</td>\n",
       "      <td>45.086094</td>\n",
       "      <td>69.049926</td>\n",
       "      <td>76.860133</td>\n",
       "      <td>100.31874</td>\n",
       "      <td>90.486716</td>\n",
       "      <td>72.134205</td>\n",
       "      <td>52.928239</td>\n",
       "      <td>...</td>\n",
       "      <td>0.881283</td>\n",
       "      <td>1.041323</td>\n",
       "      <td>0.8980</td>\n",
       "      <td>0.59938</td>\n",
       "      <td>0.460984</td>\n",
       "      <td>0.52242</td>\n",
       "      <td>0.458537</td>\n",
       "      <td>0.74644</td>\n",
       "      <td>0.914691</td>\n",
       "      <td>1.201706</td>\n",
       "    </tr>\n",
       "    <tr>\n",
       "      <th>min</th>\n",
       "      <td>0.000000</td>\n",
       "      <td>0.000000</td>\n",
       "      <td>0.000000</td>\n",
       "      <td>25.700000</td>\n",
       "      <td>29.600000</td>\n",
       "      <td>103.000000</td>\n",
       "      <td>91.00000</td>\n",
       "      <td>173.800000</td>\n",
       "      <td>40.300000</td>\n",
       "      <td>13.300000</td>\n",
       "      <td>...</td>\n",
       "      <td>19.400000</td>\n",
       "      <td>22.300000</td>\n",
       "      <td>24.2000</td>\n",
       "      <td>24.90000</td>\n",
       "      <td>24.200000</td>\n",
       "      <td>24.00000</td>\n",
       "      <td>23.400000</td>\n",
       "      <td>21.10000</td>\n",
       "      <td>17.100000</td>\n",
       "      <td>13.300000</td>\n",
       "    </tr>\n",
       "    <tr>\n",
       "      <th>25%</th>\n",
       "      <td>3.300000</td>\n",
       "      <td>4.225000</td>\n",
       "      <td>12.975000</td>\n",
       "      <td>62.925000</td>\n",
       "      <td>120.950000</td>\n",
       "      <td>163.675000</td>\n",
       "      <td>234.95000</td>\n",
       "      <td>236.400000</td>\n",
       "      <td>108.350000</td>\n",
       "      <td>55.650000</td>\n",
       "      <td>...</td>\n",
       "      <td>20.700000</td>\n",
       "      <td>23.800000</td>\n",
       "      <td>25.1000</td>\n",
       "      <td>25.37500</td>\n",
       "      <td>25.300000</td>\n",
       "      <td>24.97500</td>\n",
       "      <td>24.300000</td>\n",
       "      <td>22.27500</td>\n",
       "      <td>19.000000</td>\n",
       "      <td>15.625000</td>\n",
       "    </tr>\n",
       "    <tr>\n",
       "      <th>50%</th>\n",
       "      <td>12.150000</td>\n",
       "      <td>11.900000</td>\n",
       "      <td>34.000000</td>\n",
       "      <td>91.250000</td>\n",
       "      <td>170.950000</td>\n",
       "      <td>219.900000</td>\n",
       "      <td>291.80000</td>\n",
       "      <td>302.350000</td>\n",
       "      <td>140.350000</td>\n",
       "      <td>84.600000</td>\n",
       "      <td>...</td>\n",
       "      <td>21.400000</td>\n",
       "      <td>24.400000</td>\n",
       "      <td>25.7000</td>\n",
       "      <td>26.00000</td>\n",
       "      <td>25.550000</td>\n",
       "      <td>25.30000</td>\n",
       "      <td>24.650000</td>\n",
       "      <td>22.85000</td>\n",
       "      <td>19.450000</td>\n",
       "      <td>16.550000</td>\n",
       "    </tr>\n",
       "    <tr>\n",
       "      <th>75%</th>\n",
       "      <td>28.875000</td>\n",
       "      <td>38.200000</td>\n",
       "      <td>53.800000</td>\n",
       "      <td>122.900000</td>\n",
       "      <td>202.675000</td>\n",
       "      <td>278.900000</td>\n",
       "      <td>356.75000</td>\n",
       "      <td>360.050000</td>\n",
       "      <td>210.850000</td>\n",
       "      <td>129.675000</td>\n",
       "      <td>...</td>\n",
       "      <td>22.100000</td>\n",
       "      <td>24.925000</td>\n",
       "      <td>26.3000</td>\n",
       "      <td>26.30000</td>\n",
       "      <td>25.725000</td>\n",
       "      <td>25.60000</td>\n",
       "      <td>24.900000</td>\n",
       "      <td>23.40000</td>\n",
       "      <td>20.200000</td>\n",
       "      <td>17.125000</td>\n",
       "    </tr>\n",
       "    <tr>\n",
       "      <th>max</th>\n",
       "      <td>111.400000</td>\n",
       "      <td>96.700000</td>\n",
       "      <td>130.800000</td>\n",
       "      <td>202.100000</td>\n",
       "      <td>377.200000</td>\n",
       "      <td>410.700000</td>\n",
       "      <td>547.80000</td>\n",
       "      <td>508.100000</td>\n",
       "      <td>321.700000</td>\n",
       "      <td>228.100000</td>\n",
       "      <td>...</td>\n",
       "      <td>23.400000</td>\n",
       "      <td>26.800000</td>\n",
       "      <td>27.7000</td>\n",
       "      <td>27.20000</td>\n",
       "      <td>26.700000</td>\n",
       "      <td>26.40000</td>\n",
       "      <td>25.500000</td>\n",
       "      <td>24.10000</td>\n",
       "      <td>21.400000</td>\n",
       "      <td>19.400000</td>\n",
       "    </tr>\n",
       "  </tbody>\n",
       "</table>\n",
       "<p>8 rows × 96 columns</p>\n",
       "</div>"
      ],
      "text/plain": [
       "           MlaR01     MlaR02      MlaR03      MlaR04      MlaR05      MlaR06  \\\n",
       "count   40.000000  40.000000   40.000000   40.000000   40.000000   40.000000   \n",
       "mean    19.562500  22.697500   37.550000   96.352500  167.657500  225.680000   \n",
       "std     24.024557  24.924578   28.946662   45.086094   69.049926   76.860133   \n",
       "min      0.000000   0.000000    0.000000   25.700000   29.600000  103.000000   \n",
       "25%      3.300000   4.225000   12.975000   62.925000  120.950000  163.675000   \n",
       "50%     12.150000  11.900000   34.000000   91.250000  170.950000  219.900000   \n",
       "75%     28.875000  38.200000   53.800000  122.900000  202.675000  278.900000   \n",
       "max    111.400000  96.700000  130.800000  202.100000  377.200000  410.700000   \n",
       "\n",
       "          MlaR07      MlaR08      MlaR09      MlaR10    ...       JhongAT3  \\\n",
       "count   40.00000   40.000000   40.000000   40.000000    ...      40.000000   \n",
       "mean   303.86000  308.070000  158.290000   93.927500    ...      21.477500   \n",
       "std    100.31874   90.486716   72.134205   52.928239    ...       0.881283   \n",
       "min     91.00000  173.800000   40.300000   13.300000    ...      19.400000   \n",
       "25%    234.95000  236.400000  108.350000   55.650000    ...      20.700000   \n",
       "50%    291.80000  302.350000  140.350000   84.600000    ...      21.400000   \n",
       "75%    356.75000  360.050000  210.850000  129.675000    ...      22.100000   \n",
       "max    547.80000  508.100000  321.700000  228.100000    ...      23.400000   \n",
       "\n",
       "        JhongAT4  JhongAT5  JhongAT6   JhongAT7  JhongAT8   JhongAT9  \\\n",
       "count  40.000000   40.0000  40.00000  40.000000  40.00000  40.000000   \n",
       "mean   24.377500   25.7775  25.91500  25.507500  25.22000  24.600000   \n",
       "std     1.041323    0.8980   0.59938   0.460984   0.52242   0.458537   \n",
       "min    22.300000   24.2000  24.90000  24.200000  24.00000  23.400000   \n",
       "25%    23.800000   25.1000  25.37500  25.300000  24.97500  24.300000   \n",
       "50%    24.400000   25.7000  26.00000  25.550000  25.30000  24.650000   \n",
       "75%    24.925000   26.3000  26.30000  25.725000  25.60000  24.900000   \n",
       "max    26.800000   27.7000  27.20000  26.700000  26.40000  25.500000   \n",
       "\n",
       "       JhongAT10  JhongAT11  JhongAT12  \n",
       "count   40.00000  40.000000  40.000000  \n",
       "mean    22.79750  19.622500  16.472500  \n",
       "std      0.74644   0.914691   1.201706  \n",
       "min     21.10000  17.100000  13.300000  \n",
       "25%     22.27500  19.000000  15.625000  \n",
       "50%     22.85000  19.450000  16.550000  \n",
       "75%     23.40000  20.200000  17.125000  \n",
       "max     24.10000  21.400000  19.400000  \n",
       "\n",
       "[8 rows x 96 columns]"
      ]
     },
     "execution_count": 11,
     "metadata": {},
     "output_type": "execute_result"
    }
   ],
   "source": [
    "df.describe() # returns summary statistics"
   ]
  },
  {
   "cell_type": "code",
   "execution_count": 12,
   "metadata": {},
   "outputs": [
    {
     "data": {
      "text/plain": [
       "MlaR01      0.0\n",
       "MlaR02      0.0\n",
       "MlaR03      0.0\n",
       "MlaR04     25.7\n",
       "MlaR05     29.6\n",
       "MlaR06    103.0\n",
       "MlaR07     91.0\n",
       "MlaR08    173.8\n",
       "MlaR09     40.3\n",
       "MlaR10     13.3\n",
       "MlaR11      0.0\n",
       "MlaR12      0.0\n",
       "dtype: float64"
      ]
     },
     "execution_count": 12,
     "metadata": {},
     "output_type": "execute_result"
    }
   ],
   "source": [
    "MlaRmin=df.min()\n",
    "MlaRmin[0:12]"
   ]
  },
  {
   "cell_type": "code",
   "execution_count": null,
   "metadata": {
    "collapsed": true
   },
   "outputs": [],
   "source": []
  },
  {
   "cell_type": "markdown",
   "metadata": {},
   "source": [
    "We can see that the smallest rainfall occurred in January, February, March, November and December within the 40 years in Mla."
   ]
  },
  {
   "cell_type": "code",
   "execution_count": 14,
   "metadata": {},
   "outputs": [
    {
     "data": {
      "text/plain": [
       "MlaAT01    13.1\n",
       "MlaAT02    15.6\n",
       "MlaAT03    18.0\n",
       "MlaAT04    21.3\n",
       "MlaAT05    23.4\n",
       "MlaAT06    24.2\n",
       "MlaAT07    23.8\n",
       "MlaAT08    23.2\n",
       "MlaAT09    22.7\n",
       "MlaAT10    20.4\n",
       "MlaAT11    16.6\n",
       "MlaAT12    12.4\n",
       "dtype: float64"
      ]
     },
     "execution_count": 14,
     "metadata": {},
     "output_type": "execute_result"
    }
   ],
   "source": [
    "MlaATmin=df.min()\n",
    "MlaATmin[12:24]"
   ]
  },
  {
   "cell_type": "markdown",
   "metadata": {},
   "source": [
    "We can see that the temperature are lower than 20 degrees for 5 months, which also have the smallest rainfall."
   ]
  },
  {
   "cell_type": "markdown",
   "metadata": {},
   "source": [
    "## Selecting DataFrame"
   ]
  },
  {
   "cell_type": "markdown",
   "metadata": {},
   "source": [
    "Selecting the rainfall data from January to December within 40 years in Mla:"
   ]
  },
  {
   "cell_type": "code",
   "execution_count": 3,
   "metadata": {},
   "outputs": [
    {
     "data": {
      "text/html": [
       "<div>\n",
       "<table border=\"1\" class=\"dataframe\">\n",
       "  <thead>\n",
       "    <tr style=\"text-align: right;\">\n",
       "      <th></th>\n",
       "      <th>MlaR01</th>\n",
       "      <th>MlaR02</th>\n",
       "      <th>MlaR03</th>\n",
       "      <th>MlaR04</th>\n",
       "      <th>MlaR05</th>\n",
       "      <th>MlaR06</th>\n",
       "      <th>MlaR07</th>\n",
       "      <th>MlaR08</th>\n",
       "      <th>MlaR09</th>\n",
       "      <th>MlaR10</th>\n",
       "      <th>MlaR11</th>\n",
       "      <th>MlaR12</th>\n",
       "    </tr>\n",
       "  </thead>\n",
       "  <tbody>\n",
       "    <tr>\n",
       "      <th>0</th>\n",
       "      <td>4.8</td>\n",
       "      <td>46.8</td>\n",
       "      <td>41.4</td>\n",
       "      <td>97.7</td>\n",
       "      <td>262.8</td>\n",
       "      <td>205.4</td>\n",
       "      <td>215.5</td>\n",
       "      <td>415.2</td>\n",
       "      <td>245.1</td>\n",
       "      <td>21.5</td>\n",
       "      <td>47.9</td>\n",
       "      <td>53.6</td>\n",
       "    </tr>\n",
       "    <tr>\n",
       "      <th>1</th>\n",
       "      <td>12.9</td>\n",
       "      <td>45.0</td>\n",
       "      <td>16.8</td>\n",
       "      <td>105.3</td>\n",
       "      <td>166.0</td>\n",
       "      <td>258.6</td>\n",
       "      <td>91.0</td>\n",
       "      <td>330.9</td>\n",
       "      <td>93.0</td>\n",
       "      <td>115.8</td>\n",
       "      <td>12.3</td>\n",
       "      <td>5.4</td>\n",
       "    </tr>\n",
       "    <tr>\n",
       "      <th>2</th>\n",
       "      <td>3.3</td>\n",
       "      <td>5.2</td>\n",
       "      <td>42.0</td>\n",
       "      <td>114.7</td>\n",
       "      <td>90.0</td>\n",
       "      <td>314.1</td>\n",
       "      <td>363.8</td>\n",
       "      <td>350.6</td>\n",
       "      <td>72.9</td>\n",
       "      <td>228.1</td>\n",
       "      <td>101.9</td>\n",
       "      <td>11.3</td>\n",
       "    </tr>\n",
       "    <tr>\n",
       "      <th>3</th>\n",
       "      <td>6.1</td>\n",
       "      <td>9.7</td>\n",
       "      <td>46.5</td>\n",
       "      <td>88.7</td>\n",
       "      <td>125.4</td>\n",
       "      <td>335.7</td>\n",
       "      <td>448.6</td>\n",
       "      <td>241.5</td>\n",
       "      <td>104.6</td>\n",
       "      <td>155.6</td>\n",
       "      <td>33.4</td>\n",
       "      <td>47.1</td>\n",
       "    </tr>\n",
       "    <tr>\n",
       "      <th>4</th>\n",
       "      <td>19.2</td>\n",
       "      <td>28.3</td>\n",
       "      <td>19.8</td>\n",
       "      <td>44.1</td>\n",
       "      <td>176.2</td>\n",
       "      <td>228.2</td>\n",
       "      <td>340.3</td>\n",
       "      <td>235.8</td>\n",
       "      <td>194.2</td>\n",
       "      <td>128.6</td>\n",
       "      <td>140.2</td>\n",
       "      <td>68.7</td>\n",
       "    </tr>\n",
       "  </tbody>\n",
       "</table>\n",
       "</div>"
      ],
      "text/plain": [
       "   MlaR01  MlaR02  MlaR03  MlaR04  MlaR05  MlaR06  MlaR07  MlaR08  MlaR09  \\\n",
       "0     4.8    46.8    41.4    97.7   262.8   205.4   215.5   415.2   245.1   \n",
       "1    12.9    45.0    16.8   105.3   166.0   258.6    91.0   330.9    93.0   \n",
       "2     3.3     5.2    42.0   114.7    90.0   314.1   363.8   350.6    72.9   \n",
       "3     6.1     9.7    46.5    88.7   125.4   335.7   448.6   241.5   104.6   \n",
       "4    19.2    28.3    19.8    44.1   176.2   228.2   340.3   235.8   194.2   \n",
       "\n",
       "   MlaR10  MlaR11  MlaR12  \n",
       "0    21.5    47.9    53.6  \n",
       "1   115.8    12.3     5.4  \n",
       "2   228.1   101.9    11.3  \n",
       "3   155.6    33.4    47.1  \n",
       "4   128.6   140.2    68.7  "
      ]
     },
     "execution_count": 3,
     "metadata": {},
     "output_type": "execute_result"
    }
   ],
   "source": [
    "# rows and columns can be retrieved by location using .iloc[]\n",
    "# get rows from 0 to 39, and columns from 0 to 12\n",
    "MlaR=df.iloc[:40,0:12]\n",
    "MlaR.head() # show the first 5 years' data"
   ]
  },
  {
   "cell_type": "markdown",
   "metadata": {},
   "source": [
    "The following code returns summary statistics on the rainfall data from January to December within 40 years in Mla:"
   ]
  },
  {
   "cell_type": "code",
   "execution_count": 17,
   "metadata": {
    "scrolled": true
   },
   "outputs": [
    {
     "data": {
      "text/html": [
       "<div>\n",
       "<table border=\"1\" class=\"dataframe\">\n",
       "  <thead>\n",
       "    <tr style=\"text-align: right;\">\n",
       "      <th></th>\n",
       "      <th>MlaR01</th>\n",
       "      <th>MlaR02</th>\n",
       "      <th>MlaR03</th>\n",
       "      <th>MlaR04</th>\n",
       "      <th>MlaR05</th>\n",
       "      <th>MlaR06</th>\n",
       "      <th>MlaR07</th>\n",
       "      <th>MlaR08</th>\n",
       "      <th>MlaR09</th>\n",
       "      <th>MlaR10</th>\n",
       "      <th>MlaR11</th>\n",
       "      <th>MlaR12</th>\n",
       "    </tr>\n",
       "  </thead>\n",
       "  <tbody>\n",
       "    <tr>\n",
       "      <th>count</th>\n",
       "      <td>40.000000</td>\n",
       "      <td>40.000000</td>\n",
       "      <td>40.000000</td>\n",
       "      <td>40.000000</td>\n",
       "      <td>40.000000</td>\n",
       "      <td>40.000000</td>\n",
       "      <td>40.00000</td>\n",
       "      <td>40.000000</td>\n",
       "      <td>40.000000</td>\n",
       "      <td>40.000000</td>\n",
       "      <td>40.000000</td>\n",
       "      <td>40.000000</td>\n",
       "    </tr>\n",
       "    <tr>\n",
       "      <th>mean</th>\n",
       "      <td>19.562500</td>\n",
       "      <td>22.697500</td>\n",
       "      <td>37.550000</td>\n",
       "      <td>96.352500</td>\n",
       "      <td>167.657500</td>\n",
       "      <td>225.680000</td>\n",
       "      <td>303.86000</td>\n",
       "      <td>308.070000</td>\n",
       "      <td>158.290000</td>\n",
       "      <td>93.927500</td>\n",
       "      <td>54.047500</td>\n",
       "      <td>29.542500</td>\n",
       "    </tr>\n",
       "    <tr>\n",
       "      <th>std</th>\n",
       "      <td>24.024557</td>\n",
       "      <td>24.924578</td>\n",
       "      <td>28.946662</td>\n",
       "      <td>45.086094</td>\n",
       "      <td>69.049926</td>\n",
       "      <td>76.860133</td>\n",
       "      <td>100.31874</td>\n",
       "      <td>90.486716</td>\n",
       "      <td>72.134205</td>\n",
       "      <td>52.928239</td>\n",
       "      <td>49.021225</td>\n",
       "      <td>32.107527</td>\n",
       "    </tr>\n",
       "    <tr>\n",
       "      <th>min</th>\n",
       "      <td>0.000000</td>\n",
       "      <td>0.000000</td>\n",
       "      <td>0.000000</td>\n",
       "      <td>25.700000</td>\n",
       "      <td>29.600000</td>\n",
       "      <td>103.000000</td>\n",
       "      <td>91.00000</td>\n",
       "      <td>173.800000</td>\n",
       "      <td>40.300000</td>\n",
       "      <td>13.300000</td>\n",
       "      <td>0.000000</td>\n",
       "      <td>0.000000</td>\n",
       "    </tr>\n",
       "    <tr>\n",
       "      <th>25%</th>\n",
       "      <td>3.300000</td>\n",
       "      <td>4.225000</td>\n",
       "      <td>12.975000</td>\n",
       "      <td>62.925000</td>\n",
       "      <td>120.950000</td>\n",
       "      <td>163.675000</td>\n",
       "      <td>234.95000</td>\n",
       "      <td>236.400000</td>\n",
       "      <td>108.350000</td>\n",
       "      <td>55.650000</td>\n",
       "      <td>19.700000</td>\n",
       "      <td>4.275000</td>\n",
       "    </tr>\n",
       "    <tr>\n",
       "      <th>50%</th>\n",
       "      <td>12.150000</td>\n",
       "      <td>11.900000</td>\n",
       "      <td>34.000000</td>\n",
       "      <td>91.250000</td>\n",
       "      <td>170.950000</td>\n",
       "      <td>219.900000</td>\n",
       "      <td>291.80000</td>\n",
       "      <td>302.350000</td>\n",
       "      <td>140.350000</td>\n",
       "      <td>84.600000</td>\n",
       "      <td>41.500000</td>\n",
       "      <td>17.850000</td>\n",
       "    </tr>\n",
       "    <tr>\n",
       "      <th>75%</th>\n",
       "      <td>28.875000</td>\n",
       "      <td>38.200000</td>\n",
       "      <td>53.800000</td>\n",
       "      <td>122.900000</td>\n",
       "      <td>202.675000</td>\n",
       "      <td>278.900000</td>\n",
       "      <td>356.75000</td>\n",
       "      <td>360.050000</td>\n",
       "      <td>210.850000</td>\n",
       "      <td>129.675000</td>\n",
       "      <td>76.475000</td>\n",
       "      <td>47.175000</td>\n",
       "    </tr>\n",
       "    <tr>\n",
       "      <th>max</th>\n",
       "      <td>111.400000</td>\n",
       "      <td>96.700000</td>\n",
       "      <td>130.800000</td>\n",
       "      <td>202.100000</td>\n",
       "      <td>377.200000</td>\n",
       "      <td>410.700000</td>\n",
       "      <td>547.80000</td>\n",
       "      <td>508.100000</td>\n",
       "      <td>321.700000</td>\n",
       "      <td>228.100000</td>\n",
       "      <td>193.500000</td>\n",
       "      <td>130.700000</td>\n",
       "    </tr>\n",
       "  </tbody>\n",
       "</table>\n",
       "</div>"
      ],
      "text/plain": [
       "           MlaR01     MlaR02      MlaR03      MlaR04      MlaR05      MlaR06  \\\n",
       "count   40.000000  40.000000   40.000000   40.000000   40.000000   40.000000   \n",
       "mean    19.562500  22.697500   37.550000   96.352500  167.657500  225.680000   \n",
       "std     24.024557  24.924578   28.946662   45.086094   69.049926   76.860133   \n",
       "min      0.000000   0.000000    0.000000   25.700000   29.600000  103.000000   \n",
       "25%      3.300000   4.225000   12.975000   62.925000  120.950000  163.675000   \n",
       "50%     12.150000  11.900000   34.000000   91.250000  170.950000  219.900000   \n",
       "75%     28.875000  38.200000   53.800000  122.900000  202.675000  278.900000   \n",
       "max    111.400000  96.700000  130.800000  202.100000  377.200000  410.700000   \n",
       "\n",
       "          MlaR07      MlaR08      MlaR09      MlaR10      MlaR11      MlaR12  \n",
       "count   40.00000   40.000000   40.000000   40.000000   40.000000   40.000000  \n",
       "mean   303.86000  308.070000  158.290000   93.927500   54.047500   29.542500  \n",
       "std    100.31874   90.486716   72.134205   52.928239   49.021225   32.107527  \n",
       "min     91.00000  173.800000   40.300000   13.300000    0.000000    0.000000  \n",
       "25%    234.95000  236.400000  108.350000   55.650000   19.700000    4.275000  \n",
       "50%    291.80000  302.350000  140.350000   84.600000   41.500000   17.850000  \n",
       "75%    356.75000  360.050000  210.850000  129.675000   76.475000   47.175000  \n",
       "max    547.80000  508.100000  321.700000  228.100000  193.500000  130.700000  "
      ]
     },
     "execution_count": 17,
     "metadata": {},
     "output_type": "execute_result"
    }
   ],
   "source": [
    "MlaR.describe() # returns summary statistics"
   ]
  },
  {
   "cell_type": "markdown",
   "metadata": {},
   "source": [
    "The following example selects all line data whose index label is 4, performing the monthly rainfall data for 12 months in the year 1965:"
   ]
  },
  {
   "cell_type": "code",
   "execution_count": null,
   "metadata": {
    "collapsed": true
   },
   "outputs": [],
   "source": []
  },
  {
   "cell_type": "code",
   "execution_count": 19,
   "metadata": {},
   "outputs": [
    {
     "data": {
      "text/plain": [
       "MlaR01     19.2\n",
       "MlaR02     28.3\n",
       "MlaR03     19.8\n",
       "MlaR04     44.1\n",
       "MlaR05    176.2\n",
       "MlaR06    228.2\n",
       "MlaR07    340.3\n",
       "MlaR08    235.8\n",
       "MlaR09    194.2\n",
       "MlaR10    128.6\n",
       "MlaR11    140.2\n",
       "MlaR12     68.7\n",
       "Name: 4, dtype: float64"
      ]
     },
     "execution_count": 19,
     "metadata": {},
     "output_type": "execute_result"
    }
   ],
   "source": [
    "# using .ix() method to select rows by index label or location\n",
    "MlaR1965=MlaR.ix[4]\n",
    "MlaR1965"
   ]
  },
  {
   "cell_type": "markdown",
   "metadata": {},
   "source": [
    "## Boolean selection"
   ]
  },
  {
   "cell_type": "markdown",
   "metadata": {},
   "source": [
    "The following code demonstrates identifying items in a Series where the rainfall are greater than 200:"
   ]
  },
  {
   "cell_type": "code",
   "execution_count": 20,
   "metadata": {},
   "outputs": [
    {
     "data": {
      "text/plain": [
       "MlaR01    False\n",
       "MlaR02    False\n",
       "MlaR03    False\n",
       "MlaR04    False\n",
       "MlaR05    False\n",
       "MlaR06     True\n",
       "MlaR07     True\n",
       "MlaR08     True\n",
       "MlaR09    False\n",
       "MlaR10    False\n",
       "MlaR11    False\n",
       "MlaR12    False\n",
       "Name: 4, dtype: bool"
      ]
     },
     "execution_count": 20,
     "metadata": {},
     "output_type": "execute_result"
    }
   ],
   "source": [
    "# A Boolean selection applies a logical expression \n",
    "# to the value of the Series\n",
    "MlaR1965>200"
   ]
  },
  {
   "cell_type": "markdown",
   "metadata": {},
   "source": [
    "The following code extracts subsets whose values are greater than 200:"
   ]
  },
  {
   "cell_type": "code",
   "execution_count": 21,
   "metadata": {},
   "outputs": [
    {
     "data": {
      "text/plain": [
       "MlaR06    228.2\n",
       "MlaR07    340.3\n",
       "MlaR08    235.8\n",
       "Name: 4, dtype: float64"
      ]
     },
     "execution_count": 21,
     "metadata": {},
     "output_type": "execute_result"
    }
   ],
   "source": [
    "# using the name of the Series inside of the [] operator \n",
    "# to extract subsets of data based on its contents:\n",
    "MlaR1965[MlaR1965>200]"
   ]
  },
  {
   "cell_type": "markdown",
   "metadata": {},
   "source": [
    "We can see that the rainfall values in June, July and August are great than 200."
   ]
  },
  {
   "cell_type": "markdown",
   "metadata": {},
   "source": [
    "The following code extracts subsets whose values are greater than 100 and less than 200:"
   ]
  },
  {
   "cell_type": "code",
   "execution_count": 22,
   "metadata": {},
   "outputs": [
    {
     "data": {
      "text/plain": [
       "MlaR05    176.2\n",
       "MlaR09    194.2\n",
       "MlaR10    128.6\n",
       "MlaR11    140.2\n",
       "Name: 4, dtype: float64"
      ]
     },
     "execution_count": 22,
     "metadata": {},
     "output_type": "execute_result"
    }
   ],
   "source": [
    "MlaR1965[(MlaR1965>100)&(MlaR1965<200)]"
   ]
  },
  {
   "cell_type": "markdown",
   "metadata": {},
   "source": [
    "It is convenient for us to see that the rainfall values in May, September, October and November are great than 100 and less than 200."
   ]
  },
  {
   "cell_type": "markdown",
   "metadata": {},
   "source": [
    "The following code extracts the air temperature monthly data in Mla in the year 1961: "
   ]
  },
  {
   "cell_type": "code",
   "execution_count": 24,
   "metadata": {},
   "outputs": [
    {
     "data": {
      "text/html": [
       "<div>\n",
       "<table border=\"1\" class=\"dataframe\">\n",
       "  <thead>\n",
       "    <tr style=\"text-align: right;\">\n",
       "      <th></th>\n",
       "      <th>MlaAT01</th>\n",
       "      <th>MlaAT02</th>\n",
       "      <th>MlaAT03</th>\n",
       "      <th>MlaAT04</th>\n",
       "      <th>MlaAT05</th>\n",
       "      <th>MlaAT06</th>\n",
       "      <th>MlaAT07</th>\n",
       "      <th>MlaAT08</th>\n",
       "      <th>MlaAT09</th>\n",
       "      <th>MlaAT10</th>\n",
       "      <th>MlaAT11</th>\n",
       "      <th>MlaAT12</th>\n",
       "    </tr>\n",
       "  </thead>\n",
       "  <tbody>\n",
       "    <tr>\n",
       "      <th>0</th>\n",
       "      <td>15.8</td>\n",
       "      <td>18.7</td>\n",
       "      <td>20.5</td>\n",
       "      <td>22.9</td>\n",
       "      <td>24.5</td>\n",
       "      <td>24.4</td>\n",
       "      <td>24.8</td>\n",
       "      <td>24.2</td>\n",
       "      <td>23.6</td>\n",
       "      <td>22.2</td>\n",
       "      <td>18.7</td>\n",
       "      <td>16.2</td>\n",
       "    </tr>\n",
       "  </tbody>\n",
       "</table>\n",
       "</div>"
      ],
      "text/plain": [
       "   MlaAT01  MlaAT02  MlaAT03  MlaAT04  MlaAT05  MlaAT06  MlaAT07  MlaAT08  \\\n",
       "0     15.8     18.7     20.5     22.9     24.5     24.4     24.8     24.2   \n",
       "\n",
       "   MlaAT09  MlaAT10  MlaAT11  MlaAT12  \n",
       "0     23.6     22.2     18.7     16.2  "
      ]
     },
     "execution_count": 24,
     "metadata": {},
     "output_type": "execute_result"
    }
   ],
   "source": [
    "# get row in location 1, and columns from 12 to 24\n",
    "MlaAT1961=df.iloc[:1,12:24]\n",
    "MlaAT1961"
   ]
  },
  {
   "cell_type": "code",
   "execution_count": 25,
   "metadata": {},
   "outputs": [
    {
     "data": {
      "text/plain": [
       "21.375"
      ]
     },
     "execution_count": 25,
     "metadata": {},
     "output_type": "execute_result"
    }
   ],
   "source": [
    "# acquire the mean of the series\n",
    "MlaAT1961.ix[0].mean()"
   ]
  },
  {
   "cell_type": "markdown",
   "metadata": {},
   "source": [
    "We can see the annual air temperature value is 21.375 degree in the year 1961."
   ]
  },
  {
   "cell_type": "markdown",
   "metadata": {},
   "source": [
    "Taking the rainfall data of the four places in January within 40 years as an example, I want to do some summary statistics and make further comparisons. The codes are as follows:"
   ]
  },
  {
   "cell_type": "code",
   "execution_count": 31,
   "metadata": {},
   "outputs": [
    {
     "data": {
      "text/html": [
       "<div>\n",
       "<table border=\"1\" class=\"dataframe\">\n",
       "  <thead>\n",
       "    <tr style=\"text-align: right;\">\n",
       "      <th></th>\n",
       "      <th>MlaR01</th>\n",
       "      <th>MlunR1</th>\n",
       "      <th>MhaiR1</th>\n",
       "      <th>JhongR1</th>\n",
       "    </tr>\n",
       "  </thead>\n",
       "  <tbody>\n",
       "    <tr>\n",
       "      <th>0</th>\n",
       "      <td>4.8</td>\n",
       "      <td>4.2</td>\n",
       "      <td>4.2</td>\n",
       "      <td>5.6</td>\n",
       "    </tr>\n",
       "    <tr>\n",
       "      <th>1</th>\n",
       "      <td>12.9</td>\n",
       "      <td>11.9</td>\n",
       "      <td>8.0</td>\n",
       "      <td>6.0</td>\n",
       "    </tr>\n",
       "    <tr>\n",
       "      <th>2</th>\n",
       "      <td>3.3</td>\n",
       "      <td>4.1</td>\n",
       "      <td>2.3</td>\n",
       "      <td>2.0</td>\n",
       "    </tr>\n",
       "    <tr>\n",
       "      <th>3</th>\n",
       "      <td>6.1</td>\n",
       "      <td>4.3</td>\n",
       "      <td>3.7</td>\n",
       "      <td>5.0</td>\n",
       "    </tr>\n",
       "    <tr>\n",
       "      <th>4</th>\n",
       "      <td>19.2</td>\n",
       "      <td>31.8</td>\n",
       "      <td>10.9</td>\n",
       "      <td>9.6</td>\n",
       "    </tr>\n",
       "    <tr>\n",
       "      <th>5</th>\n",
       "      <td>65.2</td>\n",
       "      <td>32.9</td>\n",
       "      <td>13.0</td>\n",
       "      <td>9.6</td>\n",
       "    </tr>\n",
       "    <tr>\n",
       "      <th>6</th>\n",
       "      <td>30.6</td>\n",
       "      <td>22.8</td>\n",
       "      <td>12.8</td>\n",
       "      <td>28.7</td>\n",
       "    </tr>\n",
       "    <tr>\n",
       "      <th>7</th>\n",
       "      <td>51.4</td>\n",
       "      <td>85.6</td>\n",
       "      <td>89.9</td>\n",
       "      <td>88.1</td>\n",
       "    </tr>\n",
       "    <tr>\n",
       "      <th>8</th>\n",
       "      <td>16.1</td>\n",
       "      <td>4.6</td>\n",
       "      <td>11.3</td>\n",
       "      <td>6.4</td>\n",
       "    </tr>\n",
       "    <tr>\n",
       "      <th>9</th>\n",
       "      <td>20.4</td>\n",
       "      <td>19.6</td>\n",
       "      <td>8.7</td>\n",
       "      <td>8.3</td>\n",
       "    </tr>\n",
       "    <tr>\n",
       "      <th>10</th>\n",
       "      <td>9.6</td>\n",
       "      <td>5.6</td>\n",
       "      <td>7.1</td>\n",
       "      <td>10.8</td>\n",
       "    </tr>\n",
       "    <tr>\n",
       "      <th>11</th>\n",
       "      <td>14.0</td>\n",
       "      <td>25.2</td>\n",
       "      <td>20.6</td>\n",
       "      <td>21.9</td>\n",
       "    </tr>\n",
       "    <tr>\n",
       "      <th>12</th>\n",
       "      <td>3.2</td>\n",
       "      <td>6.1</td>\n",
       "      <td>4.0</td>\n",
       "      <td>3.4</td>\n",
       "    </tr>\n",
       "    <tr>\n",
       "      <th>13</th>\n",
       "      <td>3.0</td>\n",
       "      <td>3.5</td>\n",
       "      <td>1.0</td>\n",
       "      <td>2.3</td>\n",
       "    </tr>\n",
       "    <tr>\n",
       "      <th>14</th>\n",
       "      <td>111.4</td>\n",
       "      <td>79.1</td>\n",
       "      <td>62.4</td>\n",
       "      <td>62.0</td>\n",
       "    </tr>\n",
       "    <tr>\n",
       "      <th>15</th>\n",
       "      <td>9.4</td>\n",
       "      <td>34.7</td>\n",
       "      <td>24.5</td>\n",
       "      <td>31.0</td>\n",
       "    </tr>\n",
       "    <tr>\n",
       "      <th>16</th>\n",
       "      <td>20.1</td>\n",
       "      <td>0.1</td>\n",
       "      <td>14.1</td>\n",
       "      <td>9.9</td>\n",
       "    </tr>\n",
       "    <tr>\n",
       "      <th>17</th>\n",
       "      <td>77.6</td>\n",
       "      <td>52.0</td>\n",
       "      <td>76.2</td>\n",
       "      <td>51.7</td>\n",
       "    </tr>\n",
       "    <tr>\n",
       "      <th>18</th>\n",
       "      <td>28.3</td>\n",
       "      <td>1.6</td>\n",
       "      <td>10.1</td>\n",
       "      <td>19.4</td>\n",
       "    </tr>\n",
       "    <tr>\n",
       "      <th>19</th>\n",
       "      <td>0.5</td>\n",
       "      <td>1.4</td>\n",
       "      <td>0.0</td>\n",
       "      <td>0.3</td>\n",
       "    </tr>\n",
       "    <tr>\n",
       "      <th>20</th>\n",
       "      <td>50.0</td>\n",
       "      <td>35.5</td>\n",
       "      <td>6.2</td>\n",
       "      <td>17.4</td>\n",
       "    </tr>\n",
       "    <tr>\n",
       "      <th>21</th>\n",
       "      <td>12.7</td>\n",
       "      <td>30.2</td>\n",
       "      <td>21.2</td>\n",
       "      <td>14.9</td>\n",
       "    </tr>\n",
       "    <tr>\n",
       "      <th>22</th>\n",
       "      <td>33.2</td>\n",
       "      <td>22.0</td>\n",
       "      <td>12.7</td>\n",
       "      <td>17.1</td>\n",
       "    </tr>\n",
       "    <tr>\n",
       "      <th>23</th>\n",
       "      <td>2.0</td>\n",
       "      <td>3.2</td>\n",
       "      <td>0.0</td>\n",
       "      <td>0.9</td>\n",
       "    </tr>\n",
       "    <tr>\n",
       "      <th>24</th>\n",
       "      <td>31.4</td>\n",
       "      <td>10.1</td>\n",
       "      <td>0.0</td>\n",
       "      <td>0.0</td>\n",
       "    </tr>\n",
       "    <tr>\n",
       "      <th>25</th>\n",
       "      <td>0.5</td>\n",
       "      <td>4.0</td>\n",
       "      <td>0.6</td>\n",
       "      <td>1.6</td>\n",
       "    </tr>\n",
       "    <tr>\n",
       "      <th>26</th>\n",
       "      <td>33.9</td>\n",
       "      <td>8.0</td>\n",
       "      <td>14.1</td>\n",
       "      <td>16.3</td>\n",
       "    </tr>\n",
       "    <tr>\n",
       "      <th>27</th>\n",
       "      <td>3.7</td>\n",
       "      <td>1.9</td>\n",
       "      <td>0.0</td>\n",
       "      <td>0.0</td>\n",
       "    </tr>\n",
       "    <tr>\n",
       "      <th>28</th>\n",
       "      <td>10.4</td>\n",
       "      <td>15.4</td>\n",
       "      <td>3.1</td>\n",
       "      <td>17.3</td>\n",
       "    </tr>\n",
       "    <tr>\n",
       "      <th>29</th>\n",
       "      <td>12.5</td>\n",
       "      <td>2.6</td>\n",
       "      <td>0.5</td>\n",
       "      <td>0.0</td>\n",
       "    </tr>\n",
       "    <tr>\n",
       "      <th>30</th>\n",
       "      <td>3.3</td>\n",
       "      <td>0.3</td>\n",
       "      <td>1.7</td>\n",
       "      <td>0.1</td>\n",
       "    </tr>\n",
       "    <tr>\n",
       "      <th>31</th>\n",
       "      <td>13.5</td>\n",
       "      <td>23.3</td>\n",
       "      <td>7.7</td>\n",
       "      <td>6.5</td>\n",
       "    </tr>\n",
       "    <tr>\n",
       "      <th>32</th>\n",
       "      <td>2.0</td>\n",
       "      <td>1.7</td>\n",
       "      <td>1.3</td>\n",
       "      <td>3.3</td>\n",
       "    </tr>\n",
       "    <tr>\n",
       "      <th>33</th>\n",
       "      <td>4.0</td>\n",
       "      <td>0.3</td>\n",
       "      <td>0.9</td>\n",
       "      <td>17.0</td>\n",
       "    </tr>\n",
       "    <tr>\n",
       "      <th>34</th>\n",
       "      <td>3.9</td>\n",
       "      <td>3.8</td>\n",
       "      <td>1.1</td>\n",
       "      <td>0.7</td>\n",
       "    </tr>\n",
       "    <tr>\n",
       "      <th>35</th>\n",
       "      <td>0.0</td>\n",
       "      <td>0.5</td>\n",
       "      <td>0.0</td>\n",
       "      <td>0.0</td>\n",
       "    </tr>\n",
       "    <tr>\n",
       "      <th>36</th>\n",
       "      <td>0.5</td>\n",
       "      <td>5.0</td>\n",
       "      <td>2.5</td>\n",
       "      <td>0.0</td>\n",
       "    </tr>\n",
       "    <tr>\n",
       "      <th>37</th>\n",
       "      <td>0.0</td>\n",
       "      <td>0.0</td>\n",
       "      <td>0.2</td>\n",
       "      <td>0.0</td>\n",
       "    </tr>\n",
       "    <tr>\n",
       "      <th>38</th>\n",
       "      <td>46.1</td>\n",
       "      <td>61.8</td>\n",
       "      <td>29.5</td>\n",
       "      <td>35.6</td>\n",
       "    </tr>\n",
       "    <tr>\n",
       "      <th>39</th>\n",
       "      <td>11.8</td>\n",
       "      <td>7.0</td>\n",
       "      <td>9.2</td>\n",
       "      <td>11.6</td>\n",
       "    </tr>\n",
       "  </tbody>\n",
       "</table>\n",
       "</div>"
      ],
      "text/plain": [
       "    MlaR01  MlunR1  MhaiR1  JhongR1\n",
       "0      4.8     4.2     4.2      5.6\n",
       "1     12.9    11.9     8.0      6.0\n",
       "2      3.3     4.1     2.3      2.0\n",
       "3      6.1     4.3     3.7      5.0\n",
       "4     19.2    31.8    10.9      9.6\n",
       "5     65.2    32.9    13.0      9.6\n",
       "6     30.6    22.8    12.8     28.7\n",
       "7     51.4    85.6    89.9     88.1\n",
       "8     16.1     4.6    11.3      6.4\n",
       "9     20.4    19.6     8.7      8.3\n",
       "10     9.6     5.6     7.1     10.8\n",
       "11    14.0    25.2    20.6     21.9\n",
       "12     3.2     6.1     4.0      3.4\n",
       "13     3.0     3.5     1.0      2.3\n",
       "14   111.4    79.1    62.4     62.0\n",
       "15     9.4    34.7    24.5     31.0\n",
       "16    20.1     0.1    14.1      9.9\n",
       "17    77.6    52.0    76.2     51.7\n",
       "18    28.3     1.6    10.1     19.4\n",
       "19     0.5     1.4     0.0      0.3\n",
       "20    50.0    35.5     6.2     17.4\n",
       "21    12.7    30.2    21.2     14.9\n",
       "22    33.2    22.0    12.7     17.1\n",
       "23     2.0     3.2     0.0      0.9\n",
       "24    31.4    10.1     0.0      0.0\n",
       "25     0.5     4.0     0.6      1.6\n",
       "26    33.9     8.0    14.1     16.3\n",
       "27     3.7     1.9     0.0      0.0\n",
       "28    10.4    15.4     3.1     17.3\n",
       "29    12.5     2.6     0.5      0.0\n",
       "30     3.3     0.3     1.7      0.1\n",
       "31    13.5    23.3     7.7      6.5\n",
       "32     2.0     1.7     1.3      3.3\n",
       "33     4.0     0.3     0.9     17.0\n",
       "34     3.9     3.8     1.1      0.7\n",
       "35     0.0     0.5     0.0      0.0\n",
       "36     0.5     5.0     2.5      0.0\n",
       "37     0.0     0.0     0.2      0.0\n",
       "38    46.1    61.8    29.5     35.6\n",
       "39    11.8     7.0     9.2     11.6"
      ]
     },
     "execution_count": 31,
     "metadata": {},
     "output_type": "execute_result"
    }
   ],
   "source": [
    "# or type: df[[0,24,48,72]]\n",
    "# to look up the rows with special index labels\n",
    "dfR1=df[['MlaR01','MlunR1','MhaiR1','JhongR1']]\n",
    "dfR1.head()"
   ]
  },
  {
   "cell_type": "code",
   "execution_count": 32,
   "metadata": {},
   "outputs": [
    {
     "data": {
      "text/html": [
       "<div>\n",
       "<table border=\"1\" class=\"dataframe\">\n",
       "  <thead>\n",
       "    <tr style=\"text-align: right;\">\n",
       "      <th></th>\n",
       "      <th>MlaR01</th>\n",
       "      <th>MlunR1</th>\n",
       "      <th>MhaiR1</th>\n",
       "      <th>JhongR1</th>\n",
       "    </tr>\n",
       "  </thead>\n",
       "  <tbody>\n",
       "    <tr>\n",
       "      <th>count</th>\n",
       "      <td>40.000000</td>\n",
       "      <td>40.000000</td>\n",
       "      <td>40.000000</td>\n",
       "      <td>40.000000</td>\n",
       "    </tr>\n",
       "    <tr>\n",
       "      <th>mean</th>\n",
       "      <td>19.562500</td>\n",
       "      <td>16.692500</td>\n",
       "      <td>12.432500</td>\n",
       "      <td>13.557500</td>\n",
       "    </tr>\n",
       "    <tr>\n",
       "      <th>std</th>\n",
       "      <td>24.024557</td>\n",
       "      <td>21.381988</td>\n",
       "      <td>20.021327</td>\n",
       "      <td>18.480161</td>\n",
       "    </tr>\n",
       "    <tr>\n",
       "      <th>min</th>\n",
       "      <td>0.000000</td>\n",
       "      <td>0.000000</td>\n",
       "      <td>0.000000</td>\n",
       "      <td>0.000000</td>\n",
       "    </tr>\n",
       "    <tr>\n",
       "      <th>25%</th>\n",
       "      <td>3.300000</td>\n",
       "      <td>3.050000</td>\n",
       "      <td>1.075000</td>\n",
       "      <td>1.425000</td>\n",
       "    </tr>\n",
       "    <tr>\n",
       "      <th>50%</th>\n",
       "      <td>12.150000</td>\n",
       "      <td>5.850000</td>\n",
       "      <td>6.650000</td>\n",
       "      <td>7.400000</td>\n",
       "    </tr>\n",
       "    <tr>\n",
       "      <th>75%</th>\n",
       "      <td>28.875000</td>\n",
       "      <td>23.775000</td>\n",
       "      <td>12.850000</td>\n",
       "      <td>17.150000</td>\n",
       "    </tr>\n",
       "    <tr>\n",
       "      <th>max</th>\n",
       "      <td>111.400000</td>\n",
       "      <td>85.600000</td>\n",
       "      <td>89.900000</td>\n",
       "      <td>88.100000</td>\n",
       "    </tr>\n",
       "  </tbody>\n",
       "</table>\n",
       "</div>"
      ],
      "text/plain": [
       "           MlaR01     MlunR1     MhaiR1    JhongR1\n",
       "count   40.000000  40.000000  40.000000  40.000000\n",
       "mean    19.562500  16.692500  12.432500  13.557500\n",
       "std     24.024557  21.381988  20.021327  18.480161\n",
       "min      0.000000   0.000000   0.000000   0.000000\n",
       "25%      3.300000   3.050000   1.075000   1.425000\n",
       "50%     12.150000   5.850000   6.650000   7.400000\n",
       "75%     28.875000  23.775000  12.850000  17.150000\n",
       "max    111.400000  85.600000  89.900000  88.100000"
      ]
     },
     "execution_count": 32,
     "metadata": {},
     "output_type": "execute_result"
    }
   ],
   "source": [
    "dfR1.describe()# returns summary statistics"
   ]
  },
  {
   "cell_type": "markdown",
   "metadata": {},
   "source": [
    "We can see that for the period of 1961-2000, January rainfall in Mla is larger than the other three counties, and the degree of dispersion in which is the largest too.\n",
    "In addition, the average rainfall in January is as low as 0 in the four counties."
   ]
  },
  {
   "cell_type": "code",
   "execution_count": 33,
   "metadata": {},
   "outputs": [
    {
     "data": {
      "text/html": [
       "<div>\n",
       "<table border=\"1\" class=\"dataframe\">\n",
       "  <thead>\n",
       "    <tr style=\"text-align: right;\">\n",
       "      <th></th>\n",
       "      <th>MlaAT01</th>\n",
       "      <th>MlunAT1</th>\n",
       "      <th>MhaiAT1</th>\n",
       "      <th>JhongAT1</th>\n",
       "    </tr>\n",
       "  </thead>\n",
       "  <tbody>\n",
       "    <tr>\n",
       "      <th>0</th>\n",
       "      <td>15.8</td>\n",
       "      <td>16.4</td>\n",
       "      <td>12.8</td>\n",
       "      <td>16.3</td>\n",
       "    </tr>\n",
       "    <tr>\n",
       "      <th>1</th>\n",
       "      <td>14.8</td>\n",
       "      <td>15.3</td>\n",
       "      <td>12.4</td>\n",
       "      <td>15.7</td>\n",
       "    </tr>\n",
       "    <tr>\n",
       "      <th>2</th>\n",
       "      <td>13.2</td>\n",
       "      <td>14.0</td>\n",
       "      <td>11.3</td>\n",
       "      <td>14.3</td>\n",
       "    </tr>\n",
       "    <tr>\n",
       "      <th>3</th>\n",
       "      <td>15.7</td>\n",
       "      <td>15.7</td>\n",
       "      <td>11.8</td>\n",
       "      <td>15.4</td>\n",
       "    </tr>\n",
       "    <tr>\n",
       "      <th>4</th>\n",
       "      <td>14.3</td>\n",
       "      <td>14.3</td>\n",
       "      <td>11.5</td>\n",
       "      <td>14.6</td>\n",
       "    </tr>\n",
       "  </tbody>\n",
       "</table>\n",
       "</div>"
      ],
      "text/plain": [
       "   MlaAT01  MlunAT1  MhaiAT1  JhongAT1\n",
       "0     15.8     16.4     12.8      16.3\n",
       "1     14.8     15.3     12.4      15.7\n",
       "2     13.2     14.0     11.3      14.3\n",
       "3     15.7     15.7     11.8      15.4\n",
       "4     14.3     14.3     11.5      14.6"
      ]
     },
     "execution_count": 33,
     "metadata": {},
     "output_type": "execute_result"
    }
   ],
   "source": [
    "dfAT1=df[['MlaAT01','MlunAT1','MhaiAT1','JhongAT1']]\n",
    "dfAT1.head()"
   ]
  },
  {
   "cell_type": "markdown",
   "metadata": {},
   "source": [
    "## Visualization"
   ]
  },
  {
   "cell_type": "markdown",
   "metadata": {},
   "source": [
    "The .plot() method makes plots of pandas data very easy to create, and the .hist() method is useful for visualizing distributions of data. "
   ]
  },
  {
   "cell_type": "code",
   "execution_count": 34,
   "metadata": {},
   "outputs": [
    {
     "data": {
      "text/plain": [
       "<matplotlib.text.Text at 0x89cc510>"
      ]
     },
     "execution_count": 34,
     "metadata": {},
     "output_type": "execute_result"
    },
    {
     "data": {
      "image/png": "[encoded data removed]",
      "text/plain": [
       "<matplotlib.figure.Figure at 0x8915a30>"
      ]
     },
     "metadata": {},
     "output_type": "display_data"
    }
   ],
   "source": [
    "dfR1.plot(title='January rainfall(1961-2000)')\n",
    "plt.xlabel('Time index')\n",
    "plt.ylabel('rainfall value')"
   ]
  },
  {
   "cell_type": "markdown",
   "metadata": {},
   "source": [
    "The picture indicates that there are four peaks of rainfall from 1961 to 2000. "
   ]
  },
  {
   "cell_type": "code",
   "execution_count": 35,
   "metadata": {},
   "outputs": [
    {
     "data": {
      "text/plain": [
       "<matplotlib.text.Text at 0x89b2df0>"
      ]
     },
     "execution_count": 35,
     "metadata": {},
     "output_type": "execute_result"
    },
    {
     "data": {
      "image/png": "[encoded data removed]",
      "text/plain": [
       "<matplotlib.figure.Figure at 0x898e0d0>"
      ]
     },
     "metadata": {},
     "output_type": "display_data"
    }
   ],
   "source": [
    "dfAT1.plot(title='January air temperature(1961-2000)')\n",
    "plt.xlabel('Time index')\n",
    "plt.ylabel('air temperature value')"
   ]
  },
  {
   "cell_type": "markdown",
   "metadata": {},
   "source": [
    "The picture indicates that January air temperature values in Mhai are lower than the others within 40 years, while the temperature values of the other three counties are close."
   ]
  },
  {
   "cell_type": "markdown",
   "metadata": {},
   "source": [
    "If the data has multiple series, the histogram function will automatically generate multiple histograma, one for each series:"
   ]
  },
  {
   "cell_type": "code",
   "execution_count": 36,
   "metadata": {},
   "outputs": [
    {
     "data": {
      "text/plain": [
       "array([[<matplotlib.axes._subplots.AxesSubplot object at 0x08AAC0B0>,\n",
       "        <matplotlib.axes._subplots.AxesSubplot object at 0x08AFAE90>],\n",
       "       [<matplotlib.axes._subplots.AxesSubplot object at 0x08B3AF70>,\n",
       "        <matplotlib.axes._subplots.AxesSubplot object at 0x08B716F0>]], dtype=object)"
      ]
     },
     "execution_count": 36,
     "metadata": {},
     "output_type": "execute_result"
    },
    {
     "data": {
      "image/png": "[encoded data removed]",
      "text/plain": [
       "<matplotlib.figure.Figure at 0x8abe250>"
      ]
     },
     "metadata": {},
     "output_type": "display_data"
    }
   ],
   "source": [
    "dfR1.hist()"
   ]
  },
  {
   "cell_type": "code",
   "execution_count": 37,
   "metadata": {},
   "outputs": [
    {
     "data": {
      "text/plain": [
       "<matplotlib.axes._subplots.AxesSubplot at 0x8bd95d0>"
      ]
     },
     "execution_count": 37,
     "metadata": {},
     "output_type": "execute_result"
    },
    {
     "data": {
      "image/png": "[encoded data removed]",
      "text/plain": [
       "<matplotlib.figure.Figure at 0x8bbc130>"
      ]
     },
     "metadata": {},
     "output_type": "display_data"
    }
   ],
   "source": [
    "# using the kind='kde' parameter to create kernel density estimation plots\n",
    "dfR1.plot(kind='kde')"
   ]
  },
  {
   "cell_type": "markdown",
   "metadata": {},
   "source": [
    "A kernel density estimate plot makes an attempt and estimates the true distribution of the data, and hence smoothes it into a continuous plot."
   ]
  },
  {
   "cell_type": "code",
   "execution_count": 38,
   "metadata": {},
   "outputs": [
    {
     "data": {
      "text/plain": [
       "<matplotlib.axes._subplots.AxesSubplot at 0x9314dd0>"
      ]
     },
     "execution_count": 38,
     "metadata": {},
     "output_type": "execute_result"
    },
    {
     "data": {
      "image/png": "[encoded data removed]",
      "text/plain": [
       "<matplotlib.figure.Figure at 0x92ffa50>"
      ]
     },
     "metadata": {},
     "output_type": "display_data"
    }
   ],
   "source": [
    "# area plots are generated by specifying kind='area'\n",
    "dfR1.plot(kind='area')"
   ]
  },
  {
   "cell_type": "code",
   "execution_count": 40,
   "metadata": {},
   "outputs": [
    {
     "data": {
      "text/plain": [
       "<matplotlib.text.Text at 0x93ef3f0>"
      ]
     },
     "execution_count": 40,
     "metadata": {},
     "output_type": "execute_result"
    },
    {
     "data": {
      "image/png": "[encoded data removed]",
      "text/plain": [
       "<matplotlib.figure.Figure at 0x8b1ae10>"
      ]
     },
     "metadata": {},
     "output_type": "display_data"
    }
   ],
   "source": [
    "# plotting a DataFrame with a single row \n",
    "MlaAT1961.ix[0].plot(title='Mla air temperature in 1961 ')\n",
    "plt.xlabel('Month')\n",
    "plt.ylabel('air temperature value')"
   ]
  },
  {
   "cell_type": "markdown",
   "metadata": {},
   "source": [
    "The picture indicates that Mla temperature in 1961 has began to fall continously from July."
   ]
  },
  {
   "cell_type": "code",
   "execution_count": null,
   "metadata": {},
   "outputs": [],
   "source": []
  },
  {
   "cell_type": "code",
   "execution_count": null,
   "metadata": {},
   "outputs": [],
   "source": []
  }
 ],
 "metadata": {
  "kernelspec": {
   "display_name": "Python 3",
   "language": "python",
   "name": "python3"
  },
  "language_info": {
   "codemirror_mode": {
    "name": "ipython",
    "version": 3
   },
   "file_extension": ".py",
   "mimetype": "text/x-python",
   "name": "python",
   "nbconvert_exporter": "python",
   "pygments_lexer": "ipython3",
   "version": "3.6.5"
  }
 },
 "nbformat": 4,
 "nbformat_minor": 2
}
