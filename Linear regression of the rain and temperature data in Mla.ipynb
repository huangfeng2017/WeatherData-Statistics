{
 "cells": [
  {
   "cell_type": "markdown",
   "metadata": {},
   "source": [
    "### Import"
   ]
  },
  {
   "cell_type": "code",
   "execution_count": 3,
   "metadata": {
    "collapsed": true
   },
   "outputs": [],
   "source": [
    "# necessary imports for the descriptive statistics\n",
    "import pandas as pd\n",
    "import matplotlib.pyplot as plt\n",
    "import numpy as np\n",
    "from scipy import stats\n",
    "import pylab\n",
    "from sklearn import linear_model\n",
    "from sklearn.linear_model import LinearRegression\n",
    "%matplotlib inline"
   ]
  },
  {
   "cell_type": "markdown",
   "metadata": {},
   "source": [
    "### General description"
   ]
  },
  {
   "cell_type": "markdown",
   "metadata": {},
   "source": [
    "The following dataset is the rain and temperature data from January to December for the period of 1961-2000, which is from four county meteorological stations representing Mengla, Menglun, Menghai, Jinghong:"
   ]
  },
  {
   "cell_type": "markdown",
   "metadata": {},
   "source": [
    "#### Variable tag description:\n",
    "- Mla=Mengla;  Mlun=Menglun;  Mhai=Menghai;  Jhong=Jinghong.\n",
    "- R=monthly rainfall; AT=monthly temperature; 01,02,...,12 means 12 months from January to December."
   ]
  },
  {
   "cell_type": "code",
   "execution_count": 4,
   "metadata": {},
   "outputs": [
    {
     "data": {
      "text/html": [
       "<div>\n",
       "<table border=\"1\" class=\"dataframe\">\n",
       "  <thead>\n",
       "    <tr style=\"text-align: right;\">\n",
       "      <th></th>\n",
       "      <th>MlaR01</th>\n",
       "      <th>MlaR02</th>\n",
       "      <th>MlaR03</th>\n",
       "      <th>MlaR04</th>\n",
       "      <th>MlaR05</th>\n",
       "      <th>MlaR06</th>\n",
       "      <th>MlaR07</th>\n",
       "      <th>MlaR08</th>\n",
       "      <th>MlaR09</th>\n",
       "      <th>MlaR10</th>\n",
       "      <th>...</th>\n",
       "      <th>JhongAT3</th>\n",
       "      <th>JhongAT4</th>\n",
       "      <th>JhongAT5</th>\n",
       "      <th>JhongAT6</th>\n",
       "      <th>JhongAT7</th>\n",
       "      <th>JhongAT8</th>\n",
       "      <th>JhongAT9</th>\n",
       "      <th>JhongAT10</th>\n",
       "      <th>JhongAT11</th>\n",
       "      <th>JhongAT12</th>\n",
       "    </tr>\n",
       "  </thead>\n",
       "  <tbody>\n",
       "    <tr>\n",
       "      <th>0</th>\n",
       "      <td>4.8</td>\n",
       "      <td>46.8</td>\n",
       "      <td>41.4</td>\n",
       "      <td>97.7</td>\n",
       "      <td>262.8</td>\n",
       "      <td>205.4</td>\n",
       "      <td>215.5</td>\n",
       "      <td>415.2</td>\n",
       "      <td>245.1</td>\n",
       "      <td>21.5</td>\n",
       "      <td>...</td>\n",
       "      <td>21.3</td>\n",
       "      <td>24.2</td>\n",
       "      <td>25.8</td>\n",
       "      <td>26.0</td>\n",
       "      <td>25.6</td>\n",
       "      <td>24.8</td>\n",
       "      <td>24.1</td>\n",
       "      <td>22.9</td>\n",
       "      <td>19.0</td>\n",
       "      <td>16.7</td>\n",
       "    </tr>\n",
       "    <tr>\n",
       "      <th>1</th>\n",
       "      <td>12.9</td>\n",
       "      <td>45.0</td>\n",
       "      <td>16.8</td>\n",
       "      <td>105.3</td>\n",
       "      <td>166.0</td>\n",
       "      <td>258.6</td>\n",
       "      <td>91.0</td>\n",
       "      <td>330.9</td>\n",
       "      <td>93.0</td>\n",
       "      <td>115.8</td>\n",
       "      <td>...</td>\n",
       "      <td>19.4</td>\n",
       "      <td>24.4</td>\n",
       "      <td>26.1</td>\n",
       "      <td>25.1</td>\n",
       "      <td>25.6</td>\n",
       "      <td>24.5</td>\n",
       "      <td>23.9</td>\n",
       "      <td>22.1</td>\n",
       "      <td>18.8</td>\n",
       "      <td>15.4</td>\n",
       "    </tr>\n",
       "    <tr>\n",
       "      <th>2</th>\n",
       "      <td>3.3</td>\n",
       "      <td>5.2</td>\n",
       "      <td>42.0</td>\n",
       "      <td>114.7</td>\n",
       "      <td>90.0</td>\n",
       "      <td>314.1</td>\n",
       "      <td>363.8</td>\n",
       "      <td>350.6</td>\n",
       "      <td>72.9</td>\n",
       "      <td>228.1</td>\n",
       "      <td>...</td>\n",
       "      <td>20.4</td>\n",
       "      <td>24.0</td>\n",
       "      <td>26.3</td>\n",
       "      <td>25.9</td>\n",
       "      <td>25.3</td>\n",
       "      <td>24.6</td>\n",
       "      <td>25.0</td>\n",
       "      <td>22.0</td>\n",
       "      <td>19.4</td>\n",
       "      <td>15.4</td>\n",
       "    </tr>\n",
       "    <tr>\n",
       "      <th>3</th>\n",
       "      <td>6.1</td>\n",
       "      <td>9.7</td>\n",
       "      <td>46.5</td>\n",
       "      <td>88.7</td>\n",
       "      <td>125.4</td>\n",
       "      <td>335.7</td>\n",
       "      <td>448.6</td>\n",
       "      <td>241.5</td>\n",
       "      <td>104.6</td>\n",
       "      <td>155.6</td>\n",
       "      <td>...</td>\n",
       "      <td>20.5</td>\n",
       "      <td>23.7</td>\n",
       "      <td>24.8</td>\n",
       "      <td>25.1</td>\n",
       "      <td>24.2</td>\n",
       "      <td>24.9</td>\n",
       "      <td>24.7</td>\n",
       "      <td>23.3</td>\n",
       "      <td>18.8</td>\n",
       "      <td>15.1</td>\n",
       "    </tr>\n",
       "    <tr>\n",
       "      <th>4</th>\n",
       "      <td>19.2</td>\n",
       "      <td>28.3</td>\n",
       "      <td>19.8</td>\n",
       "      <td>44.1</td>\n",
       "      <td>176.2</td>\n",
       "      <td>228.2</td>\n",
       "      <td>340.3</td>\n",
       "      <td>235.8</td>\n",
       "      <td>194.2</td>\n",
       "      <td>128.6</td>\n",
       "      <td>...</td>\n",
       "      <td>20.2</td>\n",
       "      <td>24.3</td>\n",
       "      <td>25.9</td>\n",
       "      <td>25.3</td>\n",
       "      <td>25.4</td>\n",
       "      <td>24.3</td>\n",
       "      <td>24.1</td>\n",
       "      <td>22.2</td>\n",
       "      <td>18.5</td>\n",
       "      <td>17.4</td>\n",
       "    </tr>\n",
       "  </tbody>\n",
       "</table>\n",
       "<p>5 rows × 96 columns</p>\n",
       "</div>"
      ],
      "text/plain": [
       "   MlaR01  MlaR02  MlaR03  MlaR04  MlaR05  MlaR06  MlaR07  MlaR08  MlaR09  \\\n",
       "0     4.8    46.8    41.4    97.7   262.8   205.4   215.5   415.2   245.1   \n",
       "1    12.9    45.0    16.8   105.3   166.0   258.6    91.0   330.9    93.0   \n",
       "2     3.3     5.2    42.0   114.7    90.0   314.1   363.8   350.6    72.9   \n",
       "3     6.1     9.7    46.5    88.7   125.4   335.7   448.6   241.5   104.6   \n",
       "4    19.2    28.3    19.8    44.1   176.2   228.2   340.3   235.8   194.2   \n",
       "\n",
       "   MlaR10    ...      JhongAT3  JhongAT4  JhongAT5  JhongAT6  JhongAT7  \\\n",
       "0    21.5    ...          21.3      24.2      25.8      26.0      25.6   \n",
       "1   115.8    ...          19.4      24.4      26.1      25.1      25.6   \n",
       "2   228.1    ...          20.4      24.0      26.3      25.9      25.3   \n",
       "3   155.6    ...          20.5      23.7      24.8      25.1      24.2   \n",
       "4   128.6    ...          20.2      24.3      25.9      25.3      25.4   \n",
       "\n",
       "   JhongAT8  JhongAT9  JhongAT10  JhongAT11  JhongAT12  \n",
       "0      24.8      24.1       22.9       19.0       16.7  \n",
       "1      24.5      23.9       22.1       18.8       15.4  \n",
       "2      24.6      25.0       22.0       19.4       15.4  \n",
       "3      24.9      24.7       23.3       18.8       15.1  \n",
       "4      24.3      24.1       22.2       18.5       17.4  \n",
       "\n",
       "[5 rows x 96 columns]"
      ]
     },
     "execution_count": 4,
     "metadata": {},
     "output_type": "execute_result"
    }
   ],
   "source": [
    "import pandas as pd\n",
    "df=pd.read_csv('C:/Users/Administrator/Desktop/Python/exercise/WeatherData(1961-2000)/Rain and Temperature Data.csv',header=0)\n",
    "df.head()"
   ]
  },
  {
   "cell_type": "markdown",
   "metadata": {},
   "source": [
    "### Example:  The Mla weather dataset"
   ]
  },
  {
   "cell_type": "markdown",
   "metadata": {},
   "source": [
    "The following shows all the monthly rain and air temperature data for the period of 1961-2000 in Mla:"
   ]
  },
  {
   "cell_type": "code",
   "execution_count": 5,
   "metadata": {},
   "outputs": [
    {
     "data": {
      "text/html": [
       "<div>\n",
       "<table border=\"1\" class=\"dataframe\">\n",
       "  <thead>\n",
       "    <tr style=\"text-align: right;\">\n",
       "      <th></th>\n",
       "      <th>MlaR01</th>\n",
       "      <th>MlaR02</th>\n",
       "      <th>MlaR03</th>\n",
       "      <th>MlaR04</th>\n",
       "      <th>MlaR05</th>\n",
       "      <th>MlaR06</th>\n",
       "      <th>MlaR07</th>\n",
       "      <th>MlaR08</th>\n",
       "      <th>MlaR09</th>\n",
       "      <th>MlaR10</th>\n",
       "      <th>...</th>\n",
       "      <th>MlaAT03</th>\n",
       "      <th>MlaAT04</th>\n",
       "      <th>MlaAT05</th>\n",
       "      <th>MlaAT06</th>\n",
       "      <th>MlaAT07</th>\n",
       "      <th>MlaAT08</th>\n",
       "      <th>MlaAT09</th>\n",
       "      <th>MlaAT10</th>\n",
       "      <th>MlaAT11</th>\n",
       "      <th>MlaAT12</th>\n",
       "    </tr>\n",
       "  </thead>\n",
       "  <tbody>\n",
       "    <tr>\n",
       "      <th>0</th>\n",
       "      <td>4.8</td>\n",
       "      <td>46.8</td>\n",
       "      <td>41.4</td>\n",
       "      <td>97.7</td>\n",
       "      <td>262.8</td>\n",
       "      <td>205.4</td>\n",
       "      <td>215.5</td>\n",
       "      <td>415.2</td>\n",
       "      <td>245.1</td>\n",
       "      <td>21.5</td>\n",
       "      <td>...</td>\n",
       "      <td>20.5</td>\n",
       "      <td>22.9</td>\n",
       "      <td>24.5</td>\n",
       "      <td>24.4</td>\n",
       "      <td>24.8</td>\n",
       "      <td>24.2</td>\n",
       "      <td>23.6</td>\n",
       "      <td>22.2</td>\n",
       "      <td>18.7</td>\n",
       "      <td>16.2</td>\n",
       "    </tr>\n",
       "    <tr>\n",
       "      <th>1</th>\n",
       "      <td>12.9</td>\n",
       "      <td>45.0</td>\n",
       "      <td>16.8</td>\n",
       "      <td>105.3</td>\n",
       "      <td>166.0</td>\n",
       "      <td>258.6</td>\n",
       "      <td>91.0</td>\n",
       "      <td>330.9</td>\n",
       "      <td>93.0</td>\n",
       "      <td>115.8</td>\n",
       "      <td>...</td>\n",
       "      <td>18.0</td>\n",
       "      <td>22.5</td>\n",
       "      <td>24.4</td>\n",
       "      <td>24.5</td>\n",
       "      <td>25.1</td>\n",
       "      <td>24.4</td>\n",
       "      <td>23.4</td>\n",
       "      <td>21.4</td>\n",
       "      <td>18.6</td>\n",
       "      <td>14.7</td>\n",
       "    </tr>\n",
       "    <tr>\n",
       "      <th>2</th>\n",
       "      <td>3.3</td>\n",
       "      <td>5.2</td>\n",
       "      <td>42.0</td>\n",
       "      <td>114.7</td>\n",
       "      <td>90.0</td>\n",
       "      <td>314.1</td>\n",
       "      <td>363.8</td>\n",
       "      <td>350.6</td>\n",
       "      <td>72.9</td>\n",
       "      <td>228.1</td>\n",
       "      <td>...</td>\n",
       "      <td>18.8</td>\n",
       "      <td>21.9</td>\n",
       "      <td>24.3</td>\n",
       "      <td>24.6</td>\n",
       "      <td>24.7</td>\n",
       "      <td>24.0</td>\n",
       "      <td>24.4</td>\n",
       "      <td>21.4</td>\n",
       "      <td>19.2</td>\n",
       "      <td>15.3</td>\n",
       "    </tr>\n",
       "    <tr>\n",
       "      <th>3</th>\n",
       "      <td>6.1</td>\n",
       "      <td>9.7</td>\n",
       "      <td>46.5</td>\n",
       "      <td>88.7</td>\n",
       "      <td>125.4</td>\n",
       "      <td>335.7</td>\n",
       "      <td>448.6</td>\n",
       "      <td>241.5</td>\n",
       "      <td>104.6</td>\n",
       "      <td>155.6</td>\n",
       "      <td>...</td>\n",
       "      <td>19.7</td>\n",
       "      <td>22.4</td>\n",
       "      <td>24.0</td>\n",
       "      <td>24.4</td>\n",
       "      <td>23.8</td>\n",
       "      <td>24.2</td>\n",
       "      <td>23.6</td>\n",
       "      <td>22.7</td>\n",
       "      <td>17.8</td>\n",
       "      <td>14.7</td>\n",
       "    </tr>\n",
       "    <tr>\n",
       "      <th>4</th>\n",
       "      <td>19.2</td>\n",
       "      <td>28.3</td>\n",
       "      <td>19.8</td>\n",
       "      <td>44.1</td>\n",
       "      <td>176.2</td>\n",
       "      <td>228.2</td>\n",
       "      <td>340.3</td>\n",
       "      <td>235.8</td>\n",
       "      <td>194.2</td>\n",
       "      <td>128.6</td>\n",
       "      <td>...</td>\n",
       "      <td>18.8</td>\n",
       "      <td>22.6</td>\n",
       "      <td>24.3</td>\n",
       "      <td>24.3</td>\n",
       "      <td>24.4</td>\n",
       "      <td>23.6</td>\n",
       "      <td>23.2</td>\n",
       "      <td>21.6</td>\n",
       "      <td>18.1</td>\n",
       "      <td>16.9</td>\n",
       "    </tr>\n",
       "  </tbody>\n",
       "</table>\n",
       "<p>5 rows × 24 columns</p>\n",
       "</div>"
      ],
      "text/plain": [
       "   MlaR01  MlaR02  MlaR03  MlaR04  MlaR05  MlaR06  MlaR07  MlaR08  MlaR09  \\\n",
       "0     4.8    46.8    41.4    97.7   262.8   205.4   215.5   415.2   245.1   \n",
       "1    12.9    45.0    16.8   105.3   166.0   258.6    91.0   330.9    93.0   \n",
       "2     3.3     5.2    42.0   114.7    90.0   314.1   363.8   350.6    72.9   \n",
       "3     6.1     9.7    46.5    88.7   125.4   335.7   448.6   241.5   104.6   \n",
       "4    19.2    28.3    19.8    44.1   176.2   228.2   340.3   235.8   194.2   \n",
       "\n",
       "   MlaR10   ...     MlaAT03  MlaAT04  MlaAT05  MlaAT06  MlaAT07  MlaAT08  \\\n",
       "0    21.5   ...        20.5     22.9     24.5     24.4     24.8     24.2   \n",
       "1   115.8   ...        18.0     22.5     24.4     24.5     25.1     24.4   \n",
       "2   228.1   ...        18.8     21.9     24.3     24.6     24.7     24.0   \n",
       "3   155.6   ...        19.7     22.4     24.0     24.4     23.8     24.2   \n",
       "4   128.6   ...        18.8     22.6     24.3     24.3     24.4     23.6   \n",
       "\n",
       "   MlaAT09  MlaAT10  MlaAT11  MlaAT12  \n",
       "0     23.6     22.2     18.7     16.2  \n",
       "1     23.4     21.4     18.6     14.7  \n",
       "2     24.4     21.4     19.2     15.3  \n",
       "3     23.6     22.7     17.8     14.7  \n",
       "4     23.2     21.6     18.1     16.9  \n",
       "\n",
       "[5 rows x 24 columns]"
      ]
     },
     "execution_count": 5,
     "metadata": {},
     "output_type": "execute_result"
    }
   ],
   "source": [
    "# rows and columns can be retrieved by location using .iloc[]\n",
    "# get rows from 0 to 40, and columns from 0 to 24\n",
    "Mla=df.iloc[:40,0:24]\n",
    "Mla.head() # show the first 5 years' data"
   ]
  },
  {
   "cell_type": "markdown",
   "metadata": {},
   "source": [
    "### Correlation plot:"
   ]
  },
  {
   "cell_type": "code",
   "execution_count": 6,
   "metadata": {},
   "outputs": [
    {
     "data": {
      "text/plain": [
       "<matplotlib.image.AxesImage at 0x9388bd0>"
      ]
     },
     "execution_count": 6,
     "metadata": {},
     "output_type": "execute_result"
    },
    {
     "data": {
      "image/png": "[encoded data removed]",
      "text/plain": [
       "<matplotlib.figure.Figure at 0x80dafb0>"
      ]
     },
     "metadata": {},
     "output_type": "display_data"
    }
   ],
   "source": [
    "Mla.corr()\n",
    "plt.matshow(Mla.corr())"
   ]
  },
  {
   "cell_type": "markdown",
   "metadata": {},
   "source": [
    "Something wrong?"
   ]
  },
  {
   "cell_type": "markdown",
   "metadata": {},
   "source": [
    "#### The Mla Rainfall data:"
   ]
  },
  {
   "cell_type": "code",
   "execution_count": 7,
   "metadata": {},
   "outputs": [
    {
     "data": {
      "text/html": [
       "<div>\n",
       "<table border=\"1\" class=\"dataframe\">\n",
       "  <thead>\n",
       "    <tr style=\"text-align: right;\">\n",
       "      <th></th>\n",
       "      <th>MlaR01</th>\n",
       "      <th>MlaR02</th>\n",
       "      <th>MlaR03</th>\n",
       "      <th>MlaR04</th>\n",
       "      <th>MlaR05</th>\n",
       "      <th>MlaR06</th>\n",
       "      <th>MlaR07</th>\n",
       "      <th>MlaR08</th>\n",
       "      <th>MlaR09</th>\n",
       "      <th>MlaR10</th>\n",
       "      <th>MlaR11</th>\n",
       "      <th>MlaR12</th>\n",
       "    </tr>\n",
       "  </thead>\n",
       "  <tbody>\n",
       "    <tr>\n",
       "      <th>0</th>\n",
       "      <td>4.8</td>\n",
       "      <td>46.8</td>\n",
       "      <td>41.4</td>\n",
       "      <td>97.7</td>\n",
       "      <td>262.8</td>\n",
       "      <td>205.4</td>\n",
       "      <td>215.5</td>\n",
       "      <td>415.2</td>\n",
       "      <td>245.1</td>\n",
       "      <td>21.5</td>\n",
       "      <td>47.9</td>\n",
       "      <td>53.6</td>\n",
       "    </tr>\n",
       "    <tr>\n",
       "      <th>1</th>\n",
       "      <td>12.9</td>\n",
       "      <td>45.0</td>\n",
       "      <td>16.8</td>\n",
       "      <td>105.3</td>\n",
       "      <td>166.0</td>\n",
       "      <td>258.6</td>\n",
       "      <td>91.0</td>\n",
       "      <td>330.9</td>\n",
       "      <td>93.0</td>\n",
       "      <td>115.8</td>\n",
       "      <td>12.3</td>\n",
       "      <td>5.4</td>\n",
       "    </tr>\n",
       "    <tr>\n",
       "      <th>2</th>\n",
       "      <td>3.3</td>\n",
       "      <td>5.2</td>\n",
       "      <td>42.0</td>\n",
       "      <td>114.7</td>\n",
       "      <td>90.0</td>\n",
       "      <td>314.1</td>\n",
       "      <td>363.8</td>\n",
       "      <td>350.6</td>\n",
       "      <td>72.9</td>\n",
       "      <td>228.1</td>\n",
       "      <td>101.9</td>\n",
       "      <td>11.3</td>\n",
       "    </tr>\n",
       "    <tr>\n",
       "      <th>3</th>\n",
       "      <td>6.1</td>\n",
       "      <td>9.7</td>\n",
       "      <td>46.5</td>\n",
       "      <td>88.7</td>\n",
       "      <td>125.4</td>\n",
       "      <td>335.7</td>\n",
       "      <td>448.6</td>\n",
       "      <td>241.5</td>\n",
       "      <td>104.6</td>\n",
       "      <td>155.6</td>\n",
       "      <td>33.4</td>\n",
       "      <td>47.1</td>\n",
       "    </tr>\n",
       "    <tr>\n",
       "      <th>4</th>\n",
       "      <td>19.2</td>\n",
       "      <td>28.3</td>\n",
       "      <td>19.8</td>\n",
       "      <td>44.1</td>\n",
       "      <td>176.2</td>\n",
       "      <td>228.2</td>\n",
       "      <td>340.3</td>\n",
       "      <td>235.8</td>\n",
       "      <td>194.2</td>\n",
       "      <td>128.6</td>\n",
       "      <td>140.2</td>\n",
       "      <td>68.7</td>\n",
       "    </tr>\n",
       "  </tbody>\n",
       "</table>\n",
       "</div>"
      ],
      "text/plain": [
       "   MlaR01  MlaR02  MlaR03  MlaR04  MlaR05  MlaR06  MlaR07  MlaR08  MlaR09  \\\n",
       "0     4.8    46.8    41.4    97.7   262.8   205.4   215.5   415.2   245.1   \n",
       "1    12.9    45.0    16.8   105.3   166.0   258.6    91.0   330.9    93.0   \n",
       "2     3.3     5.2    42.0   114.7    90.0   314.1   363.8   350.6    72.9   \n",
       "3     6.1     9.7    46.5    88.7   125.4   335.7   448.6   241.5   104.6   \n",
       "4    19.2    28.3    19.8    44.1   176.2   228.2   340.3   235.8   194.2   \n",
       "\n",
       "   MlaR10  MlaR11  MlaR12  \n",
       "0    21.5    47.9    53.6  \n",
       "1   115.8    12.3     5.4  \n",
       "2   228.1   101.9    11.3  \n",
       "3   155.6    33.4    47.1  \n",
       "4   128.6   140.2    68.7  "
      ]
     },
     "execution_count": 7,
     "metadata": {},
     "output_type": "execute_result"
    }
   ],
   "source": [
    "MlaR=df.iloc[:40,0:12]\n",
    "MlaR.head()"
   ]
  },
  {
   "cell_type": "markdown",
   "metadata": {},
   "source": [
    "#### The Mla Temperature data:"
   ]
  },
  {
   "cell_type": "code",
   "execution_count": 8,
   "metadata": {},
   "outputs": [
    {
     "data": {
      "text/html": [
       "<div>\n",
       "<table border=\"1\" class=\"dataframe\">\n",
       "  <thead>\n",
       "    <tr style=\"text-align: right;\">\n",
       "      <th></th>\n",
       "      <th>MlaAT01</th>\n",
       "      <th>MlaAT02</th>\n",
       "      <th>MlaAT03</th>\n",
       "      <th>MlaAT04</th>\n",
       "      <th>MlaAT05</th>\n",
       "      <th>MlaAT06</th>\n",
       "      <th>MlaAT07</th>\n",
       "      <th>MlaAT08</th>\n",
       "      <th>MlaAT09</th>\n",
       "      <th>MlaAT10</th>\n",
       "      <th>MlaAT11</th>\n",
       "      <th>MlaAT12</th>\n",
       "    </tr>\n",
       "  </thead>\n",
       "  <tbody>\n",
       "    <tr>\n",
       "      <th>0</th>\n",
       "      <td>15.8</td>\n",
       "      <td>18.7</td>\n",
       "      <td>20.5</td>\n",
       "      <td>22.9</td>\n",
       "      <td>24.5</td>\n",
       "      <td>24.4</td>\n",
       "      <td>24.8</td>\n",
       "      <td>24.2</td>\n",
       "      <td>23.6</td>\n",
       "      <td>22.2</td>\n",
       "      <td>18.7</td>\n",
       "      <td>16.2</td>\n",
       "    </tr>\n",
       "    <tr>\n",
       "      <th>1</th>\n",
       "      <td>14.8</td>\n",
       "      <td>16.4</td>\n",
       "      <td>18.0</td>\n",
       "      <td>22.5</td>\n",
       "      <td>24.4</td>\n",
       "      <td>24.5</td>\n",
       "      <td>25.1</td>\n",
       "      <td>24.4</td>\n",
       "      <td>23.4</td>\n",
       "      <td>21.4</td>\n",
       "      <td>18.6</td>\n",
       "      <td>14.7</td>\n",
       "    </tr>\n",
       "    <tr>\n",
       "      <th>2</th>\n",
       "      <td>13.2</td>\n",
       "      <td>16.0</td>\n",
       "      <td>18.8</td>\n",
       "      <td>21.9</td>\n",
       "      <td>24.3</td>\n",
       "      <td>24.6</td>\n",
       "      <td>24.7</td>\n",
       "      <td>24.0</td>\n",
       "      <td>24.4</td>\n",
       "      <td>21.4</td>\n",
       "      <td>19.2</td>\n",
       "      <td>15.3</td>\n",
       "    </tr>\n",
       "    <tr>\n",
       "      <th>3</th>\n",
       "      <td>15.7</td>\n",
       "      <td>16.7</td>\n",
       "      <td>19.7</td>\n",
       "      <td>22.4</td>\n",
       "      <td>24.0</td>\n",
       "      <td>24.4</td>\n",
       "      <td>23.8</td>\n",
       "      <td>24.2</td>\n",
       "      <td>23.6</td>\n",
       "      <td>22.7</td>\n",
       "      <td>17.8</td>\n",
       "      <td>14.7</td>\n",
       "    </tr>\n",
       "    <tr>\n",
       "      <th>4</th>\n",
       "      <td>14.3</td>\n",
       "      <td>16.7</td>\n",
       "      <td>18.8</td>\n",
       "      <td>22.6</td>\n",
       "      <td>24.3</td>\n",
       "      <td>24.3</td>\n",
       "      <td>24.4</td>\n",
       "      <td>23.6</td>\n",
       "      <td>23.2</td>\n",
       "      <td>21.6</td>\n",
       "      <td>18.1</td>\n",
       "      <td>16.9</td>\n",
       "    </tr>\n",
       "  </tbody>\n",
       "</table>\n",
       "</div>"
      ],
      "text/plain": [
       "   MlaAT01  MlaAT02  MlaAT03  MlaAT04  MlaAT05  MlaAT06  MlaAT07  MlaAT08  \\\n",
       "0     15.8     18.7     20.5     22.9     24.5     24.4     24.8     24.2   \n",
       "1     14.8     16.4     18.0     22.5     24.4     24.5     25.1     24.4   \n",
       "2     13.2     16.0     18.8     21.9     24.3     24.6     24.7     24.0   \n",
       "3     15.7     16.7     19.7     22.4     24.0     24.4     23.8     24.2   \n",
       "4     14.3     16.7     18.8     22.6     24.3     24.3     24.4     23.6   \n",
       "\n",
       "   MlaAT09  MlaAT10  MlaAT11  MlaAT12  \n",
       "0     23.6     22.2     18.7     16.2  \n",
       "1     23.4     21.4     18.6     14.7  \n",
       "2     24.4     21.4     19.2     15.3  \n",
       "3     23.6     22.7     17.8     14.7  \n",
       "4     23.2     21.6     18.1     16.9  "
      ]
     },
     "execution_count": 8,
     "metadata": {},
     "output_type": "execute_result"
    }
   ],
   "source": [
    "MlaAT=df.iloc[:40,12:24]\n",
    "MlaAT.head()"
   ]
  },
  {
   "cell_type": "markdown",
   "metadata": {},
   "source": [
    "### QQ plot:"
   ]
  },
  {
   "cell_type": "code",
   "execution_count": 61,
   "metadata": {
    "scrolled": true
   },
   "outputs": [
    {
     "data": {
      "image/png": "[encoded data removed]",
      "text/plain": [
       "<matplotlib.figure.Figure at 0xf8c1770>"
      ]
     },
     "metadata": {},
     "output_type": "display_data"
    }
   ],
   "source": [
    "import scipy.stats as stats\n",
    "plt.figure()\n",
    "plt.title('QQ plot')\n",
    "sample_data = Mla\n",
    "sample_data = np.random.normal(size=480)\n",
    "graph1 = stats.probplot(sample_data, dist=\"norm\", plot=plt)"
   ]
  },
  {
   "cell_type": "markdown",
   "metadata": {},
   "source": [
    "### Scatter plot:"
   ]
  },
  {
   "cell_type": "code",
   "execution_count": 10,
   "metadata": {},
   "outputs": [
    {
     "data": {
      "image/png": "[encoded data removed]",
      "text/plain": [
       "<matplotlib.figure.Figure at 0x9388f30>"
      ]
     },
     "metadata": {},
     "output_type": "display_data"
    }
   ],
   "source": [
    "plt.scatter(MlaAT, MlaR)\n",
    "plt.xlabel('Temperature')\n",
    "plt.ylabel('Rainfall')\n",
    "plt.title('Mla Temperature and Rainfall(40 years)')\n",
    "plt.show()"
   ]
  },
  {
   "cell_type": "markdown",
   "metadata": {},
   "source": [
    "The scatter plot shows that there is a correlation between the rainfall and temperature. "
   ]
  },
  {
   "cell_type": "code",
   "execution_count": 11,
   "metadata": {},
   "outputs": [
    {
     "data": {
      "text/plain": [
       "MlaAT01    15.7750\n",
       "MlaAT02    17.3975\n",
       "MlaAT03    20.0750\n",
       "MlaAT04    22.9175\n",
       "MlaAT05    24.6000\n",
       "MlaAT06    25.0475\n",
       "MlaAT07    24.7600\n",
       "MlaAT08    24.5225\n",
       "MlaAT09    23.9400\n",
       "MlaAT10    22.1725\n",
       "MlaAT11    19.0775\n",
       "MlaAT12    15.9025\n",
       "dtype: float64"
      ]
     },
     "execution_count": 11,
     "metadata": {},
     "output_type": "execute_result"
    }
   ],
   "source": [
    "X=MlaAT.mean()\n",
    "X"
   ]
  },
  {
   "cell_type": "code",
   "execution_count": 12,
   "metadata": {},
   "outputs": [
    {
     "data": {
      "text/plain": [
       "MlaR01     19.5625\n",
       "MlaR02     22.6975\n",
       "MlaR03     37.5500\n",
       "MlaR04     96.3525\n",
       "MlaR05    167.6575\n",
       "MlaR06    225.6800\n",
       "MlaR07    303.8600\n",
       "MlaR08    308.0700\n",
       "MlaR09    158.2900\n",
       "MlaR10     93.9275\n",
       "MlaR11     54.0475\n",
       "MlaR12     29.5425\n",
       "dtype: float64"
      ]
     },
     "execution_count": 12,
     "metadata": {},
     "output_type": "execute_result"
    }
   ],
   "source": [
    "Y=MlaR.mean()\n",
    "Y"
   ]
  },
  {
   "cell_type": "code",
   "execution_count": 15,
   "metadata": {},
   "outputs": [
    {
     "data": {
      "image/png": "[encoded data removed]",
      "text/plain": [
       "<matplotlib.figure.Figure at 0x954a130>"
      ]
     },
     "metadata": {},
     "output_type": "display_data"
    }
   ],
   "source": [
    "plt.scatter(X, Y)\n",
    "plt.xlabel('X')\n",
    "plt.ylabel('Y')\n",
    "plt.title('Mla Air temperature and rainfall(40 years)')\n",
    "plt.show()"
   ]
  },
  {
   "cell_type": "code",
   "execution_count": 16,
   "metadata": {},
   "outputs": [
    {
     "data": {
      "image/png": "[encoded data removed]",
      "text/plain": [
       "<matplotlib.figure.Figure at 0x9590c10>"
      ]
     },
     "metadata": {},
     "output_type": "display_data"
    }
   ],
   "source": [
    "slope, intercept, r_value, p_value, slope_std_error = stats.linregress(X, Y)\n",
    "\n",
    "predict_Y= intercept + slope * X\n",
    "pred_error = Y - predict_Y\n",
    "degrees_of_freedom = len(X) - 2\n",
    "residual_std_error = np.sqrt(np.sum(pred_error**2) / degrees_of_freedom)\n",
    "\n",
    "# Plotting\n",
    "pylab.plot(X, Y, 'o')\n",
    "pylab.plot(X, predict_Y, 'k-')\n",
    "pylab.show()"
   ]
  },
  {
   "cell_type": "markdown",
   "metadata": {},
   "source": [
    "### Using PyMC3:"
   ]
  },
  {
   "cell_type": "markdown",
   "metadata": {},
   "source": [
    "### Model specification:"
   ]
  },
  {
   "cell_type": "code",
   "execution_count": 45,
   "metadata": {},
   "outputs": [],
   "source": [
    "from pymc3 import Model, Normal,HalfNormal\n",
    "# The following code implements the model in PyMC3: \n",
    "basic_model = Model()\n",
    "with basic_model:\n",
    "    # Priors for unknown model parameters\n",
    "    intercept = Normal('intercept',mu=0, sd=10) #mu:mean ; sd:standard deviation; \n",
    "    slope = Normal('slope',mu=0, sd=10, shape=1)#shape:the length or shape of the variable\n",
    "    sigma=HalfNormal('sigma',sd=1)\n",
    "    # Expected value of outcome\n",
    "    mu = intercept + slope*X + sigma\n",
    "    \n",
    "    # Likelihood (sampling distribution) of observations\n",
    "    Y_obs = Normal('Y_obs',mu=mu, sd=sigma, observed=Y)"
   ]
  },
  {
   "cell_type": "markdown",
   "metadata": {},
   "source": [
    "### Model fitting:\n",
    "#### MAP:"
   ]
  },
  {
   "cell_type": "code",
   "execution_count": 46,
   "metadata": {
    "scrolled": false
   },
   "outputs": [
    {
     "name": "stdout",
     "output_type": "stream",
     "text": [
      "Optimization terminated successfully.\n",
      "         Current function value: 340.258018\n",
      "         Iterations: 41\n",
      "         Function evaluations: 52\n",
      "         Gradient evaluations: 52\n",
      "{'intercept': array(-41.63538885470789), 'slope': array([ 7.54251035]), 'sigma_log__': array(2.806193741960097)}\n"
     ]
    }
   ],
   "source": [
    "from pymc3 import find_MAP\n",
    "map_estimate=find_MAP(model=basic_model)\n",
    "print(map_estimate)"
   ]
  },
  {
   "cell_type": "markdown",
   "metadata": {},
   "source": [
    "#### Gradient-based sampling methods:"
   ]
  },
  {
   "cell_type": "code",
   "execution_count": 47,
   "metadata": {},
   "outputs": [
    {
     "name": "stdout",
     "output_type": "stream",
     "text": [
      "Optimization terminated successfully.\n",
      "         Current function value: 340.258018\n",
      "         Iterations: 5\n",
      "         Function evaluations: 176\n",
      "{'intercept': array(-41.63136326408326), 'slope': array([ 7.54254437]), 'sigma_log__': array(2.8061867663201343)}\n"
     ]
    }
   ],
   "source": [
    "from scipy import optimize\n",
    "map_estimate = find_MAP(model=basic_model, fmin=optimize.fmin_powell)\n",
    "print(map_estimate)"
   ]
  },
  {
   "cell_type": "code",
   "execution_count": 48,
   "metadata": {},
   "outputs": [
    {
     "name": "stdout",
     "output_type": "stream",
     "text": [
      "Optimization terminated successfully.\n",
      "         Current function value: 340.258018\n",
      "         Iterations: 5\n",
      "         Function evaluations: 176\n"
     ]
    },
    {
     "name": "stderr",
     "output_type": "stream",
     "text": [
      "100%|██████████████████████████████████████| 2500/2500 [01:50<00:00, 19.46it/s]\n"
     ]
    }
   ],
   "source": [
    "from pymc3 import NUTS, sample\n",
    "with basic_model:\n",
    "    # obtain starting values via MAP\n",
    "    start = find_MAP(fmin=optimize.fmin_powell)\n",
    "    # instantiate sampler\n",
    "    step = NUTS(scaling=start)\n",
    "    # draw 2000 posterior samples\n",
    "    trace = sample(2000, step, start=start)"
   ]
  },
  {
   "cell_type": "code",
   "execution_count": 49,
   "metadata": {},
   "outputs": [
    {
     "data": {
      "text/plain": [
       "array([-40.84401109, -50.57523012, -39.91464832, -42.82403796, -31.67888413])"
      ]
     },
     "execution_count": 49,
     "metadata": {},
     "output_type": "execute_result"
    }
   ],
   "source": [
    "trace['intercept'][-5:] #extract the last 5 values for the intercept variable."
   ]
  },
  {
   "cell_type": "markdown",
   "metadata": {},
   "source": [
    "#### Posterior analysis"
   ]
  },
  {
   "cell_type": "code",
   "execution_count": 50,
   "metadata": {},
   "outputs": [
    {
     "data": {
      "text/plain": [
       "array([[<matplotlib.axes._subplots.AxesSubplot object at 0x0AC3F070>,\n",
       "        <matplotlib.axes._subplots.AxesSubplot object at 0x0F3F3F90>],\n",
       "       [<matplotlib.axes._subplots.AxesSubplot object at 0x0F431930>,\n",
       "        <matplotlib.axes._subplots.AxesSubplot object at 0x0F797070>],\n",
       "       [<matplotlib.axes._subplots.AxesSubplot object at 0x0F7C0D90>,\n",
       "        <matplotlib.axes._subplots.AxesSubplot object at 0x0F805490>]], dtype=object)"
      ]
     },
     "execution_count": 50,
     "metadata": {},
     "output_type": "execute_result"
    },
    {
     "data": {
      "image/png": "[encoded data removed]",
      "text/plain": [
       "<matplotlib.figure.Figure at 0xace77f0>"
      ]
     },
     "metadata": {},
     "output_type": "display_data"
    }
   ],
   "source": [
    "from pymc3 import traceplot\n",
    "traceplot(trace)"
   ]
  },
  {
   "cell_type": "code",
   "execution_count": 51,
   "metadata": {},
   "outputs": [
    {
     "name": "stdout",
     "output_type": "stream",
     "text": [
      "\n",
      "intercept:\n",
      "\n",
      "  Mean             SD               MC Error         95% HPD interval\n",
      "  -------------------------------------------------------------------\n",
      "  \n",
      "  -41.563          10.423           0.446            [-61.477, -20.871]\n",
      "\n",
      "  Posterior quantiles:\n",
      "  2.5            25             50             75             97.5\n",
      "  |--------------|==============|==============|--------------|\n",
      "  \n",
      "  -60.959        -48.608        -41.668        -34.529        -20.142\n",
      "\n",
      "\n",
      "slope:\n",
      "\n",
      "  Mean             SD               MC Error         95% HPD interval\n",
      "  -------------------------------------------------------------------\n",
      "  \n",
      "  7.542            0.529            0.022            [6.402, 8.510]\n",
      "\n",
      "  Posterior quantiles:\n",
      "  2.5            25             50             75             97.5\n",
      "  |--------------|==============|==============|--------------|\n",
      "  \n",
      "  6.437          7.202          7.540          7.890          8.558\n",
      "\n",
      "\n",
      "sigma:\n",
      "\n",
      "  Mean             SD               MC Error         95% HPD interval\n",
      "  -------------------------------------------------------------------\n",
      "  \n",
      "  16.569           0.502            0.012            [15.591, 17.531]\n",
      "\n",
      "  Posterior quantiles:\n",
      "  2.5            25             50             75             97.5\n",
      "  |--------------|==============|==============|--------------|\n",
      "  \n",
      "  15.617         16.218         16.555         16.908         17.562\n",
      "\n"
     ]
    }
   ],
   "source": [
    "from pymc3 import summary\n",
    "summary(trace)"
   ]
  },
  {
   "cell_type": "markdown",
   "metadata": {},
   "source": [
    "### Some try with OLS regression:"
   ]
  },
  {
   "cell_type": "markdown",
   "metadata": {},
   "source": [
    "#### Linear Regression on Mla:"
   ]
  },
  {
   "cell_type": "code",
   "execution_count": 52,
   "metadata": {},
   "outputs": [],
   "source": [
    "import random\n",
    "import scipy as sp\n",
    "import seaborn as sns\n",
    "\n",
    "import statsmodels.api as sm\n",
    "import statsmodels.formula.api as smf"
   ]
  },
  {
   "cell_type": "markdown",
   "metadata": {},
   "source": [
    "#### Predicting Mla Temperature"
   ]
  },
  {
   "cell_type": "code",
   "execution_count": 53,
   "metadata": {},
   "outputs": [],
   "source": [
    "n = len(Mla)\n",
    "Mla_train = np.random.rand(n) < 0.7\n",
    "train = Mla[Mla_train].reset_index(drop=True)\n",
    "test = Mla[Mla_train].reset_index(drop=True)"
   ]
  },
  {
   "cell_type": "code",
   "execution_count": null,
   "metadata": {},
   "outputs": [],
   "source": []
  },
  {
   "cell_type": "code",
   "execution_count": 55,
   "metadata": {},
   "outputs": [
    {
     "data": {
      "text/html": [
       "<table class=\"simpletable\">\n",
       "<caption>OLS Regression Results</caption>\n",
       "<tr>\n",
       "  <th>Dep. Variable:</th>         <td>MlaAT01</td>     <th>  R-squared:         </th> <td>   0.018</td>\n",
       "</tr>\n",
       "<tr>\n",
       "  <th>Model:</th>                   <td>OLS</td>       <th>  Adj. R-squared:    </th> <td>  -0.017</td>\n",
       "</tr>\n",
       "<tr>\n",
       "  <th>Method:</th>             <td>Least Squares</td>  <th>  F-statistic:       </th> <td>  0.5276</td>\n",
       "</tr>\n",
       "<tr>\n",
       "  <th>Date:</th>             <td>Thu, 12 Oct 2017</td> <th>  Prob (F-statistic):</th>  <td> 0.474</td> \n",
       "</tr>\n",
       "<tr>\n",
       "  <th>Time:</th>                 <td>09:28:56</td>     <th>  Log-Likelihood:    </th> <td> -42.709</td>\n",
       "</tr>\n",
       "<tr>\n",
       "  <th>No. Observations:</th>      <td>    30</td>      <th>  AIC:               </th> <td>   89.42</td>\n",
       "</tr>\n",
       "<tr>\n",
       "  <th>Df Residuals:</th>          <td>    28</td>      <th>  BIC:               </th> <td>   92.22</td>\n",
       "</tr>\n",
       "<tr>\n",
       "  <th>Df Model:</th>              <td>     1</td>      <th>                     </th>     <td> </td>   \n",
       "</tr>\n",
       "<tr>\n",
       "  <th>Covariance Type:</th>      <td>nonrobust</td>    <th>                     </th>     <td> </td>   \n",
       "</tr>\n",
       "</table>\n",
       "<table class=\"simpletable\">\n",
       "<tr>\n",
       "      <td></td>         <th>coef</th>     <th>std err</th>      <th>t</th>      <th>P>|t|</th>  <th>[0.025</th>    <th>0.975]</th>  \n",
       "</tr>\n",
       "<tr>\n",
       "  <th>Intercept</th> <td>   15.7258</td> <td>    0.249</td> <td>   63.036</td> <td> 0.000</td> <td>   15.215</td> <td>   16.237</td>\n",
       "</tr>\n",
       "<tr>\n",
       "  <th>MlaR01</th>    <td>    0.0053</td> <td>    0.007</td> <td>    0.726</td> <td> 0.474</td> <td>   -0.010</td> <td>    0.020</td>\n",
       "</tr>\n",
       "</table>\n",
       "<table class=\"simpletable\">\n",
       "<tr>\n",
       "  <th>Omnibus:</th>       <td> 1.168</td> <th>  Durbin-Watson:     </th> <td>   2.007</td>\n",
       "</tr>\n",
       "<tr>\n",
       "  <th>Prob(Omnibus):</th> <td> 0.558</td> <th>  Jarque-Bera (JB):  </th> <td>   0.599</td>\n",
       "</tr>\n",
       "<tr>\n",
       "  <th>Skew:</th>          <td>-0.344</td> <th>  Prob(JB):          </th> <td>   0.741</td>\n",
       "</tr>\n",
       "<tr>\n",
       "  <th>Kurtosis:</th>      <td> 3.078</td> <th>  Cond. No.          </th> <td>    45.2</td>\n",
       "</tr>\n",
       "</table>"
      ],
      "text/plain": [
       "<class 'statsmodels.iolib.summary.Summary'>\n",
       "\"\"\"\n",
       "                            OLS Regression Results                            \n",
       "==============================================================================\n",
       "Dep. Variable:                MlaAT01   R-squared:                       0.018\n",
       "Model:                            OLS   Adj. R-squared:                 -0.017\n",
       "Method:                 Least Squares   F-statistic:                    0.5276\n",
       "Date:                Thu, 12 Oct 2017   Prob (F-statistic):              0.474\n",
       "Time:                        09:28:56   Log-Likelihood:                -42.709\n",
       "No. Observations:                  30   AIC:                             89.42\n",
       "Df Residuals:                      28   BIC:                             92.22\n",
       "Df Model:                           1                                         \n",
       "Covariance Type:            nonrobust                                         \n",
       "==============================================================================\n",
       "                 coef    std err          t      P>|t|      [0.025      0.975]\n",
       "------------------------------------------------------------------------------\n",
       "Intercept     15.7258      0.249     63.036      0.000      15.215      16.237\n",
       "MlaR01         0.0053      0.007      0.726      0.474      -0.010       0.020\n",
       "==============================================================================\n",
       "Omnibus:                        1.168   Durbin-Watson:                   2.007\n",
       "Prob(Omnibus):                  0.558   Jarque-Bera (JB):                0.599\n",
       "Skew:                          -0.344   Prob(JB):                        0.741\n",
       "Kurtosis:                       3.078   Cond. No.                         45.2\n",
       "==============================================================================\n",
       "\n",
       "Warnings:\n",
       "[1] Standard Errors assume that the covariance matrix of the errors is correctly specified.\n",
       "\"\"\""
      ]
     },
     "execution_count": 55,
     "metadata": {},
     "output_type": "execute_result"
    }
   ],
   "source": [
    "lin_model = smf.ols('MlaAT01~MlaR01', train).fit()\n",
    "lin_model.summary()"
   ]
  },
  {
   "cell_type": "code",
   "execution_count": null,
   "metadata": {
    "collapsed": true
   },
   "outputs": [],
   "source": [
    "lin_model = smf.ols('MlaR01~MlaAT01',train).fit()\n",
    "lin_model.summary()"
   ]
  },
  {
   "cell_type": "markdown",
   "metadata": {},
   "source": [
    "#### Testing Accuracy using RMSE"
   ]
  },
  {
   "cell_type": "code",
   "execution_count": 56,
   "metadata": {},
   "outputs": [
    {
     "name": "stdout",
     "output_type": "stream",
     "text": [
      "The RMSE is 5.503001311662206\n"
     ]
    }
   ],
   "source": [
    "def rmse(y, yhat):\n",
    "    return np.sum((y - yhat)**2)**0.5\n",
    "\n",
    "preds = lin_model.predict(test)\n",
    "print('The RMSE is {}'.format(rmse(test['MlaAT01'], preds)))"
   ]
  },
  {
   "cell_type": "markdown",
   "metadata": {},
   "source": [
    "#### Expanding model"
   ]
  },
  {
   "cell_type": "code",
   "execution_count": 57,
   "metadata": {
    "scrolled": true
   },
   "outputs": [
    {
     "name": "stdout",
     "output_type": "stream",
     "text": [
      "                            OLS Regression Results                            \n",
      "==============================================================================\n",
      "Dep. Variable:                MlaAT01   R-squared:                       0.588\n",
      "Model:                            OLS   Adj. R-squared:                  0.523\n",
      "Method:                 Least Squares   F-statistic:                     8.935\n",
      "Date:                Thu, 12 Oct 2017   Prob (F-statistic):           0.000127\n",
      "Time:                        09:29:01   Log-Likelihood:                -29.673\n",
      "No. Observations:                  30   AIC:                             69.35\n",
      "Df Residuals:                      25   BIC:                             76.35\n",
      "Df Model:                           4                                         \n",
      "Covariance Type:            nonrobust                                         \n",
      "==============================================================================\n",
      "                 coef    std err          t      P>|t|      [0.025      0.975]\n",
      "------------------------------------------------------------------------------\n",
      "Intercept     -1.2277      4.575     -0.268      0.791     -10.651       8.195\n",
      "MlaR01         0.0042      0.005      0.843      0.407      -0.006       0.015\n",
      "MlaAT02        0.5754      0.171      3.360      0.003       0.223       0.928\n",
      "MlaAT03        0.4368      0.185      2.359      0.026       0.055       0.818\n",
      "MlaAT04       -0.0827      0.208     -0.397      0.694      -0.511       0.346\n",
      "==============================================================================\n",
      "Omnibus:                        3.838   Durbin-Watson:                   1.798\n",
      "Prob(Omnibus):                  0.147   Jarque-Bera (JB):                1.546\n",
      "Skew:                           0.022   Prob(JB):                        0.462\n",
      "Kurtosis:                       1.889   Cond. No.                     1.57e+03\n",
      "==============================================================================\n",
      "\n",
      "Warnings:\n",
      "[1] Standard Errors assume that the covariance matrix of the errors is correctly specified.\n",
      "[2] The condition number is large, 1.57e+03. This might indicate that there are\n",
      "strong multicollinearity or other numerical problems.\n"
     ]
    }
   ],
   "source": [
    "lin_model = smf.ols('MlaAT01 ~ MlaR01+MlaAT02+MlaAT03+MlaAT04 ', train).fit()\n",
    "print(lin_model.summary())"
   ]
  },
  {
   "cell_type": "code",
   "execution_count": 58,
   "metadata": {},
   "outputs": [
    {
     "name": "stdout",
     "output_type": "stream",
     "text": [
      "The RMSE is 3.5635725518426575\n"
     ]
    }
   ],
   "source": [
    "preds = lin_model.predict(test)\n",
    "print('The RMSE is {}'.format(rmse(test['MlaAT01'], preds)))"
   ]
  },
  {
   "cell_type": "code",
   "execution_count": 59,
   "metadata": {},
   "outputs": [
    {
     "data": {
      "text/plain": [
       "<matplotlib.text.Text at 0xf897090>"
      ]
     },
     "execution_count": 59,
     "metadata": {},
     "output_type": "execute_result"
    },
    {
     "data": {
      "image/png": "[encoded data removed]",
      "text/plain": [
       "<matplotlib.figure.Figure at 0xfa639f0>"
      ]
     },
     "metadata": {},
     "output_type": "display_data"
    }
   ],
   "source": [
    "Mla['MlaAT01_hat'] = lin_model.predict(Mla)\n",
    "\n",
    "f,ax = plt.subplots()\n",
    "\n",
    "ax.scatter(Mla['MlaAT01_hat'], Mla['MlaAT01'])\n",
    "ax.set_xlabel('prediction')\n",
    "ax.set_ylabel('outcome')\n",
    "ax.set_title('Evaluating model')"
   ]
  },
  {
   "cell_type": "code",
   "execution_count": 60,
   "metadata": {},
   "outputs": [
    {
     "data": {
      "text/plain": [
       "<seaborn.axisgrid.PairGrid at 0xfa63cd0>"
      ]
     },
     "execution_count": 60,
     "metadata": {},
     "output_type": "execute_result"
    },
    {
     "data": {
      "image/png": "[encoded data removed]",
      "text/plain": [
       "<matplotlib.figure.Figure at 0xfa635f0>"
      ]
     },
     "metadata": {},
     "output_type": "display_data"
    }
   ],
   "source": [
    "sns.pairplot(Mla, y_vars=['MlaAT01_hat'], x_vars=['MlaR01', 'MlaAT02','MlaAT03','MlaAT04'])"
   ]
  },
  {
   "cell_type": "code",
   "execution_count": null,
   "metadata": {},
   "outputs": [],
   "source": []
  }
 ],
 "metadata": {
  "kernelspec": {
   "display_name": "Python 3",
   "language": "python",
   "name": "python3"
  },
  "language_info": {
   "codemirror_mode": {
    "name": "ipython",
    "version": 3
   },
   "file_extension": ".py",
   "mimetype": "text/x-python",
   "name": "python",
   "nbconvert_exporter": "python",
   "pygments_lexer": "ipython3",
   "version": "3.6.5"
  }
 },
 "nbformat": 4,
 "nbformat_minor": 2
}
